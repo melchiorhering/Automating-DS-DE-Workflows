{
 "cells": [
  {
   "cell_type": "code",
   "execution_count": null,
   "id": "21581dc3",
   "metadata": {},
   "outputs": [],
   "source": [
    "from sandbox.qemu import QemuVMManager, VMConfig, SSHConfig\n",
    "from pathlib import Path"
   ]
  },
  {
   "cell_type": "code",
   "execution_count": null,
   "id": "da3b1da7",
   "metadata": {},
   "outputs": [],
   "source": [
    "Path(\"./docker/shared\").resolve().as_posix()\n",
    "Path(\"/shared\").name\n",
    "(Path(\"./docker/shared\") / \"TestVM\").name"
   ]
  },
  {
   "cell_type": "code",
   "execution_count": null,
   "id": "023ca67d",
   "metadata": {},
   "outputs": [],
   "source": [
    "import time\n",
    "\n",
    "\n",
    "cfg = VMConfig(\n",
    "    container_name=\"TestVM\",\n",
    "    vm_base_dir=\"./docker/vms/ubuntu-noble\",\n",
    "    host_shared_dir=\"./docker/shared\",\n",
    "    server_host_dir=\"./server\",\n",
    "    extra_ports={8000: 8000},\n",
    "    runtime_env={\n",
    "        \"HOST\": \"0.0.0.0\",\n",
    "        \"PORT\": \"8000\",\n",
    "        \"DISPLAY\": \":0\",\n",
    "    },\n",
    ")\n",
    "\n",
    "\n",
    "ssh_cfg = SSHConfig(username=\"user\", password=\"password\", port=2222)\n",
    "vm = QemuVMManager(config=cfg, ssh_config=ssh_cfg)\n",
    "\n",
    "# This will create (or reuse) the container, start it, wait for SSH and deploy your server:\n",
    "vm.get_or_create_container(start_if_stopped=True, setup_if_needed=False)\n",
    "\n",
    "# 2) Run a one‑off command over SSH\n",
    "with vm.get_ssh_client() as ssh:\n",
    "    res = ssh.exec_command(\"uname -a\")\n",
    "    print(\"Kernel:\", res[\"stdout\"].strip())\n",
    "\n",
    "    # 3) Now drop into a fully interactive shell\n",
    "    ssh.open_shell()\n",
    "# when you exit that shell, the SSH connection is automatically cleaned up\n"
   ]
  },
  {
   "cell_type": "code",
   "execution_count": null,
   "id": "114ea4e6",
   "metadata": {},
   "outputs": [],
   "source": [
    "# manager.get_or_create_container(setup_if_needed=True)\n",
    "# manager.get_or_create_container()\n",
    "time.sleep(240)\n",
    "manager.stop_and_cleanup()"
   ]
  },
  {
   "cell_type": "code",
   "execution_count": null,
   "id": "b92cccb8",
   "metadata": {},
   "outputs": [],
   "source": []
  }
 ],
 "metadata": {
  "kernelspec": {
   "display_name": ".venv (3.11.9)",
   "language": "python",
   "name": "python3"
  },
  "language_info": {
   "codemirror_mode": {
    "name": "ipython",
    "version": 3
   },
   "file_extension": ".py",
   "mimetype": "text/x-python",
   "name": "python",
   "nbconvert_exporter": "python",
   "pygments_lexer": "ipython3",
   "version": "3.11.9"
  }
 },
 "nbformat": 4,
 "nbformat_minor": 5
}

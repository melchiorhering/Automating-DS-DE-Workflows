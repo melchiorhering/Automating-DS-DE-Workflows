{
 "cells": [
  {
   "cell_type": "code",
   "execution_count": 1,
   "id": "21581dc3",
   "metadata": {},
   "outputs": [],
   "source": [
    "from sandbox.qemu import QemuVMManager, VMConfig"
   ]
  },
  {
   "cell_type": "code",
   "execution_count": 2,
   "id": "023ca67d",
   "metadata": {},
   "outputs": [
    {
     "name": "stderr",
     "output_type": "stream",
     "text": [
      "2025-04-17 10:20:05,586 - QemuVMManager - INFO - VM state changed: created -> created\n"
     ]
    },
    {
     "name": "stderr",
     "output_type": "stream",
     "text": [
      "2025-04-17 10:20:33,099 - QemuVMManager - INFO - Creating container TestVM with storage at /home/smwhering/IS-master-thesis/src/docker/environments/TestVM_1744878005\n",
      "2025-04-17 10:20:33,100 - QemuVMManager - INFO - Binding host docker/shared/TestVM_1744878005 → container /shared docker/shared/TestVM_1744878005\n",
      "2025-04-17 10:20:33,101 - QemuVMManager - INFO - Checking image qemux/qemu locally...\n",
      "2025-04-17 10:20:33,105 - QemuVMManager - INFO - Image qemux/qemu exists.\n",
      "2025-04-17 10:20:33,146 - QemuVMManager - INFO - Container TestVM created\n",
      "2025-04-17 10:20:33,147 - QemuVMManager - INFO - VM state changed: created -> starting\n",
      "2025-04-17 10:20:33,313 - QemuVMManager - INFO - Container TestVM started\n",
      "2025-04-17 10:20:33,313 - QemuVMManager - INFO - VM state changed: starting -> running\n",
      "2025-04-17 10:20:33,313 - QemuVMManager - INFO - SSH connection attempt 1/5...\n",
      "2025-04-17 10:20:33,314 - QemuVMManager - INFO - Connection attempt failed: [Errno None] Unable to connect to port 2222 on 127.0.0.1. Retrying in 2s\n",
      "2025-04-17 10:20:35,315 - QemuVMManager - INFO - SSH connection attempt 2/5...\n",
      "Exception (client): Error reading SSH protocol banner[Errno 104] Connection reset by peer\n",
      "Traceback (most recent call last):\n",
      "  File \"/home/smwhering/IS-master-thesis/.venv/lib/python3.11/site-packages/paramiko/transport.py\", line 2369, in _check_banner\n",
      "    buf = self.packetizer.readline(timeout)\n",
      "          ^^^^^^^^^^^^^^^^^^^^^^^^^^^^^^^^^\n",
      "  File \"/home/smwhering/IS-master-thesis/.venv/lib/python3.11/site-packages/paramiko/packet.py\", line 395, in readline\n",
      "    buf += self._read_timeout(timeout)\n",
      "           ^^^^^^^^^^^^^^^^^^^^^^^^^^^\n",
      "  File \"/home/smwhering/IS-master-thesis/.venv/lib/python3.11/site-packages/paramiko/packet.py\", line 663, in _read_timeout\n",
      "    x = self.__socket.recv(128)\n",
      "        ^^^^^^^^^^^^^^^^^^^^^^^\n",
      "ConnectionResetError: [Errno 104] Connection reset by peer\n",
      "\n",
      "During handling of the above exception, another exception occurred:\n",
      "\n",
      "Traceback (most recent call last):\n",
      "  File \"/home/smwhering/IS-master-thesis/.venv/lib/python3.11/site-packages/paramiko/transport.py\", line 2185, in run\n",
      "    self._check_banner()\n",
      "  File \"/home/smwhering/IS-master-thesis/.venv/lib/python3.11/site-packages/paramiko/transport.py\", line 2373, in _check_banner\n",
      "    raise SSHException(\n",
      "paramiko.ssh_exception.SSHException: Error reading SSH protocol banner[Errno 104] Connection reset by peer\n",
      "\n",
      "2025-04-17 10:20:38,488 - QemuVMManager - INFO - Connection attempt failed: Error reading SSH protocol banner[Errno 104] Connection reset by peer. Retrying in 4s\n",
      "2025-04-17 10:20:42,490 - QemuVMManager - INFO - SSH connection attempt 3/5...\n",
      "2025-04-17 10:20:42,564 - QemuVMManager - INFO - SSH connection established\n",
      "2025-04-17 10:20:42,565 - QemuVMManager - INFO - Executing command: echo 'password' | sudo -S mkdir -p /mnt/TestVM_1744878005 && echo 'password' | sudo -S mount -t 9p -o trans=virtio shared /mnt/TestVM_1744878005\n",
      "2025-04-17 10:20:42,749 - QemuVMManager - INFO - Command executed successfully\n"
     ]
    },
    {
     "data": {
      "text/plain": [
       "<Container: dc9cf5d37ac0>"
      ]
     },
     "execution_count": 2,
     "metadata": {},
     "output_type": "execute_result"
    }
   ],
   "source": [
    "vm_config = VMConfig(\n",
    "    container_name=\"TestVM\",\n",
    "    base_vm_path=\"./docker/vms/ubuntu-noble\",\n",
    "    shared_path=\"./docker/shared\",\n",
    ")\n",
    "\n",
    "\n",
    "manager = QemuVMManager(vm_config)\n",
    "manager.get_or_create_container()"
   ]
  },
  {
   "cell_type": "code",
   "execution_count": 3,
   "id": "c3b5231e",
   "metadata": {},
   "outputs": [
    {
     "name": "stderr",
     "output_type": "stream",
     "text": [
      "2025-04-17 10:21:18,548 - QemuVMManager - INFO - Stopping container...\n",
      "2025-04-17 10:21:19,954 - QemuVMManager - INFO - Removing container...\n",
      "2025-04-17 10:21:19,966 - QemuVMManager - INFO - Container removed.\n",
      "2025-04-17 10:21:19,967 - QemuVMManager - INFO - Deleting instance storage directory: /home/smwhering/IS-master-thesis/src/docker/environments/TestVM_1744877700\n",
      "2025-04-17 10:21:20,417 - QemuVMManager - INFO - Deleted instance storage: /home/smwhering/IS-master-thesis/src/docker/environments/TestVM_1744877700\n",
      "2025-04-17 10:21:20,418 - QemuVMManager - INFO - Deleting instance storage directory: /home/smwhering/IS-master-thesis/src/docker/environments/TestVM_1744878005\n",
      "2025-04-17 10:21:21,161 - QemuVMManager - INFO - Deleted instance storage: /home/smwhering/IS-master-thesis/src/docker/environments/TestVM_1744878005\n"
     ]
    }
   ],
   "source": [
    "manager.cleanup_vm()"
   ]
  },
  {
   "cell_type": "code",
   "execution_count": null,
   "id": "3a5b26b9",
   "metadata": {},
   "outputs": [],
   "source": []
  }
 ],
 "metadata": {
  "kernelspec": {
   "display_name": ".venv (3.11.9)",
   "language": "python",
   "name": "python3"
  },
  "language_info": {
   "codemirror_mode": {
    "name": "ipython",
    "version": 3
   },
   "file_extension": ".py",
   "mimetype": "text/x-python",
   "name": "python",
   "nbconvert_exporter": "python",
   "pygments_lexer": "ipython3",
   "version": "3.11.9"
  }
 },
 "nbformat": 4,
 "nbformat_minor": 5
}

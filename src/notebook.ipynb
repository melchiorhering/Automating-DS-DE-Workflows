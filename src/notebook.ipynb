{
 "cells": [
  {
   "cell_type": "code",
   "execution_count": 1,
   "id": "b2310bbb",
   "metadata": {},
   "outputs": [],
   "source": [
    "import json\n",
    "import logging\n",
    "import sys\n",
    "from pathlib import Path\n",
    "\n",
    "from sandbox import AgentVMConfig, AgentVMManager, VMServerClient\n",
    "\n",
    "# Logger setup\n",
    "logger = logging.getLogger(\"FastAPITest\")\n",
    "logger.setLevel(logging.INFO)\n",
    "handler = logging.StreamHandler(sys.stdout)\n",
    "formatter = logging.Formatter(\"%(asctime)s [%(levelname)s] %(message)s\")\n",
    "handler.setFormatter(formatter)\n",
    "logger.handlers = [handler]\n"
   ]
  },
  {
   "cell_type": "code",
   "execution_count": null,
   "id": "bc2ae14d",
   "metadata": {},
   "outputs": [
    {
     "ename": "",
     "evalue": "",
     "output_type": "error",
     "traceback": [
      "\u001b[1;31mnotebook controller is DISPOSED. \n",
      "\u001b[1;31mView Jupyter <a href='command:jupyter.viewOutput'>log</a> for further details."
     ]
    }
   ],
   "source": [
    "TEST_CASES = [\n",
    "    {\n",
    "        \"name\": \"Basic code execution\",\n",
    "        \"method\": \"execute_code\",\n",
    "        \"args\": {\"code\": \"print('Hello from FastAPI')\"},\n",
    "    },\n",
    "    {\n",
    "        \"name\": \"Code with package install\",\n",
    "        \"method\": \"execute_code\",\n",
    "        \"args\": {\n",
    "            \"code\": \"import requests\\nprint('Requests version:', requests.__version__)\",\n",
    "            \"packages\": [\"requests\"],\n",
    "        },\n",
    "    },\n",
    "    {\n",
    "        \"name\": \"GUI interaction with screenshot\",\n",
    "        \"method\": \"execute_gui_code\",\n",
    "        \"args\": {\n",
    "            \"code\": \"import pyautogui\\nimport time\\npyautogui.click(x=35, y=60, button='left', clicks=2, interval=0.25)\\ntime.sleep(5)\\nprint('GUI interaction done')\",\n",
    "            \"packages\": [\"pyautogui\"],\n",
    "        },\n",
    "    },\n",
    "    {\n",
    "        \"name\": \"Screenshot only\",\n",
    "        \"method\": \"take_screenshot\",\n",
    "        \"args\": {},\n",
    "    },\n",
    "]\n"
   ]
  },
  {
   "cell_type": "code",
   "execution_count": null,
   "id": "24767b8e",
   "metadata": {},
   "outputs": [],
   "source": [
    "cfg = AgentVMConfig(\n",
    "    container_name=\"test-agent-vm\",\n",
    "    host_server_dir=Path(\"sandbox/server\"),\n",
    "    host_sandbox_server_port=8765,\n",
    "    host_sandbox_server_host=\"localhost\",\n",
    "    sandbox_server_port=8765,\n",
    "    sandbox_server_host=\"0.0.0.0\",\n",
    "    sandbox_server_dir=Path(\"/home/user/server\"),\n",
    ")\n",
    "\n",
    "vm = AgentVMManager(cfg, logger=logger)\n",
    "vm.__enter__()  # Simulate entering the context manager\n",
    "\n",
    "base_url = f\"http://{cfg.host_sandbox_server_host}:{cfg.host_sandbox_server_port}\"\n",
    "client = VMServerClient(base_url)\n",
    "\n",
    "\n",
    "def run_tests(client):\n",
    "    logger.info(\"🚀 Running FastAPI sandbox tests...\\n\")\n",
    "    for test in TEST_CASES:\n",
    "        logger.info(f\"▶️  {test['name']}\")\n",
    "        method = getattr(client, test[\"method\"], None)\n",
    "        if not method:\n",
    "            logger.error(f\"❌ Unknown method: {test['method']}\")\n",
    "            continue\n",
    "        try:\n",
    "            result = method(**test[\"args\"])\n",
    "            print(json.dumps(result, indent=2))\n",
    "        except Exception as e:\n",
    "            logger.error(f\"❌ Error running test '{test['name']}': {e}\")\n",
    "        print()\n",
    "\n",
    "\n",
    "run_tests(client)\n"
   ]
  },
  {
   "cell_type": "code",
   "execution_count": null,
   "id": "e851dfac",
   "metadata": {},
   "outputs": [],
   "source": [
    "client.record_start()\n",
    "\n",
    "\n",
    "# logger.info(json.dumps(vm.ssh.exec_command(\"ls\"), indent=2))\n",
    "# logger.info(json.dumps(client.execute_code(code=\"print('Manual code run')\"), indent=2))\n",
    "\n",
    "\n",
    "# code = \"\"\"\"\n",
    "# import pyautogui\n",
    "# import time\n",
    "\n",
    "# pyautogui.click(x=35, y=60, button='left', clicks=2, interval=0.25)\n",
    "# time.sleep(5)\n",
    "\n",
    "# \"\"\"\n",
    "\n",
    "# # logger.info(json.dumps(client.execute_gui_code(code=)))"
   ]
  },
  {
   "cell_type": "code",
   "execution_count": null,
   "id": "61fdd5eb",
   "metadata": {},
   "outputs": [],
   "source": [
    "vm.__exit__(None, None, None)\n"
   ]
  },
  {
   "cell_type": "code",
   "execution_count": null,
   "id": "2d2be94a",
   "metadata": {},
   "outputs": [],
   "source": []
  }
 ],
 "metadata": {
  "kernelspec": {
   "display_name": ".venv (3.11.9)",
   "language": "python",
   "name": "python3"
  },
  "language_info": {
   "codemirror_mode": {
    "name": "ipython",
    "version": 3
   },
   "file_extension": ".py",
   "mimetype": "text/x-python",
   "name": "python",
   "nbconvert_exporter": "python",
   "pygments_lexer": "ipython3",
   "version": "3.11.9"
  }
 },
 "nbformat": 4,
 "nbformat_minor": 5
}

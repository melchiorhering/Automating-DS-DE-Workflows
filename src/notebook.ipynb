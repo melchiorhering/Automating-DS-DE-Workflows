{
 "cells": [
  {
   "cell_type": "code",
   "execution_count": 3,
   "id": "33c5b7dd",
   "metadata": {},
   "outputs": [
    {
     "name": "stdout",
     "output_type": "stream",
     "text": [
      "docker/shared/test\n"
     ]
    }
   ],
   "source": [
    "import logging\n",
    "from pathlib import Path\n",
    "from sandbox.qemu import QemuVMManager, VMConfig\n",
    "\n",
    "\n",
    "source = Path(\"./docker/shared\") / \"test\"\n",
    "print(source)\n",
    "# # Set up a logger for the test\n",
    "# logger = logging.getLogger(\"TestQemuVMManager\")\n",
    "# logger.setLevel(logging.INFO)\n",
    "# if not logger.handlers:\n",
    "#     handler = logging.StreamHandler()\n",
    "#     formatter = logging.Formatter(\"%(asctime)s - %(name)s - %(levelname)s - %(message)s\")\n",
    "#     handler.setFormatter(formatter)\n",
    "#     logger.addHandler(handler)\n",
    "\n",
    "\n",
    "# # Set up a test VM configuration.\n",
    "# config = VMConfig(\n",
    "#     image=\"qemux/qemu\",  # Use your actual QEMU image\n",
    "#     container_name=\"test_qemu\",  # A test container name\n",
    "#     base_vm_path=\"./docker/vms/ubuntu-noble\",  # Temporary base directory created above\n",
    "#     shared_path=\"./docker/shared\",  # Temporary shared storage directory\n",
    "#     qemu_extra_env={},\n",
    "# )\n",
    "\n",
    "# # Instantiate the QemuVMManager.\n",
    "# manager = QemuVMManager(config=config, logger=logger)\n",
    "\n",
    "# manager.get_or_create_container()\n",
    "\n",
    "\n",
    "# manager.cleanup_vm()\n"
   ]
  },
  {
   "cell_type": "code",
   "execution_count": null,
   "id": "1482b8a8",
   "metadata": {},
   "outputs": [],
   "source": []
  }
 ],
 "metadata": {
  "kernelspec": {
   "display_name": ".venv (3.11.9)",
   "language": "python",
   "name": "python3"
  },
  "language_info": {
   "codemirror_mode": {
    "name": "ipython",
    "version": 3
   },
   "file_extension": ".py",
   "mimetype": "text/x-python",
   "name": "python",
   "nbconvert_exporter": "python",
   "pygments_lexer": "ipython3",
   "version": "3.11.9"
  }
 },
 "nbformat": 4,
 "nbformat_minor": 5
}

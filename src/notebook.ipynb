{
 "cells": [
  {
   "cell_type": "code",
   "execution_count": null,
   "id": "33c5b7dd",
   "metadata": {},
   "outputs": [
    {
     "name": "stderr",
     "output_type": "stream",
     "text": [
      "2025-04-17 09:56:21,348 - TestQemuVMManager - INFO - VM state changed: created -> created\n"
     ]
    },
    {
     "name": "stdout",
     "output_type": "stream",
     "text": [
      "docker/shared/test\n"
     ]
    },
    {
     "name": "stderr",
     "output_type": "stream",
     "text": [
      "2025-04-17 09:56:54,647 - TestQemuVMManager - INFO - Creating container test_qemu with storage at /home/smwhering/IS-master-thesis/src/docker/environments/test_qemu_1744876581\n",
      "2025-04-17 09:56:54,649 - TestQemuVMManager - INFO - Binding host docker/shared/test_qemu_1744876581 → container /shared (tag=test_qemu_1744876581)\n",
      "2025-04-17 09:56:54,649 - TestQemuVMManager - INFO - Checking image qemux/qemu locally...\n",
      "2025-04-17 09:56:54,658 - TestQemuVMManager - INFO - Image qemux/qemu exists.\n",
      "2025-04-17 09:56:54,698 - TestQemuVMManager - INFO - Container test_qemu created\n",
      "2025-04-17 09:56:54,699 - TestQemuVMManager - INFO - VM state changed: created -> starting\n",
      "2025-04-17 09:56:54,984 - TestQemuVMManager - INFO - Container test_qemu started\n",
      "2025-04-17 09:56:54,985 - TestQemuVMManager - INFO - VM state changed: starting -> running\n",
      "2025-04-17 09:56:54,986 - TestQemuVMManager - INFO - SSH connection attempt 1/5...\n",
      "2025-04-17 09:56:54,988 - TestQemuVMManager - INFO - Connection attempt failed: [Errno None] Unable to connect to port 2222 on 127.0.0.1. Retrying in 2s\n",
      "2025-04-17 09:56:56,988 - TestQemuVMManager - INFO - SSH connection attempt 2/5...\n",
      "Exception (client): Error reading SSH protocol banner[Errno 104] Connection reset by peer\n",
      "Traceback (most recent call last):\n",
      "  File \"/home/smwhering/IS-master-thesis/.venv/lib/python3.11/site-packages/paramiko/transport.py\", line 2369, in _check_banner\n",
      "    buf = self.packetizer.readline(timeout)\n",
      "          ^^^^^^^^^^^^^^^^^^^^^^^^^^^^^^^^^\n",
      "  File \"/home/smwhering/IS-master-thesis/.venv/lib/python3.11/site-packages/paramiko/packet.py\", line 395, in readline\n",
      "    buf += self._read_timeout(timeout)\n",
      "           ^^^^^^^^^^^^^^^^^^^^^^^^^^^\n",
      "  File \"/home/smwhering/IS-master-thesis/.venv/lib/python3.11/site-packages/paramiko/packet.py\", line 663, in _read_timeout\n",
      "    x = self.__socket.recv(128)\n",
      "        ^^^^^^^^^^^^^^^^^^^^^^^\n",
      "ConnectionResetError: [Errno 104] Connection reset by peer\n",
      "\n",
      "During handling of the above exception, another exception occurred:\n",
      "\n",
      "Traceback (most recent call last):\n",
      "  File \"/home/smwhering/IS-master-thesis/.venv/lib/python3.11/site-packages/paramiko/transport.py\", line 2185, in run\n",
      "    self._check_banner()\n",
      "  File \"/home/smwhering/IS-master-thesis/.venv/lib/python3.11/site-packages/paramiko/transport.py\", line 2373, in _check_banner\n",
      "    raise SSHException(\n",
      "paramiko.ssh_exception.SSHException: Error reading SSH protocol banner[Errno 104] Connection reset by peer\n",
      "\n",
      "2025-04-17 09:57:00,169 - TestQemuVMManager - INFO - Connection attempt failed: Error reading SSH protocol banner[Errno 104] Connection reset by peer. Retrying in 4s\n",
      "2025-04-17 09:57:04,170 - TestQemuVMManager - INFO - SSH connection attempt 3/5...\n",
      "2025-04-17 09:57:04,237 - TestQemuVMManager - INFO - SSH connection established\n",
      "2025-04-17 09:57:04,238 - TestQemuVMManager - INFO - Executing command: echo 'password' | sudo -S mkdir -p /mnt/shared && echo 'password' | sudo -S mount -t 9p -o trans=virtio test_qemu_1744876581 /mnt/shared\n",
      "2025-04-17 09:57:04,446 - TestQemuVMManager - ERROR - Command failed with exit status 32: [sudo] password for user: mount: /mnt/shared: special device test_qemu_1744876581 does not exist.\n",
      "       dmesg(1) may have more information after failed mount system call.\n",
      "2025-04-17 09:57:04,447 - TestQemuVMManager - ERROR - Failed to sudo‑mount 9p: [sudo] password for user: mount: /mnt/shared: special device test_qemu_1744876581 does not exist.\n",
      "       dmesg(1) may have more information after failed mount system call.\n"
     ]
    },
    {
     "data": {
      "text/plain": [
       "<Container: ea0f0e403612>"
      ]
     },
     "execution_count": 1,
     "metadata": {},
     "output_type": "execute_result"
    }
   ],
   "source": [
    "import logging\n",
    "from pathlib import Path\n",
    "from sandbox.qemu import QemuVMManager, VMConfig\n",
    "\n",
    "\n",
    "source = Path(\"./docker/shared\") / \"test\"\n",
    "print(source)\n",
    "# # Set up a logger for the test\n",
    "logger = logging.getLogger(\"TestQemuVMManager\")\n",
    "logger.setLevel(logging.INFO)\n",
    "if not logger.handlers:\n",
    "    handler = logging.StreamHandler()\n",
    "    formatter = logging.Formatter(\"%(asctime)s - %(name)s - %(levelname)s - %(message)s\")\n",
    "    handler.setFormatter(formatter)\n",
    "    logger.addHandler(handler)\n",
    "\n",
    "\n",
    "# Set up a test VM configuration.\n",
    "config = VMConfig(\n",
    "    image=\"qemux/qemu\",  # Use your actual QEMU image\n",
    "    container_name=\"test_qemu\",  # A test container name\n",
    "    base_vm_path=\"./docker/vms/ubuntu-noble\",  # Temporary base directory created above\n",
    "    shared_path=\"./docker/shared\",  # Temporary shared storage directory\n",
    ")\n",
    "\n",
    "# # Instantiate the QemuVMManager.\n",
    "manager = QemuVMManager(config=config, logger=logger)\n",
    "\n",
    "manager.get_or_create_container()\n",
    "\n",
    "\n",
    "# manager.cleanup_vm()\n"
   ]
  }
 ],
 "metadata": {
  "kernelspec": {
   "display_name": ".venv (3.11.9)",
   "language": "python",
   "name": "python3"
  },
  "language_info": {
   "codemirror_mode": {
    "name": "ipython",
    "version": 3
   },
   "file_extension": ".py",
   "mimetype": "text/x-python",
   "name": "python",
   "nbconvert_exporter": "python",
   "pygments_lexer": "ipython3",
   "version": "3.11.9"
  }
 },
 "nbformat": 4,
 "nbformat_minor": 5
}

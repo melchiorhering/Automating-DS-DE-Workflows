{
 "cells": [
  {
   "cell_type": "code",
   "execution_count": 1,
   "id": "bc2ae14d",
   "metadata": {},
   "outputs": [
    {
     "name": "stdout",
     "output_type": "stream",
     "text": [
      "INFO 05-06 10:57:37 [__init__.py:239] Automatically detected platform cuda.\n",
      "INFO 05-06 10:57:44 [config.py:717] This model supports multiple tasks: {'reward', 'score', 'embed', 'generate', 'classify'}. Defaulting to 'generate'.\n",
      "INFO 05-06 10:57:44 [config.py:2003] Chunked prefill is enabled with max_num_batched_tokens=8192.\n",
      "INFO 05-06 10:57:45 [core.py:58] Initializing a V1 LLM engine (v0.8.5) with config: model='HuggingFaceTB/SmolVLM2-2.2B-Instruct', speculative_config=None, tokenizer='HuggingFaceTB/SmolVLM2-2.2B-Instruct', skip_tokenizer_init=False, tokenizer_mode=auto, revision=None, override_neuron_config=None, tokenizer_revision=None, trust_remote_code=False, dtype=torch.bfloat16, max_seq_len=8192, download_dir=None, load_format=LoadFormat.AUTO, tensor_parallel_size=1, pipeline_parallel_size=1, disable_custom_all_reduce=False, quantization=None, enforce_eager=False, kv_cache_dtype=auto,  device_config=cuda, decoding_config=DecodingConfig(guided_decoding_backend='auto', reasoning_backend=None), observability_config=ObservabilityConfig(show_hidden_metrics=False, otlp_traces_endpoint=None, collect_model_forward_time=False, collect_model_execute_time=False), seed=None, served_model_name=HuggingFaceTB/SmolVLM2-2.2B-Instruct, num_scheduler_steps=1, multi_step_stream_outputs=True, enable_prefix_caching=True, chunked_prefill_enabled=True, use_async_output_proc=True, disable_mm_preprocessor_cache=False, mm_processor_kwargs=None, pooler_config=None, compilation_config={\"level\":3,\"custom_ops\":[\"none\"],\"splitting_ops\":[\"vllm.unified_attention\",\"vllm.unified_attention_with_output\"],\"use_inductor\":true,\"compile_sizes\":[],\"use_cudagraph\":true,\"cudagraph_num_of_warmups\":1,\"cudagraph_capture_sizes\":[512,504,496,488,480,472,464,456,448,440,432,424,416,408,400,392,384,376,368,360,352,344,336,328,320,312,304,296,288,280,272,264,256,248,240,232,224,216,208,200,192,184,176,168,160,152,144,136,128,120,112,104,96,88,80,72,64,56,48,40,32,24,16,8,4,2,1],\"max_capture_size\":512}\n",
      "WARNING 05-06 10:57:45 [utils.py:2522] Methods determine_num_available_blocks,device_config,get_cache_block_size_bytes,initialize_cache not implemented in <vllm.v1.worker.gpu_worker.Worker object at 0x7fd44463e9d0>\n",
      "INFO 05-06 10:57:46 [parallel_state.py:1004] rank 0 in world size 1 is assigned as DP rank 0, PP rank 0, TP rank 0\n",
      "WARNING 05-06 10:57:46 [interface.py:314] Using 'pin_memory=False' as WSL is detected. This may slow down the performance.\n",
      "INFO 05-06 10:57:46 [cuda.py:221] Using Flash Attention backend on V1 engine.\n",
      "WARNING 05-06 10:57:47 [topk_topp_sampler.py:69] FlashInfer is not available. Falling back to the PyTorch-native implementation of top-p & top-k sampling. For the best performance, please install FlashInfer.\n",
      "INFO 05-06 10:57:47 [gpu_model_runner.py:1329] Starting to load model HuggingFaceTB/SmolVLM2-2.2B-Instruct...\n",
      "INFO 05-06 10:57:47 [config.py:3614] cudagraph sizes specified by model runner [1, 2, 4, 8, 16, 24, 32, 40, 48, 56, 64, 72, 80, 88, 96, 104, 112, 120, 128, 136, 144, 152, 160, 168, 176, 184, 192, 200, 208, 216, 224, 232, 240, 248, 256, 264, 272, 280, 288, 296, 304, 312, 320, 328, 336, 344, 352, 360, 368, 376, 384, 392, 400, 408, 416, 424, 432, 440, 448, 456, 464, 472, 480, 488, 496, 504, 512] is overridden by config [512, 384, 256, 128, 4, 2, 1, 392, 264, 136, 8, 400, 272, 144, 16, 408, 280, 152, 24, 416, 288, 160, 32, 424, 296, 168, 40, 432, 304, 176, 48, 440, 312, 184, 56, 448, 320, 192, 64, 456, 328, 200, 72, 464, 336, 208, 80, 472, 344, 216, 88, 120, 480, 352, 248, 224, 96, 488, 504, 360, 232, 104, 496, 368, 240, 112, 376]\n",
      "INFO 05-06 10:57:48 [weight_utils.py:265] Using model weights format ['*.safetensors']\n"
     ]
    },
    {
     "data": {
      "application/vnd.jupyter.widget-view+json": {
       "model_id": "50a73cb2c3e74d0c9ae938eaafe1693b",
       "version_major": 2,
       "version_minor": 0
      },
      "text/plain": [
       "Loading safetensors checkpoint shards:   0% Completed | 0/2 [00:00<?, ?it/s]\n"
      ]
     },
     "metadata": {},
     "output_type": "display_data"
    },
    {
     "name": "stdout",
     "output_type": "stream",
     "text": [
      "INFO 05-06 10:57:51 [loader.py:458] Loading weights took 3.26 seconds\n",
      "INFO 05-06 10:57:52 [gpu_model_runner.py:1347] Model loading took 4.1963 GiB and 4.055252 seconds\n",
      "INFO 05-06 10:57:52 [gpu_model_runner.py:1620] Encoder cache will be initialized with a budget of 8192 tokens, and profiled with 6 image items of the maximum feature size.\n",
      "INFO 05-06 10:57:59 [backends.py:420] Using cache directory: /home/smwhering/.cache/vllm/torch_compile_cache/3b61b7abf2/rank_0_0 for vLLM's torch.compile\n",
      "INFO 05-06 10:57:59 [backends.py:430] Dynamo bytecode transform time: 4.30 s\n",
      "INFO 05-06 10:58:00 [backends.py:118] Directly load the compiled graph(s) for shape None from the cache, took 1.643 s\n",
      "INFO 05-06 10:58:01 [monitor.py:33] torch.compile takes 4.30 s in total\n",
      "INFO 05-06 10:58:02 [kv_cache_utils.py:634] GPU KV cache size: 34,800 tokens\n",
      "INFO 05-06 10:58:02 [kv_cache_utils.py:637] Maximum concurrency for 8,192 tokens per request: 4.25x\n",
      "INFO 05-06 10:58:22 [gpu_model_runner.py:1686] Graph capturing finished in 20 secs, took 0.98 GiB\n",
      "INFO 05-06 10:58:22 [core.py:159] init engine (profile, create kv cache, warmup model) took 30.28 seconds\n",
      "INFO 05-06 10:58:22 [core_client.py:439] Core engine process 0 ready.\n"
     ]
    },
    {
     "data": {
      "text/html": [
       "<pre style=\"white-space:pre;overflow-x:auto;line-height:normal;font-family:Menlo,'DejaVu Sans Mono',consolas,'Courier New',monospace\">Initializing executor, hold on<span style=\"color: #808000; text-decoration-color: #808000\">...</span>\n",
       "</pre>\n"
      ],
      "text/plain": [
       "Initializing executor, hold on\u001b[33m...\u001b[0m\n"
      ]
     },
     "metadata": {},
     "output_type": "display_data"
    },
    {
     "data": {
      "text/html": [
       "<pre style=\"white-space:pre;overflow-x:auto;line-height:normal;font-family:Menlo,'DejaVu Sans Mono',consolas,'Courier New',monospace\"><span style=\"color: #d4b702; text-decoration-color: #d4b702\">━━━━━━━━━━━━━━━━━━━━━━━━━━━━━━━━━━━━━━━ </span><span style=\"font-weight: bold\">🧪 Sandbox Executor Initialization</span><span style=\"color: #d4b702; text-decoration-color: #d4b702\"> ━━━━━━━━━━━━━━━━━━━━━━━━━━━━━━━━━━━━━━━━</span>\n",
       "</pre>\n"
      ],
      "text/plain": [
       "\u001b[38;2;212;183;2m━━━━━━━━━━━━━━━━━━━━━━━━━━━━━━━━━━━━━━━ \u001b[0m\u001b[1m🧪 Sandbox Executor Initialization\u001b[0m\u001b[38;2;212;183;2m ━━━━━━━━━━━━━━━━━━━━━━━━━━━━━━━━━━━━━━━━\u001b[0m\n"
      ]
     },
     "metadata": {},
     "output_type": "display_data"
    },
    {
     "data": {
      "text/html": [
       "<pre style=\"white-space:pre;overflow-x:auto;line-height:normal;font-family:Menlo,'DejaVu Sans Mono',consolas,'Courier New',monospace\"><span style=\"color: #d4b702; text-decoration-color: #d4b702\">━━━━━━━━━━━━━━━━━━━━━━━━━━━━━━━━━━━━━━━━━━━━ </span><span style=\"font-weight: bold\">🧱 Docker Container Check</span><span style=\"color: #d4b702; text-decoration-color: #d4b702\"> ━━━━━━━━━━━━━━━━━━━━━━━━━━━━━━━━━━━━━━━━━━━━</span>\n",
       "</pre>\n"
      ],
      "text/plain": [
       "\u001b[38;2;212;183;2m━━━━━━━━━━━━━━━━━━━━━━━━━━━━━━━━━━━━━━━━━━━━ \u001b[0m\u001b[1m🧱 Docker Container Check\u001b[0m\u001b[38;2;212;183;2m ━━━━━━━━━━━━━━━━━━━━━━━━━━━━━━━━━━━━━━━━━━━━\u001b[0m\n"
      ]
     },
     "metadata": {},
     "output_type": "display_data"
    },
    {
     "data": {
      "text/html": [
       "<pre style=\"white-space:pre;overflow-x:auto;line-height:normal;font-family:Menlo,'DejaVu Sans Mono',consolas,'Courier New',monospace\"><span style=\"color: #d4b702; text-decoration-color: #d4b702\">━━━━━━━━━━━━━━━━━━━━━━━━━━━━━━━━━━━━━━━━━━━━━━━ </span><span style=\"font-weight: bold\">🚀 Start Sandbox VM</span><span style=\"color: #d4b702; text-decoration-color: #d4b702\"> ━━━━━━━━━━━━━━━━━━━━━━━━━━━━━━━━━━━━━━━━━━━━━━━</span>\n",
       "</pre>\n"
      ],
      "text/plain": [
       "\u001b[38;2;212;183;2m━━━━━━━━━━━━━━━━━━━━━━━━━━━━━━━━━━━━━━━━━━━━━━━ \u001b[0m\u001b[1m🚀 Start Sandbox VM\u001b[0m\u001b[38;2;212;183;2m ━━━━━━━━━━━━━━━━━━━━━━━━━━━━━━━━━━━━━━━━━━━━━━━\u001b[0m\n"
      ]
     },
     "metadata": {},
     "output_type": "display_data"
    },
    {
     "data": {
      "text/html": [
       "<pre style=\"white-space:pre;overflow-x:auto;line-height:normal;font-family:Menlo,'DejaVu Sans Mono',consolas,'Courier New',monospace\">📦 Creating VM Container\n",
       "</pre>\n"
      ],
      "text/plain": [
       "📦 Creating VM Container\n"
      ]
     },
     "metadata": {},
     "output_type": "display_data"
    },
    {
     "data": {
      "text/html": [
       "<pre style=\"white-space:pre;overflow-x:auto;line-height:normal;font-family:Menlo,'DejaVu Sans Mono',consolas,'Courier New',monospace\">❓ Checking for image: qemux/qemu\n",
       "</pre>\n"
      ],
      "text/plain": [
       "❓ Checking for image: qemux/qemu\n"
      ]
     },
     "metadata": {},
     "output_type": "display_data"
    },
    {
     "data": {
      "text/html": [
       "<pre style=\"white-space:pre;overflow-x:auto;line-height:normal;font-family:Menlo,'DejaVu Sans Mono',consolas,'Courier New',monospace\"><span style=\"font-weight: bold\">📁 Creating container directory:</span> <span style=\"color: #800080; text-decoration-color: #800080\">/home/smwhering/IS-master-thesis/src/docker/vms/snapshots/</span><span style=\"color: #ff00ff; text-decoration-color: #ff00ff\">qemu</span>\n",
       "</pre>\n"
      ],
      "text/plain": [
       "\u001b[1m📁 Creating container directory:\u001b[0m \u001b[35m/home/smwhering/IS-master-thesis/src/docker/vms/snapshots/\u001b[0m\u001b[95mqemu\u001b[0m\n"
      ]
     },
     "metadata": {},
     "output_type": "display_data"
    },
    {
     "data": {
      "text/html": [
       "<pre style=\"white-space:pre;overflow-x:auto;line-height:normal;font-family:Menlo,'DejaVu Sans Mono',consolas,'Courier New',monospace\"><span style=\"font-weight: bold\">📤 Copying VM boot and data images:</span>\n",
       "</pre>\n"
      ],
      "text/plain": [
       "\u001b[1m📤 Copying VM boot and data images:\u001b[0m\n"
      ]
     },
     "metadata": {},
     "output_type": "display_data"
    },
    {
     "data": {
      "text/html": [
       "<pre style=\"white-space:pre;overflow-x:auto;line-height:normal;font-family:Menlo,'DejaVu Sans Mono',consolas,'Courier New',monospace\"><span style=\"color: #008000; text-decoration-color: #008000\">📀 boot.iso</span>  →  <span style=\"color: #800080; text-decoration-color: #800080\">/home/smwhering/IS-master-thesis/src/docker/vms/snapshots/qemu/</span><span style=\"color: #ff00ff; text-decoration-color: #ff00ff\">boot.iso</span>\n",
       "</pre>\n"
      ],
      "text/plain": [
       "\u001b[32m📀 boot.iso\u001b[0m  →  \u001b[35m/home/smwhering/IS-master-thesis/src/docker/vms/snapshots/qemu/\u001b[0m\u001b[95mboot.iso\u001b[0m\n"
      ]
     },
     "metadata": {},
     "output_type": "display_data"
    },
    {
     "data": {
      "text/html": [
       "<pre style=\"white-space:pre;overflow-x:auto;line-height:normal;font-family:Menlo,'DejaVu Sans Mono',consolas,'Courier New',monospace\"><span style=\"color: #008000; text-decoration-color: #008000\">💾 data.img</span>  →  <span style=\"color: #800080; text-decoration-color: #800080\">/home/smwhering/IS-master-thesis/src/docker/vms/snapshots/qemu/</span><span style=\"color: #ff00ff; text-decoration-color: #ff00ff\">data.img</span>\n",
       "</pre>\n"
      ],
      "text/plain": [
       "\u001b[32m💾 data.img\u001b[0m  →  \u001b[35m/home/smwhering/IS-master-thesis/src/docker/vms/snapshots/qemu/\u001b[0m\u001b[95mdata.img\u001b[0m\n"
      ]
     },
     "metadata": {},
     "output_type": "display_data"
    },
    {
     "data": {
      "text/html": [
       "<pre style=\"white-space:pre;overflow-x:auto;line-height:normal;font-family:Menlo,'DejaVu Sans Mono',consolas,'Courier New',monospace\">\n",
       "✅ <span style=\"color: #008000; text-decoration-color: #008000; font-weight: bold\">VM base files prepared successfully</span>\n",
       "\n",
       "</pre>\n"
      ],
      "text/plain": [
       "\n",
       "✅ \u001b[1;32mVM base files prepared successfully\u001b[0m\n",
       "\n"
      ]
     },
     "metadata": {},
     "output_type": "display_data"
    },
    {
     "data": {
      "text/html": [
       "<pre style=\"white-space:pre;overflow-x:auto;line-height:normal;font-family:Menlo,'DejaVu Sans Mono',consolas,'Courier New',monospace\">Creating container: qemu\n",
       "</pre>\n"
      ],
      "text/plain": [
       "Creating container: qemu\n"
      ]
     },
     "metadata": {},
     "output_type": "display_data"
    },
    {
     "data": {
      "text/html": [
       "<pre style=\"white-space:pre;overflow-x:auto;line-height:normal;font-family:Menlo,'DejaVu Sans Mono',consolas,'Courier New',monospace\">✅ Container is now running.\n",
       "</pre>\n"
      ],
      "text/plain": [
       "✅ Container is now running.\n"
      ]
     },
     "metadata": {},
     "output_type": "display_data"
    },
    {
     "data": {
      "text/html": [
       "<pre style=\"white-space:pre;overflow-x:auto;line-height:normal;font-family:Menlo,'DejaVu Sans Mono',consolas,'Courier New',monospace\"><span style=\"color: #d4b702; text-decoration-color: #d4b702\">━━━━━━━━━━━━━━━━━━━━━━━━━━━━━━━━━━━━━━━━━━━━━━ </span><span style=\"font-weight: bold\">🔐 SSH Initialization</span><span style=\"color: #d4b702; text-decoration-color: #d4b702\"> ━━━━━━━━━━━━━━━━━━━━━━━━━━━━━━━━━━━━━━━━━━━━━━</span>\n",
       "</pre>\n"
      ],
      "text/plain": [
       "\u001b[38;2;212;183;2m━━━━━━━━━━━━━━━━━━━━━━━━━━━━━━━━━━━━━━━━━━━━━━ \u001b[0m\u001b[1m🔐 SSH Initialization\u001b[0m\u001b[38;2;212;183;2m ━━━━━━━━━━━━━━━━━━━━━━━━━━━━━━━━━━━━━━━━━━━━━━\u001b[0m\n"
      ]
     },
     "metadata": {},
     "output_type": "display_data"
    },
    {
     "data": {
      "text/html": [
       "<pre style=\"white-space:pre;overflow-x:auto;line-height:normal;font-family:Menlo,'DejaVu Sans Mono',consolas,'Courier New',monospace\">🔍 Waiting for SSH server to respond on localhost:<span style=\"color: #008080; text-decoration-color: #008080; font-weight: bold\">2222</span><span style=\"color: #808000; text-decoration-color: #808000\">...</span>\n",
       "</pre>\n"
      ],
      "text/plain": [
       "🔍 Waiting for SSH server to respond on localhost:\u001b[1;36m2222\u001b[0m\u001b[33m...\u001b[0m\n"
      ]
     },
     "metadata": {},
     "output_type": "display_data"
    },
    {
     "name": "stderr",
     "output_type": "stream",
     "text": [
      "[2025-05-06 10:59:13] INFO transport.py:1944: Connected (version 2.0, client OpenSSH_9.6p1)\n",
      "[2025-05-06 10:59:13] INFO transport.py:1944: Authentication (publickey) failed.\n",
      "[2025-05-06 10:59:13] INFO transport.py:1944: Authentication (password) successful!\n"
     ]
    },
    {
     "data": {
      "text/html": [
       "<pre style=\"white-space:pre;overflow-x:auto;line-height:normal;font-family:Menlo,'DejaVu Sans Mono',consolas,'Courier New',monospace\">SSH connection established\n",
       "</pre>\n"
      ],
      "text/plain": [
       "SSH connection established\n"
      ]
     },
     "metadata": {},
     "output_type": "display_data"
    },
    {
     "data": {
      "text/html": [
       "<pre style=\"white-space:pre;overflow-x:auto;line-height:normal;font-family:Menlo,'DejaVu Sans Mono',consolas,'Courier New',monospace\">✅ SSH server is ready\n",
       "</pre>\n"
      ],
      "text/plain": [
       "✅ SSH server is ready\n"
      ]
     },
     "metadata": {},
     "output_type": "display_data"
    },
    {
     "name": "stderr",
     "output_type": "stream",
     "text": [
      "[2025-05-06 10:59:28] INFO transport.py:1944: Connected (version 2.0, client OpenSSH_9.6p1)\n",
      "[2025-05-06 10:59:28] INFO transport.py:1944: Authentication (publickey) failed.\n",
      "[2025-05-06 10:59:28] INFO transport.py:1944: Authentication (password) successful!\n"
     ]
    },
    {
     "data": {
      "text/html": [
       "<pre style=\"white-space:pre;overflow-x:auto;line-height:normal;font-family:Menlo,'DejaVu Sans Mono',consolas,'Courier New',monospace\">SSH connection established\n",
       "</pre>\n"
      ],
      "text/plain": [
       "SSH connection established\n"
      ]
     },
     "metadata": {},
     "output_type": "display_data"
    },
    {
     "data": {
      "text/html": [
       "<pre style=\"white-space:pre;overflow-x:auto;line-height:normal;font-family:Menlo,'DejaVu Sans Mono',consolas,'Courier New',monospace\">Mounting shared -&gt; <span style=\"color: #800080; text-decoration-color: #800080\">/mnt/</span><span style=\"color: #ff00ff; text-decoration-color: #ff00ff\">qemu</span>\n",
       "</pre>\n"
      ],
      "text/plain": [
       "Mounting shared -> \u001b[35m/mnt/\u001b[0m\u001b[95mqemu\u001b[0m\n"
      ]
     },
     "metadata": {},
     "output_type": "display_data"
    },
    {
     "name": "stderr",
     "output_type": "stream",
     "text": [
      "[2025-05-06 10:59:29] INFO sftp.py:169: [chan 4] Opened sftp connection (server version 3)\n"
     ]
    },
    {
     "data": {
      "text/html": [
       "<pre style=\"white-space:pre;overflow-x:auto;line-height:normal;font-family:Menlo,'DejaVu Sans Mono',consolas,'Courier New',monospace\"><span style=\"color: #d4b702; text-decoration-color: #d4b702\">━━━━━━━━━━━━━━━━━━━━━━━━━━━━━━━━━━━━━━━━━━━━━ </span><span style=\"font-weight: bold\">🔎 FastAPI Health Check</span><span style=\"color: #d4b702; text-decoration-color: #d4b702\"> ━━━━━━━━━━━━━━━━━━━━━━━━━━━━━━━━━━━━━━━━━━━━━</span>\n",
       "</pre>\n"
      ],
      "text/plain": [
       "\u001b[38;2;212;183;2m━━━━━━━━━━━━━━━━━━━━━━━━━━━━━━━━━━━━━━━━━━━━━ \u001b[0m\u001b[1m🔎 FastAPI Health Check\u001b[0m\u001b[38;2;212;183;2m ━━━━━━━━━━━━━━━━━━━━━━━━━━━━━━━━━━━━━━━━━━━━━\u001b[0m\n"
      ]
     },
     "metadata": {},
     "output_type": "display_data"
    },
    {
     "data": {
      "text/html": [
       "<pre style=\"white-space:pre;overflow-x:auto;line-height:normal;font-family:Menlo,'DejaVu Sans Mono',consolas,'Courier New',monospace\"><span style=\"font-weight: bold\">{</span><span style=\"color: #008000; text-decoration-color: #008000\">\"status\"</span>:<span style=\"color: #008000; text-decoration-color: #008000\">\"ok\"</span>,<span style=\"color: #008000; text-decoration-color: #008000\">\"kernel_status\"</span>:<span style=\"color: #008000; text-decoration-color: #008000\">\"reachable\"</span><span style=\"font-weight: bold\">}</span>\n",
       "</pre>\n"
      ],
      "text/plain": [
       "\u001b[1m{\u001b[0m\u001b[32m\"status\"\u001b[0m:\u001b[32m\"ok\"\u001b[0m,\u001b[32m\"kernel_status\"\u001b[0m:\u001b[32m\"reachable\"\u001b[0m\u001b[1m}\u001b[0m\n"
      ]
     },
     "metadata": {},
     "output_type": "display_data"
    },
    {
     "data": {
      "text/html": [
       "<pre style=\"white-space:pre;overflow-x:auto;line-height:normal;font-family:Menlo,'DejaVu Sans Mono',consolas,'Courier New',monospace\">✅ FastAPI server is healthy at <span style=\"color: #0000ff; text-decoration-color: #0000ff; text-decoration: underline\">http://localhost:8765/health</span>\n",
       "</pre>\n"
      ],
      "text/plain": [
       "✅ FastAPI server is healthy at \u001b[4;94mhttp://localhost:8765/health\u001b[0m\n"
      ]
     },
     "metadata": {},
     "output_type": "display_data"
    },
    {
     "data": {
      "text/html": [
       "<pre style=\"white-space:pre;overflow-x:auto;line-height:normal;font-family:Menlo,'DejaVu Sans Mono',consolas,'Courier New',monospace\"><span style=\"color: #d4b702; text-decoration-color: #d4b702\">━━━━━━━━━━━━━━━━━━━━━━━━━━━━━━━━━━━━━━━━━━━ </span><span style=\"font-weight: bold\">📑 Generate FastAPI Client</span><span style=\"color: #d4b702; text-decoration-color: #d4b702\"> ━━━━━━━━━━━━━━━━━━━━━━━━━━━━━━━━━━━━━━━━━━━━</span>\n",
       "</pre>\n"
      ],
      "text/plain": [
       "\u001b[38;2;212;183;2m━━━━━━━━━━━━━━━━━━━━━━━━━━━━━━━━━━━━━━━━━━━ \u001b[0m\u001b[1m📑 Generate FastAPI Client\u001b[0m\u001b[38;2;212;183;2m ━━━━━━━━━━━━━━━━━━━━━━━━━━━━━━━━━━━━━━━━━━━━\u001b[0m\n"
      ]
     },
     "metadata": {},
     "output_type": "display_data"
    },
    {
     "data": {
      "text/html": [
       "<pre style=\"white-space:pre;overflow-x:auto;line-height:normal;font-family:Menlo,'DejaVu Sans Mono',consolas,'Courier New',monospace\">📦 Generating FastAPI client from OpenAPI schema at <span style=\"color: #0000ff; text-decoration-color: #0000ff; text-decoration: underline\">http://localhost:8765/openapi.json...</span>\n",
       "</pre>\n"
      ],
      "text/plain": [
       "📦 Generating FastAPI client from OpenAPI schema at \u001b[4;94mhttp://localhost:8765/openapi.json...\u001b[0m\n"
      ]
     },
     "metadata": {},
     "output_type": "display_data"
    },
    {
     "data": {
      "text/html": [
       "<pre style=\"white-space:pre;overflow-x:auto;line-height:normal;font-family:Menlo,'DejaVu Sans Mono',consolas,'Courier New',monospace\">✅ FastAPI client generated at <span style=\"color: #800080; text-decoration-color: #800080\">/home/smwhering/IS-master-thesis/src/docker/vms/snapshots/qemu/</span><span style=\"color: #ff00ff; text-decoration-color: #ff00ff\">sandbox-client</span>\n",
       "</pre>\n"
      ],
      "text/plain": [
       "✅ FastAPI client generated at \u001b[35m/home/smwhering/IS-master-thesis/src/docker/vms/snapshots/qemu/\u001b[0m\u001b[95msandbox-client\u001b[0m\n"
      ]
     },
     "metadata": {},
     "output_type": "display_data"
    },
    {
     "data": {
      "text/html": [
       "<pre style=\"white-space:pre;overflow-x:auto;line-height:normal;font-family:Menlo,'DejaVu Sans Mono',consolas,'Courier New',monospace\"><span style=\"color: #d4b702; text-decoration-color: #d4b702\">━━━━━━━━━━━━━━━━━━━━━━━━━━━━━━━━━━━━━━━━━━━━ </span><span style=\"font-weight: bold\">📦 Import FastAPI Client</span><span style=\"color: #d4b702; text-decoration-color: #d4b702\"> ━━━━━━━━━━━━━━━━━━━━━━━━━━━━━━━━━━━━━━━━━━━━━</span>\n",
       "</pre>\n"
      ],
      "text/plain": [
       "\u001b[38;2;212;183;2m━━━━━━━━━━━━━━━━━━━━━━━━━━━━━━━━━━━━━━━━━━━━ \u001b[0m\u001b[1m📦 Import FastAPI Client\u001b[0m\u001b[38;2;212;183;2m ━━━━━━━━━━━━━━━━━━━━━━━━━━━━━━━━━━━━━━━━━━━━━\u001b[0m\n"
      ]
     },
     "metadata": {},
     "output_type": "display_data"
    },
    {
     "data": {
      "text/html": [
       "<pre style=\"white-space:pre;overflow-x:auto;line-height:normal;font-family:Menlo,'DejaVu Sans Mono',consolas,'Courier New',monospace\">✅ FastAPI client loaded and ready: <span style=\"color: #800080; text-decoration-color: #800080; font-weight: bold\">Client</span><span style=\"font-weight: bold\">(</span><span style=\"color: #808000; text-decoration-color: #808000\">raise_on_unexpected_status</span>=<span style=\"color: #ff0000; text-decoration-color: #ff0000; font-style: italic\">False</span>, <span style=\"color: #808000; text-decoration-color: #808000\">_base_url</span>=<span style=\"color: #008000; text-decoration-color: #008000\">'http://localhost:8765'</span>, \n",
       "<span style=\"color: #808000; text-decoration-color: #808000\">_cookies</span>=<span style=\"font-weight: bold\">{}</span>, <span style=\"color: #808000; text-decoration-color: #808000\">_headers</span>=<span style=\"font-weight: bold\">{}</span>, <span style=\"color: #808000; text-decoration-color: #808000\">_timeout</span>=<span style=\"color: #800080; text-decoration-color: #800080; font-style: italic\">None</span>, <span style=\"color: #808000; text-decoration-color: #808000\">_verify_ssl</span>=<span style=\"color: #00ff00; text-decoration-color: #00ff00; font-style: italic\">True</span>, <span style=\"color: #808000; text-decoration-color: #808000\">_follow_redirects</span>=<span style=\"color: #ff0000; text-decoration-color: #ff0000; font-style: italic\">False</span>, <span style=\"color: #808000; text-decoration-color: #808000\">_httpx_args</span>=<span style=\"font-weight: bold\">{}</span>, <span style=\"color: #808000; text-decoration-color: #808000\">_client</span>=<span style=\"color: #800080; text-decoration-color: #800080; font-style: italic\">None</span>, \n",
       "<span style=\"color: #808000; text-decoration-color: #808000\">_async_client</span>=<span style=\"color: #800080; text-decoration-color: #800080; font-style: italic\">None</span><span style=\"font-weight: bold\">)</span>\n",
       "</pre>\n"
      ],
      "text/plain": [
       "✅ FastAPI client loaded and ready: \u001b[1;35mClient\u001b[0m\u001b[1m(\u001b[0m\u001b[33mraise_on_unexpected_status\u001b[0m=\u001b[3;91mFalse\u001b[0m, \u001b[33m_base_url\u001b[0m=\u001b[32m'http://localhost:8765'\u001b[0m, \n",
       "\u001b[33m_cookies\u001b[0m=\u001b[1m{\u001b[0m\u001b[1m}\u001b[0m, \u001b[33m_headers\u001b[0m=\u001b[1m{\u001b[0m\u001b[1m}\u001b[0m, \u001b[33m_timeout\u001b[0m=\u001b[3;35mNone\u001b[0m, \u001b[33m_verify_ssl\u001b[0m=\u001b[3;92mTrue\u001b[0m, \u001b[33m_follow_redirects\u001b[0m=\u001b[3;91mFalse\u001b[0m, \u001b[33m_httpx_args\u001b[0m=\u001b[1m{\u001b[0m\u001b[1m}\u001b[0m, \u001b[33m_client\u001b[0m=\u001b[3;35mNone\u001b[0m, \n",
       "\u001b[33m_async_client\u001b[0m=\u001b[3;35mNone\u001b[0m\u001b[1m)\u001b[0m\n"
      ]
     },
     "metadata": {},
     "output_type": "display_data"
    },
    {
     "data": {
      "text/html": [
       "<pre style=\"white-space:pre;overflow-x:auto;line-height:normal;font-family:Menlo,'DejaVu Sans Mono',consolas,'Courier New',monospace\"><span style=\"color: #d4b702; text-decoration-color: #d4b702\">━━━━━━━━━━━━━━━━━━━━━━━━━━━━━━━━━━━━━━━━━━━ </span><span style=\"font-weight: bold\">🧠 Kernel Connection Setup</span><span style=\"color: #d4b702; text-decoration-color: #d4b702\"> ━━━━━━━━━━━━━━━━━━━━━━━━━━━━━━━━━━━━━━━━━━━━</span>\n",
       "</pre>\n"
      ],
      "text/plain": [
       "\u001b[38;2;212;183;2m━━━━━━━━━━━━━━━━━━━━━━━━━━━━━━━━━━━━━━━━━━━ \u001b[0m\u001b[1m🧠 Kernel Connection Setup\u001b[0m\u001b[38;2;212;183;2m ━━━━━━━━━━━━━━━━━━━━━━━━━━━━━━━━━━━━━━━━━━━━\u001b[0m\n"
      ]
     },
     "metadata": {},
     "output_type": "display_data"
    },
    {
     "data": {
      "text/html": [
       "<pre style=\"white-space:pre;overflow-x:auto;line-height:normal;font-family:Menlo,'DejaVu Sans Mono',consolas,'Courier New',monospace\"><span style=\"color: #800000; text-decoration-color: #800000; font-weight: bold\">❌ Kernel setup failed: </span><span style=\"color: #008080; text-decoration-color: #008080; font-weight: bold\">403</span><span style=\"color: #800000; text-decoration-color: #800000; font-weight: bold\"> Client Error: Forbidden for url: </span><span style=\"color: #0000ff; text-decoration-color: #0000ff; text-decoration: underline\">http://localhost:8888/api/kernels</span>\n",
       "</pre>\n"
      ],
      "text/plain": [
       "\u001b[1;31m❌ Kernel setup failed: \u001b[0m\u001b[1;36m403\u001b[0m\u001b[1;31m Client Error: Forbidden for url: \u001b[0m\u001b[4;94mhttp://localhost:8888/api/kernels\u001b[0m\n"
      ]
     },
     "metadata": {},
     "output_type": "display_data"
    },
    {
     "data": {
      "text/html": [
       "<pre style=\"white-space:pre;overflow-x:auto;line-height:normal;font-family:Menlo,'DejaVu Sans Mono',consolas,'Courier New',monospace\"><span style=\"color: #800000; text-decoration-color: #800000; font-weight: bold\">SandboxExecutor init failed: </span><span style=\"color: #008080; text-decoration-color: #008080; font-weight: bold\">403</span><span style=\"color: #800000; text-decoration-color: #800000; font-weight: bold\"> Client Error: Forbidden for url: </span><span style=\"color: #0000ff; text-decoration-color: #0000ff; text-decoration: underline\">http://localhost:8888/api/kernels</span>\n",
       "</pre>\n"
      ],
      "text/plain": [
       "\u001b[1;31mSandboxExecutor init failed: \u001b[0m\u001b[1;36m403\u001b[0m\u001b[1;31m Client Error: Forbidden for url: \u001b[0m\u001b[4;94mhttp://localhost:8888/api/kernels\u001b[0m\n"
      ]
     },
     "metadata": {},
     "output_type": "display_data"
    },
    {
     "data": {
      "text/html": [
       "<pre style=\"white-space:pre;overflow-x:auto;line-height:normal;font-family:Menlo,'DejaVu Sans Mono',consolas,'Courier New',monospace\">🪩 Cleaning up sandbox resources<span style=\"color: #808000; text-decoration-color: #808000\">...</span>\n",
       "</pre>\n"
      ],
      "text/plain": [
       "🪩 Cleaning up sandbox resources\u001b[33m...\u001b[0m\n"
      ]
     },
     "metadata": {},
     "output_type": "display_data"
    },
    {
     "data": {
      "text/html": [
       "<pre style=\"white-space:pre;overflow-x:auto;line-height:normal;font-family:Menlo,'DejaVu Sans Mono',consolas,'Courier New',monospace\">🧹 Normal exit, cleaning up VM container<span style=\"color: #808000; text-decoration-color: #808000\">...</span>\n",
       "</pre>\n"
      ],
      "text/plain": [
       "🧹 Normal exit, cleaning up VM container\u001b[33m...\u001b[0m\n"
      ]
     },
     "metadata": {},
     "output_type": "display_data"
    },
    {
     "data": {
      "text/html": [
       "<pre style=\"white-space:pre;overflow-x:auto;line-height:normal;font-family:Menlo,'DejaVu Sans Mono',consolas,'Courier New',monospace\"><span style=\"color: #d4b702; text-decoration-color: #d4b702\">━━━━━━━━━━━━━━━━━━━━━━━━━━━━━━━━━━━━━━━━━━━━━━━ </span><span style=\"font-weight: bold\">🧹 Cleanup Process</span><span style=\"color: #d4b702; text-decoration-color: #d4b702\"> ━━━━━━━━━━━━━━━━━━━━━━━━━━━━━━━━━━━━━━━━━━━━━━━━</span>\n",
       "</pre>\n"
      ],
      "text/plain": [
       "\u001b[38;2;212;183;2m━━━━━━━━━━━━━━━━━━━━━━━━━━━━━━━━━━━━━━━━━━━━━━━ \u001b[0m\u001b[1m🧹 Cleanup Process\u001b[0m\u001b[38;2;212;183;2m ━━━━━━━━━━━━━━━━━━━━━━━━━━━━━━━━━━━━━━━━━━━━━━━━\u001b[0m\n"
      ]
     },
     "metadata": {},
     "output_type": "display_data"
    },
    {
     "data": {
      "text/html": [
       "<pre style=\"white-space:pre;overflow-x:auto;line-height:normal;font-family:Menlo,'DejaVu Sans Mono',consolas,'Courier New',monospace\">Removing container directory: <span style=\"color: #800080; text-decoration-color: #800080\">/home/smwhering/IS-master-thesis/src/docker/vms/snapshots/</span><span style=\"color: #ff00ff; text-decoration-color: #ff00ff\">qemu</span>\n",
       "</pre>\n"
      ],
      "text/plain": [
       "Removing container directory: \u001b[35m/home/smwhering/IS-master-thesis/src/docker/vms/snapshots/\u001b[0m\u001b[95mqemu\u001b[0m\n"
      ]
     },
     "metadata": {},
     "output_type": "display_data"
    },
    {
     "data": {
      "text/html": [
       "<pre style=\"white-space:pre;overflow-x:auto;line-height:normal;font-family:Menlo,'DejaVu Sans Mono',consolas,'Courier New',monospace\">✅ Cleanup complete.\n",
       "</pre>\n"
      ],
      "text/plain": [
       "✅ Cleanup complete.\n"
      ]
     },
     "metadata": {},
     "output_type": "display_data"
    },
    {
     "ename": "HTTPError",
     "evalue": "403 Client Error: Forbidden for url: http://localhost:8888/api/kernels",
     "output_type": "error",
     "traceback": [
      "\u001b[31m---------------------------------------------------------------------------\u001b[39m",
      "\u001b[31mHTTPError\u001b[39m                                 Traceback (most recent call last)",
      "\u001b[36mCell\u001b[39m\u001b[36m \u001b[39m\u001b[32mIn[1]\u001b[39m\u001b[32m, line 82\u001b[39m\n\u001b[32m     78\u001b[39m             memory_step.observations = \u001b[33mf\u001b[39m\u001b[33m\"\u001b[39m\u001b[33m⚠️ Failed to load screenshot: \u001b[39m\u001b[38;5;132;01m{\u001b[39;00me\u001b[38;5;132;01m}\u001b[39;00m\u001b[33m\"\u001b[39m\n\u001b[32m     81\u001b[39m config = SandboxVMConfig(host_server_dir=Path(\u001b[33m\"\u001b[39m\u001b[33msandbox/server/\u001b[39m\u001b[33m\"\u001b[39m))\n\u001b[32m---> \u001b[39m\u001b[32m82\u001b[39m agent = \u001b[43mSandboxCodeAgent\u001b[49m\u001b[43m(\u001b[49m\n\u001b[32m     83\u001b[39m \u001b[43m    \u001b[49m\u001b[43mtools\u001b[49m\u001b[43m=\u001b[49m\u001b[43m[\u001b[49m\u001b[43m]\u001b[49m\u001b[43m,\u001b[49m\n\u001b[32m     84\u001b[39m \u001b[43m    \u001b[49m\u001b[43mmodel\u001b[49m\u001b[43m=\u001b[49m\u001b[43mmodel\u001b[49m\u001b[43m,\u001b[49m\n\u001b[32m     85\u001b[39m \u001b[43m    \u001b[49m\u001b[43mexecutor_type\u001b[49m\u001b[43m=\u001b[49m\u001b[33;43m\"\u001b[39;49m\u001b[33;43msandbox\u001b[39;49m\u001b[33;43m\"\u001b[39;49m\u001b[43m,\u001b[49m\n\u001b[32m     86\u001b[39m \u001b[43m    \u001b[49m\u001b[43mexecutor_kwargs\u001b[49m\u001b[43m=\u001b[49m\u001b[43m{\u001b[49m\n\u001b[32m     87\u001b[39m \u001b[43m        \u001b[49m\u001b[33;43m\"\u001b[39;49m\u001b[33;43mconfig\u001b[39;49m\u001b[33;43m\"\u001b[39;49m\u001b[43m:\u001b[49m\u001b[43m \u001b[49m\u001b[43mconfig\u001b[49m\u001b[43m,\u001b[49m\n\u001b[32m     88\u001b[39m \u001b[43m        \u001b[49m\u001b[33;43m\"\u001b[39;49m\u001b[33;43mpreserve_on_exit\u001b[39;49m\u001b[33;43m\"\u001b[39;49m\u001b[43m:\u001b[49m\u001b[43m \u001b[49m\u001b[38;5;28;43;01mFalse\u001b[39;49;00m\u001b[43m,\u001b[49m\n\u001b[32m     89\u001b[39m \u001b[43m    \u001b[49m\u001b[43m}\u001b[49m\u001b[43m,\u001b[49m\n\u001b[32m     90\u001b[39m \u001b[43m    \u001b[49m\u001b[43madditional_authorized_imports\u001b[49m\u001b[43m=\u001b[49m\u001b[43m[\u001b[49m\u001b[33;43m\"\u001b[39;49m\u001b[33;43mpyautogui\u001b[39;49m\u001b[33;43m\"\u001b[39;49m\u001b[43m]\u001b[49m\u001b[43m,\u001b[49m\n\u001b[32m     91\u001b[39m \u001b[43m    \u001b[49m\u001b[43mstep_callbacks\u001b[49m\u001b[43m=\u001b[49m\u001b[43m[\u001b[49m\u001b[43msave_screenshot_callback\u001b[49m\u001b[43m]\u001b[49m\u001b[43m,\u001b[49m\n\u001b[32m     92\u001b[39m \u001b[43m    \u001b[49m\u001b[38;5;66;43;03m# verbosity_level=LogLevel.INFO,\u001b[39;49;00m\n\u001b[32m     93\u001b[39m \u001b[43m)\u001b[49m\n\u001b[32m     94\u001b[39m take_initial_screenshot(agent, label=\u001b[33m\"\u001b[39m\u001b[33mbefore_run\u001b[39m\u001b[33m\"\u001b[39m)\n\u001b[32m     96\u001b[39m GradioUI(agent).launch()\n",
      "\u001b[36mFile \u001b[39m\u001b[32m~/IS-master-thesis/src/agent/sandbox_agent.py:57\u001b[39m, in \u001b[36mSandboxCodeAgent.__init__\u001b[39m\u001b[34m(self, tools, model, prompt_templates, grammar, additional_authorized_imports, planning_interval, executor_type, executor_kwargs, auto_cleanup, max_print_outputs_length, logger, **kwargs)\u001b[39m\n\u001b[32m     54\u001b[39m     kwargs.setdefault(\u001b[33m\"\u001b[39m\u001b[33mstep_callbacks\u001b[39m\u001b[33m\"\u001b[39m, []).append(\u001b[38;5;28mself\u001b[39m._final_step_cleanup)\n\u001b[32m     56\u001b[39m \u001b[38;5;66;03m# Create the sandbox executor directly (don't let base create it)\u001b[39;00m\n\u001b[32m---> \u001b[39m\u001b[32m57\u001b[39m \u001b[38;5;28mself\u001b[39m._sandbox_executor: SandboxExecutor = \u001b[38;5;28;43mself\u001b[39;49m\u001b[43m.\u001b[49m\u001b[43mcreate_python_executor\u001b[49m\u001b[43m(\u001b[49m\u001b[43m)\u001b[49m\n\u001b[32m     59\u001b[39m \u001b[38;5;66;03m# Expose internal components\u001b[39;00m\n\u001b[32m     60\u001b[39m \u001b[38;5;28mself\u001b[39m.ssh = \u001b[38;5;28mself\u001b[39m._sandbox_executor.vm.ssh\n",
      "\u001b[36mFile \u001b[39m\u001b[32m~/IS-master-thesis/src/agent/sandbox_agent.py:87\u001b[39m, in \u001b[36mSandboxCodeAgent.create_python_executor\u001b[39m\u001b[34m(self)\u001b[39m\n\u001b[32m     84\u001b[39m \u001b[38;5;28;01mif\u001b[39;00m \u001b[38;5;129;01mnot\u001b[39;00m config:\n\u001b[32m     85\u001b[39m     \u001b[38;5;28;01mraise\u001b[39;00m \u001b[38;5;167;01mValueError\u001b[39;00m(\u001b[33m\"\u001b[39m\u001b[33mMissing required `config` in executor_kwargs for sandbox executor.\u001b[39m\u001b[33m\"\u001b[39m)\n\u001b[32m---> \u001b[39m\u001b[32m87\u001b[39m \u001b[38;5;28;01mreturn\u001b[39;00m \u001b[43mSandboxExecutor\u001b[49m\u001b[43m(\u001b[49m\n\u001b[32m     88\u001b[39m \u001b[43m    \u001b[49m\u001b[43madditional_imports\u001b[49m\u001b[43m=\u001b[49m\u001b[38;5;28;43mself\u001b[39;49m\u001b[43m.\u001b[49m\u001b[43madditional_authorized_imports\u001b[49m\u001b[43m,\u001b[49m\n\u001b[32m     89\u001b[39m \u001b[43m    \u001b[49m\u001b[43mlogger\u001b[49m\u001b[43m=\u001b[49m\u001b[38;5;28;43mself\u001b[39;49m\u001b[43m.\u001b[49m\u001b[43mlogger\u001b[49m\u001b[43m,\u001b[49m\n\u001b[32m     90\u001b[39m \u001b[43m    \u001b[49m\u001b[43mconfig\u001b[49m\u001b[43m=\u001b[49m\u001b[43mconfig\u001b[49m\u001b[43m,\u001b[49m\n\u001b[32m     91\u001b[39m \u001b[43m    \u001b[49m\u001b[43mpreserve_on_exit\u001b[49m\u001b[43m=\u001b[49m\u001b[38;5;28;43mself\u001b[39;49m\u001b[43m.\u001b[49m\u001b[43mexecutor_kwargs\u001b[49m\u001b[43m.\u001b[49m\u001b[43mget\u001b[49m\u001b[43m(\u001b[49m\u001b[33;43m\"\u001b[39;49m\u001b[33;43mpreserve_on_exit\u001b[39;49m\u001b[33;43m\"\u001b[39;49m\u001b[43m,\u001b[49m\u001b[43m \u001b[49m\u001b[38;5;28;43;01mFalse\u001b[39;49;00m\u001b[43m)\u001b[49m\u001b[43m,\u001b[49m\n\u001b[32m     92\u001b[39m \u001b[43m    \u001b[49m\u001b[43mreconnect\u001b[49m\u001b[43m=\u001b[49m\u001b[38;5;28;43mself\u001b[39;49m\u001b[43m.\u001b[49m\u001b[43mexecutor_kwargs\u001b[49m\u001b[43m.\u001b[49m\u001b[43mget\u001b[49m\u001b[43m(\u001b[49m\u001b[33;43m\"\u001b[39;49m\u001b[33;43mreconnect\u001b[39;49m\u001b[33;43m\"\u001b[39;49m\u001b[43m,\u001b[49m\u001b[43m \u001b[49m\u001b[38;5;28;43;01mFalse\u001b[39;49;00m\u001b[43m)\u001b[49m\u001b[43m,\u001b[49m\n\u001b[32m     93\u001b[39m \u001b[43m    \u001b[49m\u001b[43m*\u001b[49m\u001b[43m*\u001b[49m\u001b[38;5;28;43mself\u001b[39;49m\u001b[43m.\u001b[49m\u001b[43mexecutor_kwargs\u001b[49m\u001b[43m.\u001b[49m\u001b[43mget\u001b[49m\u001b[43m(\u001b[49m\u001b[33;43m\"\u001b[39;49m\u001b[33;43mextra_args\u001b[39;49m\u001b[33;43m\"\u001b[39;49m\u001b[43m,\u001b[49m\u001b[43m \u001b[49m\u001b[43m{\u001b[49m\u001b[43m}\u001b[49m\u001b[43m)\u001b[49m\u001b[43m,\u001b[49m\n\u001b[32m     94\u001b[39m \u001b[43m\u001b[49m\u001b[43m)\u001b[49m\n",
      "\u001b[36mFile \u001b[39m\u001b[32m~/IS-master-thesis/src/agent/executor.py:58\u001b[39m, in \u001b[36mSandboxExecutor.__init__\u001b[39m\u001b[34m(self, additional_imports, logger, config, preserve_on_exit, reconnect, **kwargs)\u001b[39m\n\u001b[32m     55\u001b[39m \u001b[38;5;28mself\u001b[39m.ws_url = \u001b[33mf\u001b[39m\u001b[33m\"\u001b[39m\u001b[33mws://\u001b[39m\u001b[38;5;132;01m{\u001b[39;00m\u001b[38;5;28mself\u001b[39m.host\u001b[38;5;132;01m}\u001b[39;00m\u001b[33m:\u001b[39m\u001b[38;5;132;01m{\u001b[39;00m\u001b[38;5;28mself\u001b[39m.port\u001b[38;5;132;01m}\u001b[39;00m\u001b[33m\"\u001b[39m\n\u001b[32m     57\u001b[39m \u001b[38;5;28mself\u001b[39m.logger.log(\u001b[33m\"\u001b[39m\u001b[33m🔗 Connect or create Jupyter Kernel\u001b[39m\u001b[33m\"\u001b[39m, level=LogLevel.DEBUG)\n\u001b[32m---> \u001b[39m\u001b[32m58\u001b[39m \u001b[38;5;28;43mself\u001b[39;49m\u001b[43m.\u001b[49m\u001b[43m_connect_or_create_kernel\u001b[49m\u001b[43m(\u001b[49m\u001b[43m)\u001b[49m\n\u001b[32m     60\u001b[39m \u001b[38;5;28mself\u001b[39m.installed_packages = \u001b[38;5;28mself\u001b[39m.install_packages(additional_imports)\n\u001b[32m     62\u001b[39m \u001b[38;5;28mself\u001b[39m.logger.log_rule(\u001b[33m\"\u001b[39m\u001b[33m✅ Sandbox Ready\u001b[39m\u001b[33m\"\u001b[39m)\n",
      "\u001b[36mFile \u001b[39m\u001b[32m~/IS-master-thesis/src/agent/executor.py:111\u001b[39m, in \u001b[36mSandboxExecutor._connect_or_create_kernel\u001b[39m\u001b[34m(self, retries, delay)\u001b[39m\n\u001b[32m    109\u001b[39m \u001b[38;5;28mself\u001b[39m.logger.log(\u001b[33m\"\u001b[39m\u001b[33m🔍 Requesting list of existing kernels...\u001b[39m\u001b[33m\"\u001b[39m, level=LogLevel.DEBUG)\n\u001b[32m    110\u001b[39m r = requests.get(\u001b[33mf\u001b[39m\u001b[33m\"\u001b[39m\u001b[38;5;132;01m{\u001b[39;00m\u001b[38;5;28mself\u001b[39m.base_url\u001b[38;5;132;01m}\u001b[39;00m\u001b[33m/api/kernels\u001b[39m\u001b[33m\"\u001b[39m, timeout=\u001b[32m5\u001b[39m)\n\u001b[32m--> \u001b[39m\u001b[32m111\u001b[39m \u001b[43mr\u001b[49m\u001b[43m.\u001b[49m\u001b[43mraise_for_status\u001b[49m\u001b[43m(\u001b[49m\u001b[43m)\u001b[49m\n\u001b[32m    112\u001b[39m kernels = r.json()\n\u001b[32m    114\u001b[39m \u001b[38;5;28;01mif\u001b[39;00m kernels:\n",
      "\u001b[36mFile \u001b[39m\u001b[32m~/IS-master-thesis/.venv/lib/python3.11/site-packages/requests/models.py:1024\u001b[39m, in \u001b[36mResponse.raise_for_status\u001b[39m\u001b[34m(self)\u001b[39m\n\u001b[32m   1019\u001b[39m     http_error_msg = (\n\u001b[32m   1020\u001b[39m         \u001b[33mf\u001b[39m\u001b[33m\"\u001b[39m\u001b[38;5;132;01m{\u001b[39;00m\u001b[38;5;28mself\u001b[39m.status_code\u001b[38;5;132;01m}\u001b[39;00m\u001b[33m Server Error: \u001b[39m\u001b[38;5;132;01m{\u001b[39;00mreason\u001b[38;5;132;01m}\u001b[39;00m\u001b[33m for url: \u001b[39m\u001b[38;5;132;01m{\u001b[39;00m\u001b[38;5;28mself\u001b[39m.url\u001b[38;5;132;01m}\u001b[39;00m\u001b[33m\"\u001b[39m\n\u001b[32m   1021\u001b[39m     )\n\u001b[32m   1023\u001b[39m \u001b[38;5;28;01mif\u001b[39;00m http_error_msg:\n\u001b[32m-> \u001b[39m\u001b[32m1024\u001b[39m     \u001b[38;5;28;01mraise\u001b[39;00m HTTPError(http_error_msg, response=\u001b[38;5;28mself\u001b[39m)\n",
      "\u001b[31mHTTPError\u001b[39m: 403 Client Error: Forbidden for url: http://localhost:8888/api/kernels"
     ]
    }
   ],
   "source": [
    "import sys\n",
    "import time\n",
    "from pathlib import Path\n",
    "\n",
    "from PIL import Image\n",
    "from smolagents import GradioUI, ActionStep, VLLMModel, LogLevel\n",
    "\n",
    "# Allow imports from the parent directory\n",
    "from agent import SandboxCodeAgent\n",
    "from sandbox.configs import SandboxVMConfig\n",
    "\n",
    "# ───────────────────────────── Agent Configuration ─────────────────────────────\n",
    "# MODEL\n",
    "# model_id = \"meta-llama/Llama-3.3-70B-Instruct\"\n",
    "# model = InferenceClientModel(\n",
    "#     token=os.getenv(\"HF_TOKEN\"),  # model_id=model_id,\n",
    "# )  # You can choose to not pass any model_id to InferenceClientModel to use a default model\n",
    "\n",
    "\n",
    "# model = TransformersModel(model_id=\"Qwen/Qwen2.5-Coder-7B-Instruct\", max_new_tokens=4096, device_map=\"auto\")\n",
    "\n",
    "# model = VLLMModel(model_id=\"HuggingFaceTB/SmolLM2-1.7B-Instruct\")\n",
    "model = VLLMModel(model_id=\"HuggingFaceTB/SmolVLM2-2.2B-Instruct\")\n",
    "\n",
    "\n",
    "# ───────────────────────────── Helpers & Utils ─────────────────────────\n",
    "def take_initial_screenshot(agent: SandboxCodeAgent, label: str = \"initial\"):\n",
    "    client = agent.python_executor.vm.sandbox_client\n",
    "    result = client.take_screenshot()\n",
    "    if \"screenshot_path\" in result:\n",
    "        try:\n",
    "            image = Image.open(result[\"screenshot_path\"])\n",
    "            print(image)\n",
    "            print(f\"📸 Saved initial screenshot: {label}.png\")\n",
    "        except Exception as e:\n",
    "            print(f\"⚠️ Failed to save initial screenshot: {e}\")\n",
    "\n",
    "\n",
    "def save_screenshot_callback(memory_step: ActionStep, agent: SandboxCodeAgent):\n",
    "    \"\"\"Enhanced callback that takes screenshots with the FastAPI sandbox client.\"\"\"\n",
    "    # Wait for any animations or UI updates to complete\n",
    "    time.sleep(3.0)\n",
    "\n",
    "    # Clean up previous screenshots to save memory\n",
    "    current_step = memory_step.step_number\n",
    "    for previous_memory_step in agent.memory.steps:\n",
    "        if isinstance(previous_memory_step, ActionStep) and previous_memory_step.observations_images is not None:\n",
    "            if previous_memory_step.step_number <= current_step - 2:\n",
    "                previous_memory_step.observations_images = None\n",
    "\n",
    "    # Take the screenshot using the sandbox client\n",
    "    client = agent.python_executor.vm.sandbox_client\n",
    "    result = client.take_screenshot()\n",
    "    if \"screenshot_path\" in result:\n",
    "        path = result[\"screenshot_path\"]\n",
    "        try:\n",
    "            image = Image.open(path)\n",
    "            memory_step.observations_images = [image.copy()]\n",
    "\n",
    "            # Add detailed observation information\n",
    "            mouse_info = f\"Mouse position: {result['mouse_position']}\"\n",
    "            screen_info = f\"Screen resolution: {image.size[0]}x{image.size[1]} pixels\"\n",
    "\n",
    "            # Get additional VM state if available\n",
    "            vm_state = client.get_vm_state() if hasattr(client, \"get_vm_state\") else {}\n",
    "            active_window = vm_state.get(\"active_window\", \"Unknown\")\n",
    "\n",
    "            observations = [\n",
    "                f\"🖼️ Screenshot captured at step {current_step}\",\n",
    "                mouse_info,\n",
    "                screen_info,\n",
    "                f\"Active window: {active_window}\",\n",
    "            ]\n",
    "\n",
    "            memory_step.observations = \"\\n\".join(observations)\n",
    "            print(f\"Captured a VM screenshot: {image.size[0]}x{image.size[1]} pixels\")\n",
    "        except Exception as e:\n",
    "            memory_step.observations = f\"⚠️ Failed to load screenshot: {e}\"\n",
    "\n",
    "\n",
    "config = SandboxVMConfig(host_server_dir=Path(\"sandbox/server/\"))\n",
    "agent = SandboxCodeAgent(\n",
    "    tools=[],\n",
    "    model=model,\n",
    "    executor_type=\"sandbox\",\n",
    "    executor_kwargs={\n",
    "        \"config\": config,\n",
    "        \"preserve_on_exit\": False,\n",
    "    },\n",
    "    additional_authorized_imports=[\"pyautogui\"],\n",
    "    step_callbacks=[save_screenshot_callback],\n",
    "    # verbosity_level=LogLevel.INFO,\n",
    ")\n",
    "take_initial_screenshot(agent, label=\"before_run\")\n",
    "\n",
    "GradioUI(agent).launch()\n"
   ]
  },
  {
   "cell_type": "code",
   "execution_count": null,
   "id": "a9c9b814",
   "metadata": {},
   "outputs": [],
   "source": [
    "run = agent.run(\n",
    "    \"\"\"Run the following code:\n",
    "```python\n",
    "import pyautogui\n",
    "\n",
    "# Move the mouse to the center of the screen\n",
    "screen_width, screen_height = pyautogui.size()\n",
    "center_x, center_y = screen_width // 2, screen_height // 2\n",
    "pyautogui.moveTo(center_x, center_y)\n",
    "print('Mouse moved to the center of the screen')\n",
    "\n",
    "\n",
    "If you can see the mouse moved to the center of the screen and the screenshot saved, return \"success\" else return \"failure\"\n",
    "```\n",
    "\"\"\",\n",
    "    max_steps=4,\n",
    "    stream=False,\n",
    ")"
   ]
  }
 ],
 "metadata": {
  "kernelspec": {
   "display_name": ".venv (3.11.9)",
   "language": "python",
   "name": "python3"
  },
  "language_info": {
   "codemirror_mode": {
    "name": "ipython",
    "version": 3
   },
   "file_extension": ".py",
   "mimetype": "text/x-python",
   "name": "python",
   "nbconvert_exporter": "python",
   "pygments_lexer": "ipython3",
   "version": "3.11.9"
  }
 },
 "nbformat": 4,
 "nbformat_minor": 5
}

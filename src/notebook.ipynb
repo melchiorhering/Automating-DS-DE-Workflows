{
 "cells": [
  {
   "cell_type": "code",
   "execution_count": 7,
   "metadata": {},
   "outputs": [],
   "source": [
    "from environment import Environment, VMConfig\n",
    "from smolagents import CodeAgent, HfApiModel\n",
    "import docker\n",
    "import logging\n",
    "import os\n",
    "from pathlib import Path"
   ]
  },
  {
   "cell_type": "code",
   "execution_count": 8,
   "metadata": {},
   "outputs": [],
   "source": [
    "model_id = \"meta-llama/Llama-3.3-70B-Instruct\"\n",
    "agent = CodeAgent(name=\"TestAgent\", tools=[], model=HfApiModel(model_id=model_id), add_base_tools=True)\n"
   ]
  },
  {
   "cell_type": "markdown",
   "metadata": {},
   "source": [
    "## Setting up the Environment\n",
    "\n",
    "This notebook demonstrates how to set up a virtualized environment for testing using temporary directories.\n"
   ]
  },
  {
   "cell_type": "code",
   "execution_count": null,
   "metadata": {},
   "outputs": [
    {
     "name": "stdout",
     "output_type": "stream",
     "text": [
      "Root directory: /home/smwhering/IS-master-thesis\n",
      "Existing containers: []\n",
      "Configuration details:\n",
      "Project root: /home/smwhering/IS-master-thesis/src\n",
      "Volumes directory: /home/smwhering/IS-master-thesis/src/docker/volumes\n",
      "VM environments: /home/smwhering/IS-master-thesis/src/docker/volumes/environments\n",
      "Starting port ranges: {'vnc': 9006, 'server': 9765}\n"
     ]
    },
    {
     "name": "stderr",
     "output_type": "stream",
     "text": [
      "Copying VM files: 0files [00:00, ?files/s]\n",
      "Error waiting for WebSocket server to be ready: WebSocket server failed to become ready within 300s timeout period\n",
      "Failed to start VM: WebSocket server failed to become ready within 300s timeout period\n"
     ]
    },
    {
     "ename": "TimeoutError",
     "evalue": "WebSocket server failed to become ready within 300s timeout period",
     "output_type": "error",
     "traceback": [
      "\u001b[31m---------------------------------------------------------------------------\u001b[39m",
      "\u001b[31mTimeoutError\u001b[39m                              Traceback (most recent call last)",
      "\u001b[36mCell\u001b[39m\u001b[36m \u001b[39m\u001b[32mIn[9]\u001b[39m\u001b[32m, line 27\u001b[39m\n\u001b[32m     25\u001b[39m \u001b[38;5;66;03m# Create environment with the config\u001b[39;00m\n\u001b[32m     26\u001b[39m env = Environment(config=ubuntu_config)\n\u001b[32m---> \u001b[39m\u001b[32m27\u001b[39m \u001b[43menv\u001b[49m\u001b[43m.\u001b[49m\u001b[43mstart_vm\u001b[49m\u001b[43m(\u001b[49m\u001b[43m)\u001b[49m\n",
      "\u001b[36mFile \u001b[39m\u001b[32m~/IS-master-thesis/src/environment.py:1112\u001b[39m, in \u001b[36mEnvironment.start_vm\u001b[39m\u001b[34m(self, boot_source, name_prefix)\u001b[39m\n\u001b[32m   1110\u001b[39m \u001b[38;5;28;01mif\u001b[39;00m \u001b[33m\"\u001b[39m\u001b[33mserver\u001b[39m\u001b[33m\"\u001b[39m \u001b[38;5;129;01min\u001b[39;00m ports_dict:\n\u001b[32m   1111\u001b[39m     server_port = ports_dict.get(\u001b[33m\"\u001b[39m\u001b[33mserver\u001b[39m\u001b[33m\"\u001b[39m)\n\u001b[32m-> \u001b[39m\u001b[32m1112\u001b[39m     \u001b[38;5;28;43mself\u001b[39;49m\u001b[43m.\u001b[49m\u001b[43mnetwork_manager\u001b[49m\u001b[43m.\u001b[49m\u001b[43mwait_for_vm_ready\u001b[49m\u001b[43m(\u001b[49m\u001b[43mserver_port\u001b[49m\u001b[43m,\u001b[49m\u001b[43m \u001b[49m\u001b[43mcontainer\u001b[49m\u001b[43m)\u001b[49m\n\u001b[32m   1114\u001b[39m \u001b[38;5;66;03m# Return container and connection info\u001b[39;00m\n\u001b[32m   1115\u001b[39m connection_info = {\u001b[33m\"\u001b[39m\u001b[33mcontainer_name\u001b[39m\u001b[33m\"\u001b[39m: container_name, \u001b[33m\"\u001b[39m\u001b[33mhost_vnc\u001b[39m\u001b[33m\"\u001b[39m: host_vnc, \u001b[33m\"\u001b[39m\u001b[33minstance_dir\u001b[39m\u001b[33m\"\u001b[39m: instance_dir}\n",
      "\u001b[36mFile \u001b[39m\u001b[32m~/IS-master-thesis/src/environment.py:506\u001b[39m, in \u001b[36mwait_for_vm_ready\u001b[39m\u001b[34m(self, server_port, container, timeout)\u001b[39m\n\u001b[32m      0\u001b[39m <Error retrieving source code with stack_data see ipython/ipython#13598>\n",
      "\u001b[31mTimeoutError\u001b[39m: WebSocket server failed to become ready within 300s timeout period"
     ]
    }
   ],
   "source": [
    "# Set up the config with the temporary directory\n",
    "ROOT = Path(os.getcwd()).parent\n",
    "print(f\"Root directory: {ROOT}\")\n",
    "\n",
    "# Check for any existing containers that might cause port conflicts\n",
    "docker_client = docker.from_env()\n",
    "containers = docker_client.containers.list(all=True)\n",
    "print(f\"Existing containers: {containers}\")\n",
    "\n",
    "# Create a configuration with a higher starting port range to avoid conflicts\n",
    "ubuntu_config = VMConfig(\n",
    "    vm_os=\"ubuntu\",\n",
    "    vm_ram_size=\"4G\",\n",
    "    vm_cpu_cores=\"4\",\n",
    "    vm_disk_size=\"20G\",\n",
    "    default_port_ranges={\"vnc\": 9006, \"server\": 9765},  # Use higher port numbers\n",
    ")\n",
    "\n",
    "print(\"Configuration details:\")\n",
    "print(f\"Project root: {ubuntu_config.project_root}\")\n",
    "print(f\"Volumes directory: {ubuntu_config.volumes_directory}\")\n",
    "print(f\"VM environments: {ubuntu_config.vm_environments}\")\n",
    "print(f\"Starting port ranges: {ubuntu_config.default_port_ranges}\")\n",
    "\n",
    "# Create environment with the config\n",
    "env = Environment(config=ubuntu_config)\n",
    "# env.start_vm()\n"
   ]
  },
  {
   "cell_type": "code",
   "execution_count": null,
   "metadata": {},
   "outputs": [],
   "source": []
  }
 ],
 "metadata": {
  "kernelspec": {
   "display_name": ".venv (3.11.9)",
   "language": "python",
   "name": "python3"
  },
  "language_info": {
   "codemirror_mode": {
    "name": "ipython",
    "version": 3
   },
   "file_extension": ".py",
   "mimetype": "text/x-python",
   "name": "python",
   "nbconvert_exporter": "python",
   "pygments_lexer": "ipython3",
   "version": "3.11.9"
  }
 },
 "nbformat": 4,
 "nbformat_minor": 2
}

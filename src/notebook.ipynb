{
 "cells": [
  {
   "cell_type": "code",
   "execution_count": null,
   "id": "023ca67d",
   "metadata": {},
   "outputs": [],
   "source": [
    "import logging\n",
    "from pathlib import Path\n",
    "import time\n",
    "from sandbox.virtualmachine import AgentVMManager, AgentVMConfig\n",
    "\n",
    "# Adjust import path if needed\n",
    "\n",
    "# Setup logging to see what’s happening\n",
    "logging.basicConfig(level=logging.INFO)\n",
    "logger = logging.getLogger(\"NotebookAgentVM\")\n",
    "\n",
    "# Prepare config\n",
    "cfg = AgentVMConfig(\n",
    "    container_name=\"test-agent-vm\",\n",
    "    host_server_dir=Path(\"server/\"),  # Your server directory with start.sh and main.py\n",
    "    host_sandbox_server_port=8765,\n",
    "    host_sandbox_server_host=\"localhost\",\n",
    "    sandbox_server_port=8765,\n",
    "    sandbox_server_host=\"0.0.0.0\",\n",
    "    sandbox_server_dir=Path(\"/home/user/server\"),\n",
    "    # unique_container_name=True,\n",
    ")\n",
    "\n",
    "# Start the agent VM and check if the WebSocket server is ready\n",
    "try:\n",
    "    logger.info(\"🚀 Starting Agent VM and waiting for FastAPI server...\")\n",
    "    with AgentVMManager(cfg, logger=logger) as vm:\n",
    "        logger.info(\"✅ Sandbox VM started!\")\n",
    "\n",
    "        # logger.info(vm.tail_server_logs(20))\n",
    "\n",
    "        time.sleep(360)\n",
    "\n",
    "except Exception as e:\n",
    "    logger.error(f\"\\n❌ Error during startup: {e}\")\n"
   ]
  }
 ],
 "metadata": {
  "kernelspec": {
   "display_name": ".venv (3.11.9)",
   "language": "python",
   "name": "python3"
  },
  "language_info": {
   "codemirror_mode": {
    "name": "ipython",
    "version": 3
   },
   "file_extension": ".py",
   "mimetype": "text/x-python",
   "name": "python",
   "nbconvert_exporter": "python",
   "pygments_lexer": "ipython3",
   "version": "3.11.9"
  }
 },
 "nbformat": 4,
 "nbformat_minor": 5
}

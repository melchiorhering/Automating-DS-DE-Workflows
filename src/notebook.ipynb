{
 "cells": [
  {
   "cell_type": "code",
   "execution_count": 1,
   "metadata": {},
   "outputs": [],
   "source": [
    "from environment import Sandbox\n",
    "from smolagents import CodeAgent, HfApiModel"
   ]
  },
  {
   "cell_type": "code",
   "execution_count": 2,
   "metadata": {},
   "outputs": [],
   "source": [
    "model_id = \"meta-llama/Llama-3.3-70B-Instruct\"\n",
    "agent = CodeAgent(tools=[], model=HfApiModel(model_id=model_id), add_base_tools=True)\n"
   ]
  },
  {
   "cell_type": "code",
   "execution_count": 3,
   "metadata": {},
   "outputs": [
    {
     "name": "stderr",
     "output_type": "stream",
     "text": [
      "2025-04-03 17:36:09 [INFO] VM image not found locally. Downloading Ubuntu image...\n",
      "2025-04-03 17:36:09 [INFO] Downloading VM image from: https://huggingface.co/datasets/xlangai/ubuntu_osworld/resolve/main/Ubuntu.qcow2.zip\n",
      "2025-04-03 17:36:10 [INFO] VM image already fully downloaded.\n",
      "2025-04-03 17:36:10 [INFO] Extracting VM image...\n",
      "2025-04-03 17:38:08 [INFO] VM image extracted to: /home/smwhering/IS-master-thesis/tmp\n",
      "2025-04-03 17:38:08 [INFO] Using VM image: /home/smwhering/IS-master-thesis/tmp/Ubuntu.qcow2\n",
      "2025-04-03 17:38:22 [INFO] Started VM container with ports - VNC: 8006, Server: 5000, Chrome: 9222, VLC: 8080\n",
      "2025-04-03 17:38:22 [INFO] Checking if virtual machine is ready...\n",
      "2025-04-03 17:38:26 [INFO] Checking if virtual machine is ready...\n",
      "2025-04-03 17:38:31 [INFO] Checking if virtual machine is ready...\n",
      "2025-04-03 17:38:32 [INFO] Checking if virtual machine is ready...\n",
      "2025-04-03 17:38:33 [INFO] Checking if virtual machine is ready...\n",
      "2025-04-03 17:38:34 [INFO] Checking if virtual machine is ready...\n",
      "2025-04-03 17:38:35 [INFO] VM is ready!\n"
     ]
    }
   ],
   "source": [
    "# VM-based sandbox usage\n",
    "vm_sandbox = Sandbox(\n",
    "    agent=agent,\n",
    "    task=\"Complete a Windows task\",\n",
    "    use_vm=True,\n",
    "    os_type=\"Ubuntu\",  # or \"Ubuntu\"\n",
    ")"
   ]
  },
  {
   "cell_type": "code",
   "execution_count": null,
   "metadata": {},
   "outputs": [],
   "source": []
  }
 ],
 "metadata": {
  "kernelspec": {
   "display_name": ".venv (3.11.9)",
   "language": "python",
   "name": "python3"
  },
  "language_info": {
   "codemirror_mode": {
    "name": "ipython",
    "version": 3
   },
   "file_extension": ".py",
   "mimetype": "text/x-python",
   "name": "python",
   "nbconvert_exporter": "python",
   "pygments_lexer": "ipython3",
   "version": "3.11.9"
  }
 },
 "nbformat": 4,
 "nbformat_minor": 2
}

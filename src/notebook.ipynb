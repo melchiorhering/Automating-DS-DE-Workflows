{
 "cells": [
  {
   "cell_type": "code",
   "execution_count": 1,
   "id": "023ca67d",
   "metadata": {},
   "outputs": [
    {
     "name": "stderr",
     "output_type": "stream",
     "text": [
      "2025-04-18 10:15:53,006 - QemuVMManager - INFO - VM state: initializing -> creating\n",
      "2025-04-18 10:16:20,889 - QemuVMManager - INFO - Preparing container configuration for TestVM\n",
      "2025-04-18 10:16:21,013 - QemuVMManager - INFO - Created new container TestVM\n",
      "2025-04-18 10:16:21,239 - QemuVMManager - INFO - container started – waiting for SSH\n",
      "2025-04-18 10:16:21,240 - QemuVMManager - INFO - Waiting for SSH connection to be available (timeout: 180s)\n",
      "2025-04-18 10:16:36,240 - QemuVMManager - INFO - SSH connect attempt 1/5\n",
      "Exception (client): Error reading SSH protocol banner\n",
      "Traceback (most recent call last):\n",
      "  File \"/home/smwhering/IS-master-thesis/.venv/lib/python3.11/site-packages/paramiko/transport.py\", line 2369, in _check_banner\n",
      "    buf = self.packetizer.readline(timeout)\n",
      "          ^^^^^^^^^^^^^^^^^^^^^^^^^^^^^^^^^\n",
      "  File \"/home/smwhering/IS-master-thesis/.venv/lib/python3.11/site-packages/paramiko/packet.py\", line 395, in readline\n",
      "    buf += self._read_timeout(timeout)\n",
      "           ^^^^^^^^^^^^^^^^^^^^^^^^^^^\n",
      "  File \"/home/smwhering/IS-master-thesis/.venv/lib/python3.11/site-packages/paramiko/packet.py\", line 673, in _read_timeout\n",
      "    raise socket.timeout()\n",
      "TimeoutError\n",
      "\n",
      "During handling of the above exception, another exception occurred:\n",
      "\n",
      "Traceback (most recent call last):\n",
      "  File \"/home/smwhering/IS-master-thesis/.venv/lib/python3.11/site-packages/paramiko/transport.py\", line 2185, in run\n",
      "    self._check_banner()\n",
      "  File \"/home/smwhering/IS-master-thesis/.venv/lib/python3.11/site-packages/paramiko/transport.py\", line 2373, in _check_banner\n",
      "    raise SSHException(\n",
      "paramiko.ssh_exception.SSHException: Error reading SSH protocol banner\n",
      "\n",
      "2025-04-18 10:16:53,260 - QemuVMManager - INFO - SSH connect attempt 2/5\n",
      "Exception (client): Error reading SSH protocol banner\n",
      "Traceback (most recent call last):\n",
      "  File \"/home/smwhering/IS-master-thesis/.venv/lib/python3.11/site-packages/paramiko/transport.py\", line 2369, in _check_banner\n",
      "    buf = self.packetizer.readline(timeout)\n",
      "          ^^^^^^^^^^^^^^^^^^^^^^^^^^^^^^^^^\n",
      "  File \"/home/smwhering/IS-master-thesis/.venv/lib/python3.11/site-packages/paramiko/packet.py\", line 395, in readline\n",
      "    buf += self._read_timeout(timeout)\n",
      "           ^^^^^^^^^^^^^^^^^^^^^^^^^^^\n",
      "  File \"/home/smwhering/IS-master-thesis/.venv/lib/python3.11/site-packages/paramiko/packet.py\", line 673, in _read_timeout\n",
      "    raise socket.timeout()\n",
      "TimeoutError\n",
      "\n",
      "During handling of the above exception, another exception occurred:\n",
      "\n",
      "Traceback (most recent call last):\n",
      "  File \"/home/smwhering/IS-master-thesis/.venv/lib/python3.11/site-packages/paramiko/transport.py\", line 2185, in run\n",
      "    self._check_banner()\n",
      "  File \"/home/smwhering/IS-master-thesis/.venv/lib/python3.11/site-packages/paramiko/transport.py\", line 2373, in _check_banner\n",
      "    raise SSHException(\n",
      "paramiko.ssh_exception.SSHException: Error reading SSH protocol banner\n",
      "\n",
      "2025-04-18 10:17:12,309 - QemuVMManager - INFO - SSH connect attempt 3/5\n",
      "2025-04-18 10:17:12,669 - QemuVMManager - INFO - SSH connection established\n",
      "2025-04-18 10:17:16,748 - QemuVMManager - INFO - SSH connection established after 55.5s (1 attempts)\n",
      "Warning: Input is not a terminal (fd=0).\n"
     ]
    },
    {
     "data": {
      "text/html": [
       "<pre style=\"white-space:pre;overflow-x:auto;line-height:normal;font-family:Menlo,'DejaVu Sans Mono',consolas,'Courier New',monospace\"><span style=\"color: #008000; text-decoration-color: #008000; font-weight: bold\">Connected – press Ctrl‑D to exit</span>\n",
       "\n",
       "</pre>\n"
      ],
      "text/plain": [
       "\u001b[1;32mConnected – press Ctrl‑D to exit\u001b[0m\n",
       "\n"
      ]
     },
     "metadata": {},
     "output_type": "display_data"
    },
    {
     "name": "stdout",
     "output_type": "stream",
     "text": [
      "[ssh-sandbox]$\n",
      "\n",
      "\n",
      "\n",
      "\n",
      "\n",
      "\n",
      "                "
     ]
    },
    {
     "data": {
      "text/html": [
       "<pre style=\"white-space:pre;overflow-x:auto;line-height:normal;font-family:Menlo,'DejaVu Sans Mono',consolas,'Courier New',monospace\">\n",
       "<span style=\"color: #808000; text-decoration-color: #808000; font-weight: bold\">Leaving SSH REPL</span>\n",
       "</pre>\n"
      ],
      "text/plain": [
       "\n",
       "\u001b[1;33mLeaving SSH REPL\u001b[0m\n"
      ]
     },
     "metadata": {},
     "output_type": "display_data"
    },
    {
     "ename": "AssertionError",
     "evalue": "Application is already running.",
     "output_type": "error",
     "traceback": [
      "\u001b[31m---------------------------------------------------------------------------\u001b[39m",
      "\u001b[31mAssertionError\u001b[39m                            Traceback (most recent call last)",
      "\u001b[36mCell\u001b[39m\u001b[36m \u001b[39m\u001b[32mIn[1]\u001b[39m\u001b[32m, line 22\u001b[39m\n\u001b[32m     19\u001b[39m vm.start_container()\n\u001b[32m     21\u001b[39m \u001b[38;5;66;03m# coloured REPL with TAB completion – now works in the notebook cell\u001b[39;00m\n\u001b[32m---> \u001b[39m\u001b[32m22\u001b[39m \u001b[43mvm\u001b[49m\u001b[43m.\u001b[49m\u001b[43mrepl\u001b[49m\u001b[43m(\u001b[49m\u001b[43m)\u001b[49m\n",
      "\u001b[36mFile \u001b[39m\u001b[32m~/IS-master-thesis/src/sandbox/qemu.py:464\u001b[39m, in \u001b[36mSSHClient.interactive_repl\u001b[39m\u001b[34m(self)\u001b[39m\n\u001b[32m    461\u001b[39m \u001b[38;5;28;01mwhile\u001b[39;00m \u001b[38;5;28;01mTrue\u001b[39;00m:\n\u001b[32m    462\u001b[39m     \u001b[38;5;66;03m# run prompt *inside* the Jupyter event loop\u001b[39;00m\n\u001b[32m    463\u001b[39m     \u001b[38;5;28;01mtry\u001b[39;00m:\n\u001b[32m--> \u001b[39m\u001b[32m464\u001b[39m         line = \u001b[43msession\u001b[49m\u001b[43m.\u001b[49m\u001b[43mprompt\u001b[49m\u001b[43m(\u001b[49m\u001b[43min_thread\u001b[49m\u001b[43m=\u001b[49m\u001b[38;5;28;43;01mTrue\u001b[39;49;00m\u001b[43m)\u001b[49m\n\u001b[32m    465\u001b[39m     \u001b[38;5;28;01mexcept\u001b[39;00m \u001b[38;5;167;01mKeyboardInterrupt\u001b[39;00m:\n\u001b[32m    466\u001b[39m         \u001b[38;5;28;01mcontinue\u001b[39;00m  \u001b[38;5;66;03m# clear input line on Ctrl‑C\u001b[39;00m\n",
      "\u001b[36mFile \u001b[39m\u001b[32m~/IS-master-thesis/.venv/lib/python3.11/site-packages/prompt_toolkit/shortcuts/prompt.py:1035\u001b[39m, in \u001b[36mPromptSession.prompt\u001b[39m\u001b[34m(self, message, editing_mode, refresh_interval, vi_mode, lexer, completer, complete_in_thread, is_password, key_bindings, bottom_toolbar, style, color_depth, cursor, include_default_pygments_style, style_transformation, swap_light_and_dark_colors, rprompt, multiline, prompt_continuation, wrap_lines, enable_history_search, search_ignore_case, complete_while_typing, validate_while_typing, complete_style, auto_suggest, validator, clipboard, mouse_support, input_processors, placeholder, reserve_space_for_menu, enable_system_prompt, enable_suspend, enable_open_in_editor, tempfile_suffix, tempfile, default, accept_default, pre_run, set_exception_handler, handle_sigint, in_thread, inputhook)\u001b[39m\n\u001b[32m   1032\u001b[39m     \u001b[38;5;28;01mwith\u001b[39;00m \u001b[38;5;28mself\u001b[39m._dumb_prompt(\u001b[38;5;28mself\u001b[39m.message) \u001b[38;5;28;01mas\u001b[39;00m dump_app:\n\u001b[32m   1033\u001b[39m         \u001b[38;5;28;01mreturn\u001b[39;00m dump_app.run(in_thread=in_thread, handle_sigint=handle_sigint)\n\u001b[32m-> \u001b[39m\u001b[32m1035\u001b[39m \u001b[38;5;28;01mreturn\u001b[39;00m \u001b[38;5;28;43mself\u001b[39;49m\u001b[43m.\u001b[49m\u001b[43mapp\u001b[49m\u001b[43m.\u001b[49m\u001b[43mrun\u001b[49m\u001b[43m(\u001b[49m\n\u001b[32m   1036\u001b[39m \u001b[43m    \u001b[49m\u001b[43mset_exception_handler\u001b[49m\u001b[43m=\u001b[49m\u001b[43mset_exception_handler\u001b[49m\u001b[43m,\u001b[49m\n\u001b[32m   1037\u001b[39m \u001b[43m    \u001b[49m\u001b[43min_thread\u001b[49m\u001b[43m=\u001b[49m\u001b[43min_thread\u001b[49m\u001b[43m,\u001b[49m\n\u001b[32m   1038\u001b[39m \u001b[43m    \u001b[49m\u001b[43mhandle_sigint\u001b[49m\u001b[43m=\u001b[49m\u001b[43mhandle_sigint\u001b[49m\u001b[43m,\u001b[49m\n\u001b[32m   1039\u001b[39m \u001b[43m    \u001b[49m\u001b[43minputhook\u001b[49m\u001b[43m=\u001b[49m\u001b[43minputhook\u001b[49m\u001b[43m,\u001b[49m\n\u001b[32m   1040\u001b[39m \u001b[43m\u001b[49m\u001b[43m)\u001b[49m\n",
      "\u001b[36mFile \u001b[39m\u001b[32m~/IS-master-thesis/.venv/lib/python3.11/site-packages/prompt_toolkit/application/application.py:954\u001b[39m, in \u001b[36mApplication.run\u001b[39m\u001b[34m(self, pre_run, set_exception_handler, handle_sigint, in_thread, inputhook)\u001b[39m\n\u001b[32m    951\u001b[39m     thread.join()\n\u001b[32m    953\u001b[39m     \u001b[38;5;28;01mif\u001b[39;00m exception \u001b[38;5;129;01mis\u001b[39;00m \u001b[38;5;129;01mnot\u001b[39;00m \u001b[38;5;28;01mNone\u001b[39;00m:\n\u001b[32m--> \u001b[39m\u001b[32m954\u001b[39m         \u001b[38;5;28;01mraise\u001b[39;00m exception\n\u001b[32m    955\u001b[39m     \u001b[38;5;28;01mreturn\u001b[39;00m result\n\u001b[32m    957\u001b[39m coro = \u001b[38;5;28mself\u001b[39m.run_async(\n\u001b[32m    958\u001b[39m     pre_run=pre_run,\n\u001b[32m    959\u001b[39m     set_exception_handler=set_exception_handler,\n\u001b[32m    960\u001b[39m     handle_sigint=handle_sigint,\n\u001b[32m    961\u001b[39m )\n",
      "\u001b[36mFile \u001b[39m\u001b[32m~/IS-master-thesis/.venv/lib/python3.11/site-packages/prompt_toolkit/application/application.py:939\u001b[39m, in \u001b[36mApplication.run.<locals>.run_in_thread\u001b[39m\u001b[34m()\u001b[39m\n\u001b[32m    937\u001b[39m \u001b[38;5;28;01mnonlocal\u001b[39;00m result, exception\n\u001b[32m    938\u001b[39m \u001b[38;5;28;01mtry\u001b[39;00m:\n\u001b[32m--> \u001b[39m\u001b[32m939\u001b[39m     result = \u001b[38;5;28;43mself\u001b[39;49m\u001b[43m.\u001b[49m\u001b[43mrun\u001b[49m\u001b[43m(\u001b[49m\n\u001b[32m    940\u001b[39m \u001b[43m        \u001b[49m\u001b[43mpre_run\u001b[49m\u001b[43m=\u001b[49m\u001b[43mpre_run\u001b[49m\u001b[43m,\u001b[49m\n\u001b[32m    941\u001b[39m \u001b[43m        \u001b[49m\u001b[43mset_exception_handler\u001b[49m\u001b[43m=\u001b[49m\u001b[43mset_exception_handler\u001b[49m\u001b[43m,\u001b[49m\n\u001b[32m    942\u001b[39m \u001b[43m        \u001b[49m\u001b[38;5;66;43;03m# Signal handling only works in the main thread.\u001b[39;49;00m\n\u001b[32m    943\u001b[39m \u001b[43m        \u001b[49m\u001b[43mhandle_sigint\u001b[49m\u001b[43m=\u001b[49m\u001b[38;5;28;43;01mFalse\u001b[39;49;00m\u001b[43m,\u001b[49m\n\u001b[32m    944\u001b[39m \u001b[43m        \u001b[49m\u001b[43minputhook\u001b[49m\u001b[43m=\u001b[49m\u001b[43minputhook\u001b[49m\u001b[43m,\u001b[49m\n\u001b[32m    945\u001b[39m \u001b[43m    \u001b[49m\u001b[43m)\u001b[49m\n\u001b[32m    946\u001b[39m \u001b[38;5;28;01mexcept\u001b[39;00m \u001b[38;5;167;01mBaseException\u001b[39;00m \u001b[38;5;28;01mas\u001b[39;00m e:\n\u001b[32m    947\u001b[39m     exception = e\n",
      "\u001b[36mFile \u001b[39m\u001b[32m~/IS-master-thesis/.venv/lib/python3.11/site-packages/prompt_toolkit/application/application.py:1002\u001b[39m, in \u001b[36mApplication.run\u001b[39m\u001b[34m(self, pre_run, set_exception_handler, handle_sigint, in_thread, inputhook)\u001b[39m\n\u001b[32m    998\u001b[39m         \u001b[38;5;28;01mreturn\u001b[39;00m loop.run_until_complete(coro)\n\u001b[32m   1000\u001b[39m \u001b[38;5;28;01melse\u001b[39;00m:\n\u001b[32m   1001\u001b[39m     \u001b[38;5;66;03m# No loop installed. Run like usual.\u001b[39;00m\n\u001b[32m-> \u001b[39m\u001b[32m1002\u001b[39m     \u001b[38;5;28;01mreturn\u001b[39;00m \u001b[43masyncio\u001b[49m\u001b[43m.\u001b[49m\u001b[43mrun\u001b[49m\u001b[43m(\u001b[49m\u001b[43mcoro\u001b[49m\u001b[43m)\u001b[49m\n",
      "\u001b[36mFile \u001b[39m\u001b[32m~/.local/share/uv/python/cpython-3.11.9-linux-x86_64-gnu/lib/python3.11/asyncio/runners.py:190\u001b[39m, in \u001b[36mrun\u001b[39m\u001b[34m(main, debug)\u001b[39m\n\u001b[32m    186\u001b[39m     \u001b[38;5;28;01mraise\u001b[39;00m \u001b[38;5;167;01mRuntimeError\u001b[39;00m(\n\u001b[32m    187\u001b[39m         \u001b[33m\"\u001b[39m\u001b[33masyncio.run() cannot be called from a running event loop\u001b[39m\u001b[33m\"\u001b[39m)\n\u001b[32m    189\u001b[39m \u001b[38;5;28;01mwith\u001b[39;00m Runner(debug=debug) \u001b[38;5;28;01mas\u001b[39;00m runner:\n\u001b[32m--> \u001b[39m\u001b[32m190\u001b[39m     \u001b[38;5;28;01mreturn\u001b[39;00m \u001b[43mrunner\u001b[49m\u001b[43m.\u001b[49m\u001b[43mrun\u001b[49m\u001b[43m(\u001b[49m\u001b[43mmain\u001b[49m\u001b[43m)\u001b[49m\n",
      "\u001b[36mFile \u001b[39m\u001b[32m~/.local/share/uv/python/cpython-3.11.9-linux-x86_64-gnu/lib/python3.11/asyncio/runners.py:118\u001b[39m, in \u001b[36mRunner.run\u001b[39m\u001b[34m(self, coro, context)\u001b[39m\n\u001b[32m    116\u001b[39m \u001b[38;5;28mself\u001b[39m._interrupt_count = \u001b[32m0\u001b[39m\n\u001b[32m    117\u001b[39m \u001b[38;5;28;01mtry\u001b[39;00m:\n\u001b[32m--> \u001b[39m\u001b[32m118\u001b[39m     \u001b[38;5;28;01mreturn\u001b[39;00m \u001b[38;5;28;43mself\u001b[39;49m\u001b[43m.\u001b[49m\u001b[43m_loop\u001b[49m\u001b[43m.\u001b[49m\u001b[43mrun_until_complete\u001b[49m\u001b[43m(\u001b[49m\u001b[43mtask\u001b[49m\u001b[43m)\u001b[49m\n\u001b[32m    119\u001b[39m \u001b[38;5;28;01mexcept\u001b[39;00m exceptions.CancelledError:\n\u001b[32m    120\u001b[39m     \u001b[38;5;28;01mif\u001b[39;00m \u001b[38;5;28mself\u001b[39m._interrupt_count > \u001b[32m0\u001b[39m:\n",
      "\u001b[36mFile \u001b[39m\u001b[32m~/.local/share/uv/python/cpython-3.11.9-linux-x86_64-gnu/lib/python3.11/asyncio/base_events.py:654\u001b[39m, in \u001b[36mBaseEventLoop.run_until_complete\u001b[39m\u001b[34m(self, future)\u001b[39m\n\u001b[32m    651\u001b[39m \u001b[38;5;28;01mif\u001b[39;00m \u001b[38;5;129;01mnot\u001b[39;00m future.done():\n\u001b[32m    652\u001b[39m     \u001b[38;5;28;01mraise\u001b[39;00m \u001b[38;5;167;01mRuntimeError\u001b[39;00m(\u001b[33m'\u001b[39m\u001b[33mEvent loop stopped before Future completed.\u001b[39m\u001b[33m'\u001b[39m)\n\u001b[32m--> \u001b[39m\u001b[32m654\u001b[39m \u001b[38;5;28;01mreturn\u001b[39;00m \u001b[43mfuture\u001b[49m\u001b[43m.\u001b[49m\u001b[43mresult\u001b[49m\u001b[43m(\u001b[49m\u001b[43m)\u001b[49m\n",
      "\u001b[36mFile \u001b[39m\u001b[32m~/IS-master-thesis/.venv/lib/python3.11/site-packages/prompt_toolkit/application/application.py:651\u001b[39m, in \u001b[36mApplication.run_async\u001b[39m\u001b[34m(self, pre_run, set_exception_handler, handle_sigint, slow_callback_duration)\u001b[39m\n\u001b[32m    620\u001b[39m \u001b[38;5;28;01masync\u001b[39;00m \u001b[38;5;28;01mdef\u001b[39;00m\u001b[38;5;250m \u001b[39m\u001b[34mrun_async\u001b[39m(\n\u001b[32m    621\u001b[39m     \u001b[38;5;28mself\u001b[39m,\n\u001b[32m    622\u001b[39m     pre_run: Callable[[], \u001b[38;5;28;01mNone\u001b[39;00m] | \u001b[38;5;28;01mNone\u001b[39;00m = \u001b[38;5;28;01mNone\u001b[39;00m,\n\u001b[32m   (...)\u001b[39m\u001b[32m    625\u001b[39m     slow_callback_duration: \u001b[38;5;28mfloat\u001b[39m = \u001b[32m0.5\u001b[39m,\n\u001b[32m    626\u001b[39m ) -> _AppResult:\n\u001b[32m    627\u001b[39m \u001b[38;5;250m    \u001b[39m\u001b[33;03m\"\"\"\u001b[39;00m\n\u001b[32m    628\u001b[39m \u001b[33;03m    Run the prompt_toolkit :class:`~prompt_toolkit.application.Application`\u001b[39;00m\n\u001b[32m    629\u001b[39m \u001b[33;03m    until :meth:`~prompt_toolkit.application.Application.exit` has been\u001b[39;00m\n\u001b[32m   (...)\u001b[39m\u001b[32m    649\u001b[39m \u001b[33;03m        event loop, can take a bit longer from time to time.\u001b[39;00m\n\u001b[32m    650\u001b[39m \u001b[33;03m    \"\"\"\u001b[39;00m\n\u001b[32m--> \u001b[39m\u001b[32m651\u001b[39m     \u001b[38;5;28;01massert\u001b[39;00m \u001b[38;5;129;01mnot\u001b[39;00m \u001b[38;5;28mself\u001b[39m._is_running, \u001b[33m\"\u001b[39m\u001b[33mApplication is already running.\u001b[39m\u001b[33m\"\u001b[39m\n\u001b[32m    653\u001b[39m     \u001b[38;5;28;01mif\u001b[39;00m \u001b[38;5;129;01mnot\u001b[39;00m in_main_thread() \u001b[38;5;129;01mor\u001b[39;00m sys.platform == \u001b[33m\"\u001b[39m\u001b[33mwin32\u001b[39m\u001b[33m\"\u001b[39m:\n\u001b[32m    654\u001b[39m         \u001b[38;5;66;03m# Handling signals in other threads is not supported.\u001b[39;00m\n\u001b[32m    655\u001b[39m         \u001b[38;5;66;03m# Also on Windows, `add_signal_handler(signal.SIGINT, ...)` raises\u001b[39;00m\n\u001b[32m    656\u001b[39m         \u001b[38;5;66;03m# `NotImplementedError`.\u001b[39;00m\n\u001b[32m    657\u001b[39m         \u001b[38;5;66;03m# See: https://github.com/prompt-toolkit/python-prompt-toolkit/issues/1553\u001b[39;00m\n\u001b[32m    658\u001b[39m         handle_sigint = \u001b[38;5;28;01mFalse\u001b[39;00m\n",
      "\u001b[31mAssertionError\u001b[39m: Application is already running."
     ]
    }
   ],
   "source": [
    "from sandbox.qemu import QemuVMManager, VMConfig, SSHConfig\n",
    "\n",
    "cfg = VMConfig(\n",
    "    container_name=\"TestVM\",\n",
    "    vm_base_dir=\"./docker/vms/ubuntu-noble\",\n",
    "    host_shared_dir=\"./docker/shared\",\n",
    "    server_host_dir=\"./server\",\n",
    "    extra_ports={8000: 8000},\n",
    "    runtime_env={\"HOST\": \"0.0.0.0\", \"PORT\": \"8000\", \"DISPLAY\": \":0\"},\n",
    ")\n",
    "\n",
    "ssh_cfg = SSHConfig(username=\"user\", password=\"password\", port=2222)\n",
    "vm = QemuVMManager(cfg, ssh_cfg=ssh_cfg)\n",
    "\n",
    "vm.create_container()\n",
    "vm.start_container()\n",
    "\n",
    "# coloured REPL with TAB completion – now works in the notebook cell\n",
    "vm.repl()\n"
   ]
  },
  {
   "cell_type": "code",
   "execution_count": null,
   "id": "ace19d9c",
   "metadata": {},
   "outputs": [],
   "source": []
  }
 ],
 "metadata": {
  "kernelspec": {
   "display_name": ".venv (3.11.9)",
   "language": "python",
   "name": "python3"
  },
  "language_info": {
   "codemirror_mode": {
    "name": "ipython",
    "version": 3
   },
   "file_extension": ".py",
   "mimetype": "text/x-python",
   "name": "python",
   "nbconvert_exporter": "python",
   "pygments_lexer": "ipython3",
   "version": "3.11.9"
  }
 },
 "nbformat": 4,
 "nbformat_minor": 5
}

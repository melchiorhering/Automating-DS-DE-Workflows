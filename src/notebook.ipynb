{
 "cells": [
  {
   "cell_type": "code",
   "execution_count": null,
   "metadata": {},
   "outputs": [],
   "source": [
    "import os\n",
    "import sys\n",
    "from pathlib import Path\n",
    "from langchain.text_splitter import RecursiveCharacterTextSplitter\n",
    "from langchain_community.document_loaders import GithubFileLoader\n",
    "from langchain_milvus import Milvus\n",
    "from openinference.instrumentation.smolagents import SmolagentsInstrumentor\n",
    "from opentelemetry.exporter.otlp.proto.http.trace_exporter import OTLPSpanExporter\n",
    "from opentelemetry.sdk.trace import TracerProvider\n",
    "from opentelemetry.sdk.trace.export import SimpleSpanProcessor\n",
    "from sentence_transformers import SentenceTransformer\n",
    "from smolagents import CodeAgent, DuckDuckGoSearchTool, HfApiModel, ToolCallingAgent\n",
    "from IPython.display import Image, display\n",
    "from sandbox_client import SandboxClient\n",
    "from environment import WebTopManager"
   ]
  },
  {
   "cell_type": "code",
   "execution_count": null,
   "metadata": {},
   "outputs": [],
   "source": [
    "endpoint = os.getenv(\"PHOENIX_TRACE_ENDPOINT\", \"http://0.0.0.0:6006/v1/traces\")\n",
    "trace_provider = TracerProvider()\n",
    "trace_provider.add_span_processor(SimpleSpanProcessor(OTLPSpanExporter(endpoint)))\n",
    "SmolagentsInstrumentor().instrument(tracer_provider=trace_provider)"
   ]
  },
  {
   "cell_type": "code",
   "execution_count": null,
   "metadata": {},
   "outputs": [],
   "source": [
    "ROOT_DIR = Path(os.getcwd()).parent\n",
    "DATA_DIR = ROOT_DIR / \"data\"\n",
    "SCREENSHOT_DIR = DATA_DIR / \"screenshots\"\n",
    "print(SCREENSHOT_DIR)\n",
    "# SCREENSHOT_DIR = ROOT_DIR / \"screenshots\""
   ]
  },
  {
   "cell_type": "code",
   "execution_count": null,
   "metadata": {},
   "outputs": [],
   "source": [
    "# Standard HF Model\n",
    "hf_model = HfApiModel(\n",
    "    model_id=\"Qwen/Qwen2.5-Coder-32B-Instruct\",\n",
    ")"
   ]
  },
  {
   "cell_type": "code",
   "execution_count": null,
   "metadata": {},
   "outputs": [],
   "source": [
    "# Use Podman instead of Docker\n",
    "manager = WebTopManager()\n",
    "\n",
    "# Spawn 3 containers\n",
    "containers = manager.spawn_containers(count=1)\n",
    "\n",
    "# When you're done\n",
    "# manager.stop_containers()"
   ]
  },
  {
   "cell_type": "code",
   "execution_count": null,
   "metadata": {},
   "outputs": [],
   "source": [
    "# Use the client with async context manager\n",
    "async with SandboxClient(\"ws://localhost:8765\", client_id=\"test\") as client:\n",
    "    print(f\"Client ID: {client.client_id}\")\n",
    "\n",
    "    # Test screenshot functionality\n",
    "    result = await client.get_screenshot_with_metadata()\n",
    "    print(result)\n",
    "\n",
    "    if \"screenshot_path\" in result:\n",
    "        print(\"INITIAL MOUSE POSITION\")\n",
    "        screenshot_path = str(SCREENSHOT_DIR / result[\"screenshot_path\"])\n",
    "        display(Image(filename=screenshot_path))\n",
    "\n",
    "    # Test code agent\n",
    "    result = await client.run_pyautogui_code(\"\"\"\n",
    "    pyautogui.moveTo(100, 100, duration=1)\n",
    "    import time\n",
    "    time.sleep(2)\n",
    "    pyautogui.hotkey('ctrl', 'alt', 't')\n",
    "    \"\"\")\n",
    "    print(result)\n",
    "\n",
    "    if \"screenshot_path\" in result:\n",
    "        print(\"MOVING MOUSE\")\n",
    "        screenshot_path = str(SCREENSHOT_DIR / result[\"screenshot_path\"])\n",
    "        display(Image(filename=screenshot_path))"
   ]
  },
  {
   "cell_type": "code",
   "execution_count": null,
   "metadata": {},
   "outputs": [],
   "source": []
  }
 ],
 "metadata": {
  "kernelspec": {
   "display_name": ".venv",
   "language": "python",
   "name": "python3"
  },
  "language_info": {
   "codemirror_mode": {
    "name": "ipython",
    "version": 3
   },
   "file_extension": ".py",
   "mimetype": "text/x-python",
   "name": "python",
   "nbconvert_exporter": "python",
   "pygments_lexer": "ipython3",
   "version": "3.13.2"
  }
 },
 "nbformat": 4,
 "nbformat_minor": 2
}

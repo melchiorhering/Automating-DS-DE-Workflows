{
 "cells": [
  {
   "cell_type": "code",
   "execution_count": null,
   "id": "21581dc3",
   "metadata": {},
   "outputs": [],
   "source": [
    "from sandbox.qemu import QemuVMManager, VMConfig, SSHConfig\n",
    "from pathlib import Path"
   ]
  },
  {
   "cell_type": "code",
   "execution_count": 3,
   "id": "da3b1da7",
   "metadata": {},
   "outputs": [
    {
     "data": {
      "text/plain": [
       "'TestVM'"
      ]
     },
     "execution_count": 3,
     "metadata": {},
     "output_type": "execute_result"
    }
   ],
   "source": [
    "Path(\"./docker/shared\").resolve().as_posix()\n",
    "Path(\"/shared\").name\n",
    "(Path(\"./docker/shared\") / \"TestVM\").name"
   ]
  },
  {
   "cell_type": "code",
   "execution_count": null,
   "id": "023ca67d",
   "metadata": {},
   "outputs": [
    {
     "name": "stderr",
     "output_type": "stream",
     "text": [
      "2025-04-17 17:36:25,328 - QemuVMManager - INFO - VM state: initializing -> creating\n"
     ]
    },
    {
     "name": "stderr",
     "output_type": "stream",
     "text": [
      "2025-04-17 17:36:50,612 - QemuVMManager - INFO - Preparing container configuration for TestVM\n",
      "2025-04-17 17:36:50,634 - QemuVMManager - INFO - Container TestVM already exists\n",
      "2025-04-17 17:36:50,635 - QemuVMManager - INFO - Reusing existing container TestVM\n",
      "2025-04-17 17:36:50,635 - QemuVMManager - INFO - VM state: creating -> creating\n",
      "2025-04-17 17:37:15,790 - QemuVMManager - INFO - Preparing container configuration for TestVM\n",
      "2025-04-17 17:37:15,807 - QemuVMManager - INFO - Container TestVM already exists\n",
      "2025-04-17 17:37:15,808 - QemuVMManager - INFO - Reusing existing container TestVM\n",
      "2025-04-17 17:37:15,808 - QemuVMManager - INFO - VM state: creating -> starting\n",
      "2025-04-17 17:37:16,133 - QemuVMManager - INFO - Container started, waiting for VM to boot...\n",
      "2025-04-17 17:37:16,133 - QemuVMManager - INFO - Waiting for SSH connection to be available (timeout: 180s)\n",
      "2025-04-17 17:37:16,134 - QemuVMManager - INFO - Executing SSH command: echo 'SSH connection test'\n",
      "2025-04-17 17:37:30,249 - QemuVMManager - INFO - SSH connect attempt 1/5\n",
      "Exception (client): Error reading SSH protocol banner\n",
      "Traceback (most recent call last):\n",
      "  File \"/home/smwhering/IS-master-thesis/.venv/lib/python3.11/site-packages/paramiko/transport.py\", line 2369, in _check_banner\n",
      "    buf = self.packetizer.readline(timeout)\n",
      "          ^^^^^^^^^^^^^^^^^^^^^^^^^^^^^^^^^\n",
      "  File \"/home/smwhering/IS-master-thesis/.venv/lib/python3.11/site-packages/paramiko/packet.py\", line 395, in readline\n",
      "    buf += self._read_timeout(timeout)\n",
      "           ^^^^^^^^^^^^^^^^^^^^^^^^^^^\n",
      "  File \"/home/smwhering/IS-master-thesis/.venv/lib/python3.11/site-packages/paramiko/packet.py\", line 673, in _read_timeout\n",
      "    raise socket.timeout()\n",
      "TimeoutError\n",
      "\n",
      "During handling of the above exception, another exception occurred:\n",
      "\n",
      "Traceback (most recent call last):\n",
      "  File \"/home/smwhering/IS-master-thesis/.venv/lib/python3.11/site-packages/paramiko/transport.py\", line 2185, in run\n",
      "    self._check_banner()\n",
      "  File \"/home/smwhering/IS-master-thesis/.venv/lib/python3.11/site-packages/paramiko/transport.py\", line 2373, in _check_banner\n",
      "    raise SSHException(\n",
      "paramiko.ssh_exception.SSHException: Error reading SSH protocol banner\n",
      "\n",
      "2025-04-17 17:37:45,313 - QemuVMManager - WARNING - SSH connect attempt 1/5 failed; will retry in 2s\n",
      "2025-04-17 17:37:47,321 - QemuVMManager - INFO - SSH connect attempt 2/5\n",
      "Exception (client): Error reading SSH protocol banner\n",
      "Traceback (most recent call last):\n",
      "  File \"/home/smwhering/IS-master-thesis/.venv/lib/python3.11/site-packages/paramiko/transport.py\", line 2369, in _check_banner\n",
      "    buf = self.packetizer.readline(timeout)\n",
      "          ^^^^^^^^^^^^^^^^^^^^^^^^^^^^^^^^^\n",
      "  File \"/home/smwhering/IS-master-thesis/.venv/lib/python3.11/site-packages/paramiko/packet.py\", line 395, in readline\n",
      "    buf += self._read_timeout(timeout)\n",
      "           ^^^^^^^^^^^^^^^^^^^^^^^^^^^\n",
      "  File \"/home/smwhering/IS-master-thesis/.venv/lib/python3.11/site-packages/paramiko/packet.py\", line 673, in _read_timeout\n",
      "    raise socket.timeout()\n",
      "TimeoutError\n",
      "\n",
      "During handling of the above exception, another exception occurred:\n",
      "\n",
      "Traceback (most recent call last):\n",
      "  File \"/home/smwhering/IS-master-thesis/.venv/lib/python3.11/site-packages/paramiko/transport.py\", line 2185, in run\n",
      "    self._check_banner()\n",
      "  File \"/home/smwhering/IS-master-thesis/.venv/lib/python3.11/site-packages/paramiko/transport.py\", line 2373, in _check_banner\n",
      "    raise SSHException(\n",
      "paramiko.ssh_exception.SSHException: Error reading SSH protocol banner\n",
      "\n",
      "2025-04-17 17:38:02,413 - QemuVMManager - WARNING - SSH connect attempt 2/5 failed; will retry in 4s\n",
      "2025-04-17 17:38:06,414 - QemuVMManager - INFO - SSH connect attempt 3/5\n",
      "2025-04-17 17:38:06,726 - QemuVMManager - INFO - SSH connection established\n",
      "2025-04-17 17:38:10,485 - QemuVMManager - INFO - SSH connection established after 54.4s (1 attempts)\n",
      "2025-04-17 17:38:10,486 - QemuVMManager - INFO - VM state: starting -> running\n",
      "2025-04-17 17:38:10,487 - QemuVMManager - INFO - Set SCREENSHOTS_PATH=/mnt/TestVM in runtime environment\n",
      "2025-04-17 17:38:10,487 - QemuVMManager - INFO - Executing SSH command: echo 'password' | sudo -S mkdir -p /mnt/TestVM\n",
      "2025-04-17 17:38:10,887 - QemuVMManager - INFO - Executing SSH command: echo 'password' | sudo -S mount -t 9p -o trans=virtio shared /mnt/TestVM\n",
      "2025-04-17 17:38:11,472 - QemuVMManager - INFO - Executing SSH command: mkdir -p /home/user/server\n",
      "2025-04-17 17:38:11,802 - QemuVMManager - INFO - Transferred directory /home/smwhering/IS-master-thesis/src/server → /home/user/server\n",
      "2025-04-17 17:38:11,803 - QemuVMManager - INFO - Deploying server with runtime environment: {'HOST': '0.0.0.0', 'PORT': '8000', 'DISPLAY': ':0', 'SCREENSHOTS_PATH': '/mnt/TestVM'}\n",
      "2025-04-17 17:38:11,993 - QemuVMManager - INFO - --- Last 0 lines of output ---\n",
      "2025-04-17 17:39:13,007 - QemuVMManager - INFO - --- Last 50 lines of output ---\n",
      "2025-04-17 17:39:13,007 - QemuVMManager - INFO - \u001b[2K███░░░░░░░░░░░░░░░░░ [2/12] \u001b[2mpymsgbox==1.0.9                                     \u001b[0m\n",
      "2025-04-17 17:39:13,008 - QemuVMManager - INFO - \u001b[2K█████░░░░░░░░░░░░░░░ [3/12] \u001b[2mpymsgbox==1.0.9                                     \u001b[0m\n",
      "2025-04-17 17:39:13,008 - QemuVMManager - INFO - \n",
      "2025-04-17 17:39:13,008 - QemuVMManager - INFO - \u001b[2K█████░░░░░░░░░░░░░░░ [3/12] \u001b[2mpyperclip==1.9.0                                    \u001b[0m\n",
      "2025-04-17 17:39:13,009 - QemuVMManager - INFO - \u001b[2K██████░░░░░░░░░░░░░░ [4/12] \u001b[2mpyperclip==1.9.0                                    \u001b[0m\n",
      "2025-04-17 17:39:13,009 - QemuVMManager - INFO - \u001b[2K██████░░░░░░░░░░░░░░ [4/12] \u001b[2mpyautogui==0.9.54                                   \u001b[0m\n",
      "2025-04-17 17:39:13,010 - QemuVMManager - INFO - \n",
      "2025-04-17 17:39:13,010 - QemuVMManager - INFO - \u001b[2K████████░░░░░░░░░░░░ [5/12] \u001b[2mpyautogui==0.9.54                                   \u001b[0m\n",
      "2025-04-17 17:39:13,010 - QemuVMManager - INFO - \n",
      "2025-04-17 17:39:13,011 - QemuVMManager - INFO - \u001b[2K████████░░░░░░░░░░░░ [5/12] \u001b[2mpyrect==0.2.0                                       \u001b[0m\n",
      "2025-04-17 17:39:13,011 - QemuVMManager - INFO - \u001b[2K██████████░░░░░░░░░░ [6/12] \u001b[2mpyrect==0.2.0                                       \u001b[0m\n",
      "2025-04-17 17:39:13,011 - QemuVMManager - INFO - \u001b[2K██████████░░░░░░░░░░ [6/12] \u001b[2mmouseinfo==0.1.3                                    \u001b[0m\n",
      "2025-04-17 17:39:13,011 - QemuVMManager - INFO - \u001b[2K███████████░░░░░░░░░ [7/12] \u001b[2mmouseinfo==0.1.3                                    \u001b[0m\n",
      "2025-04-17 17:39:13,012 - QemuVMManager - INFO - \n",
      "2025-04-17 17:39:13,013 - QemuVMManager - INFO - \u001b[2K███████████░░░░░░░░░ [7/12] \u001b[2mpython3-xlib==0.15                                  \u001b[0m\n",
      "2025-04-17 17:39:13,013 - QemuVMManager - INFO - \u001b[2K█████████████░░░░░░░ [8/12] \u001b[2mpython3-xlib==0.15                                  \u001b[0m\n",
      "2025-04-17 17:39:13,014 - QemuVMManager - INFO - \n",
      "2025-04-17 17:39:13,014 - QemuVMManager - INFO - \u001b[2K█████████████░░░░░░░ [8/12] \u001b[2mpygetwindow==0.0.9                                  \u001b[0m\n",
      "2025-04-17 17:39:13,014 - QemuVMManager - INFO - \u001b[2K███████████████░░░░░ [9/12] \u001b[2mpygetwindow==0.0.9                                  \u001b[0m\n",
      "2025-04-17 17:39:13,015 - QemuVMManager - INFO - \n",
      "2025-04-17 17:39:13,015 - QemuVMManager - INFO - \u001b[2K███████████████░░░░░ [9/12] \u001b[2mwebsockets==15.0.1                                  \u001b[0m\n",
      "2025-04-17 17:39:13,015 - QemuVMManager - INFO - \u001b[2K████████████████░░░░ [10/12] \u001b[2mwebsockets==15.0.1                                 \u001b[0m\n",
      "2025-04-17 17:39:13,016 - QemuVMManager - INFO - \n",
      "2025-04-17 17:39:13,016 - QemuVMManager - INFO - \u001b[2K████████████████░░░░ [10/12] \u001b[2mpillow==11.2.1                                     \u001b[0m\n",
      "2025-04-17 17:39:13,016 - QemuVMManager - INFO - \u001b[2K██████████████████░░ [11/12] \u001b[2mpillow==11.2.1                                     \u001b[0m\n",
      "2025-04-17 17:39:13,017 - QemuVMManager - INFO - \n",
      "2025-04-17 17:39:13,017 - QemuVMManager - INFO - \u001b[2K██████████████████░░ [11/12] \u001b[2mnumpy==2.2.4                                       \u001b[0m\n",
      "2025-04-17 17:39:13,017 - QemuVMManager - INFO - \u001b[2K████████████████████ [12/12] \u001b[2mnumpy==2.2.4                                       \u001b[0m\n",
      "2025-04-17 17:39:13,018 - QemuVMManager - INFO - \n",
      "2025-04-17 17:39:13,018 - QemuVMManager - INFO - \u001b[2K\u001b[2mInstalled \u001b[1m12 packages\u001b[0m \u001b[2min 474ms\u001b[0m\u001b[0m\n",
      "2025-04-17 17:39:13,018 - QemuVMManager - INFO - Xlib.xauth: warning, no xauthority details available\n",
      "2025-04-17 17:39:13,019 - QemuVMManager - INFO - Traceback (most recent call last):\n",
      "2025-04-17 17:39:13,019 - QemuVMManager - INFO -   File \"/home/user/server/main.py\", line 21, in <module>\n",
      "2025-04-17 17:39:13,020 - QemuVMManager - INFO -     import pyautogui\n",
      "2025-04-17 17:39:13,020 - QemuVMManager - INFO -   File \"/home/user/server/.venv/lib/python3.11/site-packages/pyautogui/__init__.py\", line 246, in <module>\n",
      "2025-04-17 17:39:13,021 - QemuVMManager - INFO -     import mouseinfo\n",
      "2025-04-17 17:39:13,021 - QemuVMManager - INFO -   File \"/home/user/server/.venv/lib/python3.11/site-packages/mouseinfo/__init__.py\", line 223, in <module>\n",
      "2025-04-17 17:39:13,021 - QemuVMManager - INFO -     _display = Display(os.environ['DISPLAY'])\n",
      "2025-04-17 17:39:13,022 - QemuVMManager - INFO -                ^^^^^^^^^^^^^^^^^^^^^^^^^^^^^^\n",
      "2025-04-17 17:39:13,022 - QemuVMManager - INFO - \n",
      "2025-04-17 17:39:13,022 - QemuVMManager - INFO -   File \"/home/user/server/.venv/lib/python3.11/site-packages/Xlib/display.py\", line 80, in __init__\n",
      "2025-04-17 17:39:13,023 - QemuVMManager - INFO -     self.display = _BaseDisplay(display)\n",
      "2025-04-17 17:39:13,023 - QemuVMManager - INFO - \n",
      "2025-04-17 17:39:13,024 - QemuVMManager - INFO -                    ^^^^^^^^^^^^^^^^^^^^^\n",
      "2025-04-17 17:39:13,024 - QemuVMManager - INFO -   File \"/home/user/server/.venv/lib/python3.11/site-packages/Xlib/display.py\", line 62, in __init__\n",
      "2025-04-17 17:39:13,025 - QemuVMManager - INFO - \n",
      "2025-04-17 17:39:13,025 - QemuVMManager - INFO -     display.Display.__init__(*(self, ) + args, **keys)\n",
      "2025-04-17 17:39:13,025 - QemuVMManager - INFO -   File \"/home/user/server/.venv/lib/python3.11/site-packages/Xlib/protocol/display.py\", line 129, in __init__\n",
      "2025-04-17 17:39:13,026 - QemuVMManager - INFO -     raise error.DisplayConnectionError(self.display_name, r.reason)\n",
      "2025-04-17 17:39:13,026 - QemuVMManager - INFO - Xlib.error.DisplayConnectionError: Can't connect to display \":0\": b'Authorization required, but no authorization protocol specified\\n'\n",
      "2025-04-17 17:39:13,026 - QemuVMManager - ERROR - Failed to setup guest VM: Server startup failed with codes [0, 1]\n"
     ]
    },
    {
     "ename": "VMOperationError",
     "evalue": "Guest setup failed: Server startup failed with codes [0, 1]",
     "output_type": "error",
     "traceback": [
      "\u001b[31m---------------------------------------------------------------------------\u001b[39m",
      "\u001b[31mVMOperationError\u001b[39m                          Traceback (most recent call last)",
      "\u001b[36mFile \u001b[39m\u001b[32m~/IS-master-thesis/src/sandbox/qemu.py:845\u001b[39m, in \u001b[36mQemuVMManager.setup_guest_vm\u001b[39m\u001b[34m(self)\u001b[39m\n\u001b[32m    844\u001b[39m \u001b[38;5;66;03m# Deploy the server if configured\u001b[39;00m\n\u001b[32m--> \u001b[39m\u001b[32m845\u001b[39m \u001b[38;5;28;43mself\u001b[39;49m\u001b[43m.\u001b[49m\u001b[43m_deploy_server\u001b[49m\u001b[43m(\u001b[49m\u001b[43m)\u001b[49m\n\u001b[32m    847\u001b[39m \u001b[38;5;28mself\u001b[39m.logger.info(\u001b[33m\"\u001b[39m\u001b[33mGuest VM setup completed successfully\u001b[39m\u001b[33m\"\u001b[39m)\n",
      "\u001b[36mFile \u001b[39m\u001b[32m~/IS-master-thesis/src/sandbox/qemu.py:595\u001b[39m, in \u001b[36mQemuVMManager._deploy_server\u001b[39m\u001b[34m(self)\u001b[39m\n\u001b[32m    594\u001b[39m \u001b[38;5;28;01mif\u001b[39;00m \u001b[38;5;28many\u001b[39m(code != \u001b[32m0\u001b[39m \u001b[38;5;28;01mfor\u001b[39;00m code \u001b[38;5;129;01min\u001b[39;00m exit_codes):\n\u001b[32m--> \u001b[39m\u001b[32m595\u001b[39m     \u001b[38;5;28;01mraise\u001b[39;00m VMOperationError(\u001b[33mf\u001b[39m\u001b[33m\"\u001b[39m\u001b[33mServer startup failed with codes \u001b[39m\u001b[38;5;132;01m{\u001b[39;00mexit_codes\u001b[38;5;132;01m}\u001b[39;00m\u001b[33m\"\u001b[39m)\n\u001b[32m    597\u001b[39m \u001b[38;5;28mself\u001b[39m.logger.info(\u001b[33m\"\u001b[39m\u001b[33mServer started in guest at \u001b[39m\u001b[38;5;132;01m%s\u001b[39;00m\u001b[33m\"\u001b[39m, cfg.server_guest_dir)\n",
      "\u001b[31mVMOperationError\u001b[39m: Server startup failed with codes [0, 1]",
      "\nThe above exception was the direct cause of the following exception:\n",
      "\u001b[31mVMOperationError\u001b[39m                          Traceback (most recent call last)",
      "\u001b[36mCell\u001b[39m\u001b[36m \u001b[39m\u001b[32mIn[4]\u001b[39m\u001b[32m, line 21\u001b[39m\n\u001b[32m     18\u001b[39m manager.create_container()\n\u001b[32m     19\u001b[39m \u001b[38;5;66;03m# print(manager.get_ssh_client().exec_command(\"ls /run/user/1000/.mutter*\"))\u001b[39;00m\n\u001b[32m     20\u001b[39m \u001b[38;5;66;03m# print(manager.get_ssh_client().exec_command(\"ls /run/user/1000\"))\u001b[39;00m\n\u001b[32m---> \u001b[39m\u001b[32m21\u001b[39m \u001b[43mmanager\u001b[49m\u001b[43m.\u001b[49m\u001b[43mcreate_and_setup_vm\u001b[49m\u001b[43m(\u001b[49m\u001b[43m)\u001b[49m\n",
      "\u001b[36mFile \u001b[39m\u001b[32m~/IS-master-thesis/src/sandbox/qemu.py:857\u001b[39m, in \u001b[36mQemuVMManager.create_and_setup_vm\u001b[39m\u001b[34m(self)\u001b[39m\n\u001b[32m    855\u001b[39m container = \u001b[38;5;28mself\u001b[39m.create_container(start_immediately=\u001b[38;5;28;01mFalse\u001b[39;00m)\n\u001b[32m    856\u001b[39m \u001b[38;5;28mself\u001b[39m.start_container()\n\u001b[32m--> \u001b[39m\u001b[32m857\u001b[39m \u001b[38;5;28;43mself\u001b[39;49m\u001b[43m.\u001b[49m\u001b[43msetup_guest_vm\u001b[49m\u001b[43m(\u001b[49m\u001b[43m)\u001b[49m\n\u001b[32m    858\u001b[39m \u001b[38;5;28;01mreturn\u001b[39;00m container\n",
      "\u001b[36mFile \u001b[39m\u001b[32m~/IS-master-thesis/src/sandbox/qemu.py:851\u001b[39m, in \u001b[36mQemuVMManager.setup_guest_vm\u001b[39m\u001b[34m(self)\u001b[39m\n\u001b[32m    849\u001b[39m \u001b[38;5;28;01mexcept\u001b[39;00m \u001b[38;5;167;01mException\u001b[39;00m \u001b[38;5;28;01mas\u001b[39;00m e:\n\u001b[32m    850\u001b[39m     \u001b[38;5;28mself\u001b[39m.logger.error(\u001b[33m\"\u001b[39m\u001b[33mFailed to setup guest VM: \u001b[39m\u001b[38;5;132;01m%s\u001b[39;00m\u001b[33m\"\u001b[39m, e)\n\u001b[32m--> \u001b[39m\u001b[32m851\u001b[39m     \u001b[38;5;28;01mraise\u001b[39;00m VMOperationError(\u001b[33mf\u001b[39m\u001b[33m\"\u001b[39m\u001b[33mGuest setup failed: \u001b[39m\u001b[38;5;132;01m{\u001b[39;00me\u001b[38;5;132;01m}\u001b[39;00m\u001b[33m\"\u001b[39m) \u001b[38;5;28;01mfrom\u001b[39;00m\u001b[38;5;250m \u001b[39m\u001b[34;01me\u001b[39;00m\n",
      "\u001b[31mVMOperationError\u001b[39m: Guest setup failed: Server startup failed with codes [0, 1]"
     ]
    }
   ],
   "source": [
    "import time\n",
    "\n",
    "\n",
    "cfg = VMConfig(\n",
    "    container_name=\"TestVM\",\n",
    "    vm_base_dir=\"./docker/vms/ubuntu-noble\",\n",
    "    host_shared_dir=\"./docker/shared\",\n",
    "    server_host_dir=\"./server\",\n",
    "    extra_ports={8000: 8000},\n",
    "    runtime_env={\n",
    "        \"HOST\": \"0.0.0.0\",\n",
    "        \"PORT\": \"8000\",\n",
    "        \"DISPLAY\": \":0\",\n",
    "    },\n",
    ")\n",
    "\n",
    "\n",
    "ssh_cfg = SSHConfig(username=\"user\", password=\"password\", port=2222)\n",
    "vm = QemuVMManager(config=cfg, ssh_config=ssh_cfg)\n",
    "\n",
    "# This will create (or reuse) the container, start it, wait for SSH and deploy your server:\n",
    "vm.get_or_create_container(start_if_stopped=True, setup_if_needed=False)\n",
    "\n",
    "# 2) Run a one‑off command over SSH\n",
    "with vm.get_ssh_client() as ssh:\n",
    "    res = ssh.exec_command(\"uname -a\")\n",
    "    print(\"Kernel:\", res[\"stdout\"].strip())\n",
    "\n",
    "    # 3) Now drop into a fully interactive shell\n",
    "    ssh.open_shell()\n",
    "# when you exit that shell, the SSH connection is automatically cleaned up\n"
   ]
  },
  {
   "cell_type": "code",
   "execution_count": null,
   "id": "114ea4e6",
   "metadata": {},
   "outputs": [
    {
     "ename": "",
     "evalue": "",
     "output_type": "error",
     "traceback": [
      "\u001b[1;31mnotebook controller is DISPOSED. \n",
      "\n",
      "\n",
      "\n",
      "\u001b[1;31mView Jupyter <a href='command:jupyter.viewOutput'>log</a> for further details."
     ]
    }
   ],
   "source": [
    "# manager.get_or_create_container(setup_if_needed=True)\n",
    "# manager.get_or_create_container()\n",
    "time.sleep(240)\n",
    "manager.stop_and_cleanup()"
   ]
  },
  {
   "cell_type": "code",
   "execution_count": null,
   "id": "b92cccb8",
   "metadata": {},
   "outputs": [],
   "source": []
  }
 ],
 "metadata": {
  "kernelspec": {
   "display_name": ".venv (3.11.9)",
   "language": "python",
   "name": "python3"
  },
  "language_info": {
   "codemirror_mode": {
    "name": "ipython",
    "version": 3
   },
   "file_extension": ".py",
   "mimetype": "text/x-python",
   "name": "python",
   "nbconvert_exporter": "python",
   "pygments_lexer": "ipython3",
   "version": "3.11.9"
  }
 },
 "nbformat": 4,
 "nbformat_minor": 5
}

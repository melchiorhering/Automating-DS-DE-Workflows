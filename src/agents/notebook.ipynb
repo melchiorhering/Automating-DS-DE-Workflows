{
 "cells": [
  {
   "cell_type": "code",
   "execution_count": null,
   "metadata": {},
   "outputs": [],
   "source": [
    "import os\n",
    "import sys\n",
    "from pathlib import Path\n",
    "from langchain.text_splitter import RecursiveCharacterTextSplitter\n",
    "from langchain_community.document_loaders import GithubFileLoader\n",
    "from langchain_milvus import Milvus\n",
    "from openinference.instrumentation.smolagents import SmolagentsInstrumentor\n",
    "from opentelemetry.exporter.otlp.proto.http.trace_exporter import OTLPSpanExporter\n",
    "from opentelemetry.sdk.trace import TracerProvider\n",
    "from opentelemetry.sdk.trace.export import SimpleSpanProcessor\n",
    "from sentence_transformers import SentenceTransformer\n",
    "from smolagents import CodeAgent, DuckDuckGoSearchTool, HfApiModel, ToolCallingAgent\n",
    "from IPython.display import Image, display\n",
    "\n",
    "# Add parent directory to path to import sandbox modules\n",
    "sys.path.append(str(Path.cwd().parent))\n",
    "from sandbox_server import SandboxServer\n",
    "from sandbox_client import SandboxClient"
   ]
  },
  {
   "cell_type": "code",
   "execution_count": null,
   "metadata": {},
   "outputs": [],
   "source": [
    "endpoint = os.getenv(\"PHOENIX_TRACE_ENDPOINT\", \"http://0.0.0.0:6006/v1/traces\")\n",
    "trace_provider = TracerProvider()\n",
    "trace_provider.add_span_processor(SimpleSpanProcessor(OTLPSpanExporter(endpoint)))\n",
    "SmolagentsInstrumentor().instrument(tracer_provider=trace_provider)"
   ]
  },
  {
   "cell_type": "code",
   "execution_count": null,
   "metadata": {},
   "outputs": [],
   "source": [
    "# Standard HF Model\n",
    "hf_model = HfApiModel(\n",
    "    model_id=\"Qwen/Qwen2.5-Coder-32B-Instruct\",\n",
    ")"
   ]
  },
  {
   "cell_type": "code",
   "execution_count": null,
   "metadata": {},
   "outputs": [],
   "source": [
    "# Use the client with async context manager\n",
    "async with SandboxClient(\"ws://localhost:8765\") as client:\n",
    "    # Test screenshot functionality\n",
    "    result = await client.get_screenshot_with_metadata()\n",
    "\n",
    "    if \"screenshot_path\" in result:\n",
    "        print(f\"Mouse position: {result['mouse_position']}\")\n",
    "        print(f\"Screen size: {result['screen_size']}\")\n",
    "        display(Image(filename=result[\"screenshot_path\"]))"
   ]
  },
  {
   "cell_type": "code",
   "execution_count": null,
   "metadata": {},
   "outputs": [],
   "source": [
    "# agent = CodeAgent(\n",
    "#     tools=[go_back, close_popups, search_item_ctrl_f],\n",
    "#     model=hf_model,\n",
    "#     additional_authorized_imports=[\"helium\"],\n",
    "#     step_callbacks=[save_screenshot],\n",
    "#     max_steps=20,\n",
    "#     verbosity_level=2,\n",
    "# )\n"
   ]
  },
  {
   "cell_type": "code",
   "execution_count": null,
   "metadata": {},
   "outputs": [],
   "source": []
  }
 ],
 "metadata": {
  "kernelspec": {
   "display_name": ".venv",
   "language": "python",
   "name": "python3"
  },
  "language_info": {
   "codemirror_mode": {
    "name": "ipython",
    "version": 3
   },
   "file_extension": ".py",
   "mimetype": "text/x-python",
   "name": "python",
   "nbconvert_exporter": "python",
   "pygments_lexer": "ipython3",
   "version": "3.13.2"
  }
 },
 "nbformat": 4,
 "nbformat_minor": 2
}

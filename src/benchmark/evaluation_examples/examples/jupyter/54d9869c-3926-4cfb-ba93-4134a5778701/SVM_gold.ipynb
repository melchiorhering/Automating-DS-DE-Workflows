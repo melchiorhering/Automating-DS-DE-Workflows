{
  "metadata": {
    "kernelspec": {
      "name": "python",
      "display_name": "Python (Pyodide)",
      "language": "python"
    },
    "language_info": {
      "codemirror_mode": {
        "name": "python",
        "version": 3
      },
      "file_extension": ".py",
      "mimetype": "text/x-python",
      "name": "python",
      "nbconvert_exporter": "python",
      "pygments_lexer": "ipython3",
      "version": "3.8"
    }
  },
  "nbformat_minor": 4,
  "nbformat": 4,
  "cells": [
    {
      "cell_type": "markdown",
      "source": "# SVM with Scikit-learn\n\nIn this model, we will use the cancer dataset, which is a very famous multi-class classification problem. This dataset is computed from a digitized image of a fine needle aspirate (FNA) of a breast mass. They describe the characteristics of the cell nuclei present in the image.\n\nThis data has two types of cancer classes: malignant (harmful) and benign (not harmful). In this assignment please help me use a linear SVM to classify the type of cancer.",
      "metadata": {}
    },
    {
      "cell_type": "markdown",
      "source": "## Loading Data",
      "metadata": {}
    },
    {
      "cell_type": "code",
      "source": "# Import scikit-learn dataset library\nfrom sklearn import datasets\n\n\n# Load dataset\ncancer = datasets.load_breast_cancer()",
      "metadata": {
        "trusted": true
      },
      "outputs": [],
      "execution_count": 1
    },
    {
      "cell_type": "markdown",
      "source": "## Splitting Data",
      "metadata": {}
    },
    {
      "cell_type": "code",
      "source": "# Import train_test_split function\nfrom sklearn.model_selection import train_test_split\n\n# Split dataset into training set and test set\nX_train, X_test, y_train, y_test = train_test_split(cancer.data, cancer.target, test_size=0.3, random_state=109) # 70% training and 30% test",
      "metadata": {
        "trusted": true
      },
      "outputs": [],
      "execution_count": 2
    },
    {
      "cell_type": "markdown",
      "source": "## TODO: Generating SVM Model",
      "metadata": {}
    },
    {
      "cell_type": "code",
      "source": "# TODO1: Import svm model from scikit-learn\nfrom sklearn import svm\n\n# TODO2: Create a linear svm classifier named \"clf\"\nclf = svm.SVC(kernel='linear')\n\n# TODO3: Train the model using the training sets\nclf.fit(X_train, y_train)\n\n# TODO4: Predict the response \"y_pred\" for test dataset\ny_pred = clf.predict(X_test)",
      "metadata": {
        "trusted": true
      },
      "outputs": [],
      "execution_count": 3
    },
    {
      "cell_type": "markdown",
      "source": "## TODO: Evaluating SVM Model",
      "metadata": {}
    },
    {
      "cell_type": "code",
      "source": "# Import scikit-learn metrics module for accuracy calculation\nfrom sklearn import metrics\n\n# TODO5: Print the accuracy score of the model.\nprint(metrics.accuracy_score(y_test, y_pred))",
      "metadata": {
        "trusted": true
      },
      "outputs": [
        {
          "name": "stdout",
          "text": "0.9649122807017544\n",
          "output_type": "stream"
        }
      ],
      "execution_count": 4
    }
  ]
}
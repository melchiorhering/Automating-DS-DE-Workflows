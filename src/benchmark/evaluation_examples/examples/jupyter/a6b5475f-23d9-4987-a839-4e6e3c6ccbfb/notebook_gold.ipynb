{
 "cells": [
  {
   "cell_type": "markdown",
   "metadata": {
    "dc": {
     "key": "3"
    },
    "deletable": false,
    "editable": false,
    "run_control": {
     "frozen": true
    },
    "tags": [
     "context"
    ]
   },
   "source": [
    "## # Introduction\n",
    "<p><img src=\"https://assets.datacamp.com/production/project_1010/img/book_cover.jpg\" alt=\"The book cover of Peter and Wendy\" style=\"width:183;height:253px;\"></p>\n",
    "<h3 id=\"flyawaywithpeterpan\">Fly away with Peter Pan!</h3>\n",
    "<p>Peter Pan has been the companion of many children, and went a long way, starting as a Christmas play and ending up as a Disney classic. Did you know that although the play was titled \"Peter Pan, Or The Boy Who Wouldn't Grow Up\", J. M. Barrie's novel was actually titled \"Peter and Wendy\"? </p>\n",
    "<p>You're going to explore and analyze Peter Pan's text to answer the question in the instruction pane below. You are working with the text version available here at <a href=\"https://www.gutenberg.org/files/16/16-h/16-h.htm\">Project Gutenberg</a>. Feel free to add as many cells as necessary. Finally, remember that you are only tested on your answer, not on the methods you use to arrive at the answer!</p>\n",
    "<p><strong>Note:</strong> If you haven't completed a DataCamp project before you should check out the <a href=\"https://projects.datacamp.com/projects/33\">Intro to Projects</a> first to learn about the interface. <a href=\"https://www.datacamp.com/courses/intermediate-importing-data-in-python\">Intermediate Importing Data in Python</a> and <a href=\"https://www.datacamp.com/courses/introduction-to-natural-language-processing-in-python\">Introduction to Natural Language Processing in Python</a> teach the skills required to complete this project. Should you decide to use them, English stopwords have been downloaded from <code>nltk</code> and are available for you in your environment.</p>"
   ]
  },
  {
   "cell_type": "code",
   "execution_count": 1,
   "metadata": {
    "dc": {
     "key": "3"
    },
    "tags": [
     "sample_code"
    ]
   },
   "outputs": [],
   "source": [
    "import requests\n",
    "import nltk\n",
    "from bs4 import BeautifulSoup\n",
    "from collections import Counter"
   ]
  },
  {
   "cell_type": "code",
   "execution_count": 2,
   "metadata": {
    "dc": {
     "key": "3"
    }
   },
   "outputs": [],
   "source": [
    "r = requests.get('https://www.gutenberg.org/files/16/16-h/16-h.htm')\n",
    "r.encoding = 'utf-8'"
   ]
  },
  {
   "cell_type": "code",
   "execution_count": 3,
   "metadata": {
    "dc": {
     "key": "3"
    }
   },
   "outputs": [
    {
     "name": "stdout",
     "output_type": "stream",
     "text": [
      "<!DOCTYPE html PUBLIC \"-//W3C//DTD XHTML 1.0 Strict//EN\"\n",
      "\"http://www.w3.org/TR/xhtml1/DTD/xhtml1-strict.dtd\">\n",
      "<html xmlns=\"http://www.w3.org/1999/xhtml\" xml:lang=\"en\" lang=\"en\">\n",
      "<head>\n",
      "<meta http-equiv=\"Content-Type\" content=\"text/html;charset=utf-8\" />\n",
      "<meta http-equiv=\"Content-Style-Type\" content=\"text/css\" />\n",
      "<title>The Project Gutenberg eBook of Peter Pan, by James M. Barrie</title>\n",
      "\n",
      "<style type=\"text/css\">\n",
      "\n",
      "body { margin-left: 20%;\n",
      "       margin-right: 20%;\n",
      "       text-align: justify; }\n",
      "\n",
      "h1, h2, h3, h4, h5 {text-align: center; font-style: normal; font-weight:\n",
      "normal; line-height: 1.5; margin-top: .5em; margin-bottom: .5em;}\n",
      "\n",
      "h1 {font-size: 300%;\n",
      "    margin-top: 0.6em;\n",
      "    margin-bottom: 0.6em;\n",
      "    letter-spacing: 0.12em;\n",
      "    word-spacing: 0.2em;\n",
      "    text-indent: 0em;}\n",
      "h2 {font-size: 150%; margin-top: 2em; margin-bottom: 1em;}\n",
      "h3 {font-size: 130%; margin-top: 1em;}\n",
      "h4 {font-size: 120%;}\n",
      "h5 {font-size: 110%;}\n",
      "\n",
      ".no-break {page-break-before: avoid;} /* for epubs */\n",
      "\n",
      "div.chapter {page-break-before: always; margin-top: 4em;}\n",
      "\n",
      "hr {width: 80%; margin-top: 2em; margin-bottom: 2em;}\n",
      "\n",
      "p {text-indent: 1em;\n",
      "   margin-top: 0.25em;\n",
      "   margin-bottom: 0.25em; }\n",
      "\n",
      "p.poem {text-indent: 0%;\n",
      "        margin-left: 10%;\n",
      "        font-size: 90%;\n",
      "        margin-top: 1em;\n",
      "        margin-bottom: 1em; }\n",
      "\n",
      "p.letter {text-indent: 0%;\n",
      "          margin-left: 10%;\n",
      "          margin-right: 10%;\n",
      "          margin-top: 1em;\n",
      "          margin-bottom: 1em; }\n",
      "\n",
      "p.center  {text-align: center;\n",
      "           text-indent: 0em;\n",
      "           margin-top: 1em;\n",
      "           margin-bottom: 1em; }\n",
      "\n",
      "a:link {color:blue; text-decoration:none}\n",
      "a:visited {color:blue; text-decoration:none}\n",
      "a:hover {color:red}\n",
      "\n",
      "</style>\n",
      "\n",
      "</head>\n",
      "\n",
      "<body>\n",
      "\n",
      "<div style='text-align:center; font-size:1.2em; font-weight:bold;'>The Project Gutenberg eBook of Peter Pan, by James M. Barrie</div>\n",
      "<div style='display:block; margin:1em 0'>\n",
      "This eBook is for the use of anyone anywhere in the Unit\n"
     ]
    }
   ],
   "source": [
    "html = r.text\n",
    "print(html[:2000])"
   ]
  },
  {
   "cell_type": "code",
   "execution_count": 4,
   "metadata": {
    "dc": {
     "key": "3"
    }
   },
   "outputs": [
    {
     "name": "stdout",
     "output_type": "stream",
     "text": [
      "\n",
      "\n",
      "\n",
      "\n",
      "\n",
      "The Project Gutenberg eBook of Peter Pan, by James M. Barrie\n",
      "\n",
      "\n",
      "\n",
      "The Project Gutenberg eBook of Peter Pan, by James M. Barrie\n",
      "\n",
      "This eBook is for the use of anyone anywhere in the United States and\n",
      "most other parts of the world at no cost and with almost no restrictions\n",
      "whatsoever. You may copy it, give it away or re-use it under the terms\n",
      "of the Project Gutenberg License included with this eBook or online\n",
      "at www.gutenberg.org. If you\n",
      "are not located in the United States, you will have to check the laws of the\n",
      "country where you are located before using this eBook.\n",
      "\n",
      "Title: Peter Pan\n",
      "Peter Pan and Wendy\n",
      "Author: James M. Barrie\n",
      "Release Date: July, 1991 [eBook #16]\n",
      "[Most recently updated: February 15, 2021]\n",
      "Language: English\n",
      "Character set encoding: UTF-8\n",
      "Produced by: Duncan Research\n",
      "*** START OF THE PROJECT GUTENBERG EBOOK PETER PAN ***\n",
      "Peter Pan\n",
      "[PETER AND WENDY]\n",
      "by J. M. Barrie [James Matthew Barrie]\n",
      "\n",
      "A Millennium Fulcrum Edition produced in 1991 by Duncan Research. Note that\n",
      "while a copyright was initially claimed for the labor involved in digitization,\n",
      "that copyright claim is not consistent with current copyright requirements.\n",
      "This text, which matches the 1911 original publication, is in the public domain\n",
      "in the US.\n",
      "\n",
      "\n",
      "Contents\n",
      "\n",
      "\n",
      " Chapter I. PETER BREAKS THROUGH\n",
      "\n",
      "\n",
      " Chapter II. THE SHADOW\n",
      "\n",
      "\n",
      " Chapter III. COME AWAY, COME AWAY!\n",
      "\n",
      "\n",
      " Chapter IV. THE FLIGHT\n",
      "\n",
      "\n",
      " Chapter V. THE ISLAND COME TRUE\n",
      "\n",
      "\n",
      " Chapter VI. THE LITTLE HOUSE\n",
      "\n",
      "\n",
      " Chapter VII. THE HOME UNDER THE GROUND\n",
      "\n",
      "\n",
      " Chapter VIII. THE MERMAIDS’ LAGOON\n",
      "\n",
      "\n",
      " Chapter IX. THE NEVER BIRD\n",
      "\n",
      "\n",
      " Chapter X. THE HAPPY HOME\n",
      "\n",
      "\n",
      " Chapter XI. WENDY’S STORY\n",
      "\n",
      "\n",
      " Chapter XII. THE CHILDREN ARE CARRIED OFF\n",
      "\n",
      "\n",
      " Chapter XIII. DO YOU BELIEVE IN FAIRIES?\n",
      "\n",
      "\n",
      " Chapter XIV. THE PIRATE SHIP\n",
      "\n",
      "\n",
      " Chapter XV. “HOOK OR ME THIS TIME”\n",
      "\n",
      "\n",
      " Chapter XVI. THE RETURN HOME\n",
      "\n",
      "\n",
      " Chapter XVII. WHEN WENDY GREW UP\n",
      "\n",
      "\n",
      "\n",
      "Chapter I.\n",
      "PETER BREAKS THROUGH\n",
      "\n",
      "All children, except one, grow up. They soon know that they will grow up, and\n",
      "the way Wendy knew was this. O\n"
     ]
    }
   ],
   "source": [
    "soup = BeautifulSoup(html)\n",
    "text = soup.text\n",
    "print(text[:2000])"
   ]
  },
  {
   "cell_type": "code",
   "execution_count": 5,
   "metadata": {
    "dc": {
     "key": "3"
    }
   },
   "outputs": [
    {
     "name": "stdout",
     "output_type": "stream",
     "text": [
      "['The', 'Project', 'Gutenberg', 'eBook', 'of', 'Peter']\n"
     ]
    }
   ],
   "source": [
    "tokenizer = nltk.tokenize.RegexpTokenizer('\\w+')\n",
    "tokens = tokenizer.tokenize(text)\n",
    "print(tokens[:6])"
   ]
  },
  {
   "cell_type": "code",
   "execution_count": 6,
   "metadata": {
    "dc": {
     "key": "3"
    }
   },
   "outputs": [
    {
     "name": "stdout",
     "output_type": "stream",
     "text": [
      "['the', 'project', 'gutenberg', 'ebook', 'of', 'peter']\n"
     ]
    }
   ],
   "source": [
    "words = [token.lower() for token in tokens]\n",
    "print(words[:6])"
   ]
  },
  {
   "cell_type": "code",
   "execution_count": 7,
   "metadata": {
    "dc": {
     "key": "3"
    }
   },
   "outputs": [
    {
     "name": "stdout",
     "output_type": "stream",
     "text": [
      "['i', 'me', 'my', 'myself', 'we', 'our', 'ours', 'ourselves', 'you', \"you're\", \"you've\", \"you'll\", \"you'd\", 'your', 'yours', 'yourself', 'yourselves', 'he', 'him', 'his', 'himself', 'she', \"she's\", 'her', 'hers', 'herself', 'it', \"it's\", 'its', 'itself']\n"
     ]
    }
   ],
   "source": [
    "stop_words = nltk.corpus.stopwords.words('english')\n",
    "print(stop_words[:30])"
   ]
  },
  {
   "cell_type": "code",
   "execution_count": 8,
   "metadata": {
    "dc": {
     "key": "3"
    }
   },
   "outputs": [
    {
     "name": "stdout",
     "output_type": "stream",
     "text": [
      "['project', 'gutenberg', 'ebook', 'peter', 'pan', 'james']\n"
     ]
    }
   ],
   "source": [
    "words_clean = [word for word in words if word not in stop_words]\n",
    "print(words_clean[:6])"
   ]
  }
 ],
 "metadata": {
  "kernelspec": {
   "display_name": "Python 3 (ipykernel)",
   "language": "python",
   "name": "python3"
  },
  "language_info": {
   "codemirror_mode": {
    "name": "ipython",
    "version": 3
   },
   "file_extension": ".py",
   "mimetype": "text/x-python",
   "name": "python",
   "nbconvert_exporter": "python",
   "pygments_lexer": "ipython3",
   "version": "3.11.9"
  }
 },
 "nbformat": 4,
 "nbformat_minor": 4
}

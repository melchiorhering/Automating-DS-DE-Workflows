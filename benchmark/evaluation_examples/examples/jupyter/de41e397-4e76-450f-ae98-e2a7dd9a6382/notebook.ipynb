{
 "cells": [
  {
   "cell_type": "code",
   "execution_count": 1,
   "metadata": {},
   "outputs": [],
   "source": [
    "import pandas as pd\n",
    "import sqlite3"
   ]
  },
  {
   "cell_type": "code",
   "execution_count": 2,
   "metadata": {},
   "outputs": [],
   "source": [
    "film_actor = pd.read_csv('./film_actor.csv')\n",
    "film_category = pd.read_csv('./film_category.csv')\n",
    "film = pd.read_csv('./film.csv')\n",
    "category = pd.read_csv('./category.csv')"
   ]
  }
 ],
 "metadata": {
  "kernelspec": {
   "display_name": "osworld",
   "language": "python",
   "name": "python3"
  },
  "language_info": {
   "codemirror_mode": {
    "name": "ipython",
    "version": 3
   },
   "file_extension": ".py",
   "mimetype": "text/x-python",
   "name": "python",
   "nbconvert_exporter": "python",
   "pygments_lexer": "ipython3",
   "version": "3.9.19"
  }
 },
 "nbformat": 4,
 "nbformat_minor": 2
}

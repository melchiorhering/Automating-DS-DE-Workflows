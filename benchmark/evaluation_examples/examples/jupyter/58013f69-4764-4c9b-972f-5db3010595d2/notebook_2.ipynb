{
 "cells": [
  {
   "cell_type": "markdown",
   "id": "71793c11",
   "metadata": {},
   "source": [
    "### Setting dtypes and saving memory"
   ]
  },
  {
   "cell_type": "code",
   "execution_count": null,
   "id": "a6ed7bc5",
   "metadata": {},
   "outputs": [],
   "source": [
    "list_of_occupations = adult['Occupation'].values.tolist()"
   ]
  },
  {
   "cell_type": "code",
   "execution_count": null,
   "id": "07a783ac",
   "metadata": {},
   "outputs": [],
   "source": [
    "series1 = pd.Series(list_of_occupations)"
   ]
  },
  {
   "cell_type": "code",
   "execution_count": null,
   "id": "4f4f8266",
   "metadata": {},
   "outputs": [],
   "source": [
    "\n",
    "print(\"series1 data type:\", series1.dtype)\n",
    "print(\"series1 number of bytes:\", series1.nbytes)"
   ]
  },
  {
   "cell_type": "code",
   "execution_count": null,
   "id": "dc004789",
   "metadata": {},
   "outputs": [],
   "source": [
    "\n",
    "series2 = pd.Series(list_of_occupations, dtype=\"category\")"
   ]
  },
  {
   "cell_type": "code",
   "execution_count": null,
   "id": "2e41ac3e",
   "metadata": {},
   "outputs": [],
   "source": [
    "print(\"series2 data type:\", series2.dtype)\n",
    "print(\"series2 number of bytes:\", series2.nbytes)"
   ]
  }
 ],
 "metadata": {
  "kernelspec": {
   "display_name": "Python 3 (ipykernel)",
   "language": "python",
   "name": "python3"
  },
  "language_info": {
   "codemirror_mode": {
    "name": "ipython",
    "version": 3
   },
   "file_extension": ".py",
   "mimetype": "text/x-python",
   "name": "python",
   "nbconvert_exporter": "python",
   "pygments_lexer": "ipython3",
   "version": "3.9.6"
  }
 },
 "nbformat": 4,
 "nbformat_minor": 5
}

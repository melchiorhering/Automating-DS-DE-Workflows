{
  "metadata": {
    "kernelspec": {
      "name": "python",
      "display_name": "Python (Pyodide)",
      "language": "python"
    },
    "language_info": {
      "codemirror_mode": {
        "name": "python",
        "version": 3
      },
      "file_extension": ".py",
      "mimetype": "text/x-python",
      "name": "python",
      "nbconvert_exporter": "python",
      "pygments_lexer": "ipython3",
      "version": "3.8"
    }
  },
  "nbformat_minor": 4,
  "nbformat": 4,
  "cells": [
    {
      "cell_type": "markdown",
      "source": "# Finding the Best K for KNN Regression",
      "metadata": {}
    },
    {
      "cell_type": "markdown",
      "source": "We are going to use the California housing dataset to illustrate how to find the best ``k`` value for KNN regression. The dataset was derived from the 1990 U.S. census. One row of the dataset represents the census of one block group.",
      "metadata": {}
    },
    {
      "cell_type": "markdown",
      "source": "## Import and Load the Dataset",
      "metadata": {}
    },
    {
      "cell_type": "code",
      "source": "from sklearn.datasets import fetch_california_housing\n\n# as_frame=True loads the data in a dataframe format, with other metadata besides it\ncalifornia_housing = fetch_california_housing(as_frame=True)\n\n# Select only the dataframe part and assign it to the df variable\ndf = california_housing.frame",
      "metadata": {
        "trusted": true
      },
      "outputs": [],
      "execution_count": null
    },
    {
      "cell_type": "markdown",
      "source": "## Explore the Dataset",
      "metadata": {}
    },
    {
      "cell_type": "markdown",
      "source": "Take a peak at the first few rows of data.",
      "metadata": {}
    },
    {
      "cell_type": "code",
      "source": "import pandas as pd\ndf.head()",
      "metadata": {
        "trusted": true
      },
      "outputs": [],
      "execution_count": null
    },
    {
      "cell_type": "markdown",
      "source": "## Preprocessing the Dataset",
      "metadata": {}
    },
    {
      "cell_type": "markdown",
      "source": "We need to predict another median house value. To do so, we will assign ``MedHouseVal`` to ``y`` and all other columns to ``X`` just by dropping ``MedHouseVal``.",
      "metadata": {}
    },
    {
      "cell_type": "code",
      "source": "y = df['MedHouseVal']\nX = df.drop(['MedHouseVal'], axis = 1)",
      "metadata": {
        "trusted": true
      },
      "outputs": [],
      "execution_count": null
    },
    {
      "cell_type": "markdown",
      "source": "## Splitting Data into Train and Test Sets",
      "metadata": {}
    },
    {
      "cell_type": "markdown",
      "source": "We sample 75% of the data for training and 25% of the data for testing. To ensure a reproducible evaluation, set the random_state using the provided ``SEED``.",
      "metadata": {}
    },
    {
      "cell_type": "code",
      "source": "from sklearn.model_selection import train_test_split\n\nSEED = 42\nX_train, X_test, y_train, y_test = train_test_split(X, y, test_size=0.25, random_state=SEED)",
      "metadata": {
        "trusted": true
      },
      "outputs": [],
      "execution_count": null
    },
    {
      "cell_type": "markdown",
      "source": "## Feature Scaling both Train and Test Sets",
      "metadata": {}
    },
    {
      "cell_type": "markdown",
      "source": "By importing StandardScaler, instantiating it, fitting it according to our train data (preventing leakage), and transforming both train and test datasets, we can perform feature scaling.",
      "metadata": {}
    },
    {
      "cell_type": "code",
      "source": "from sklearn.preprocessing import StandardScaler\nscaler = StandardScaler()\nscaler.fit(X_train)\nX_train = scaler.transform(X_train)\nX_test = scaler.transform(X_test)",
      "metadata": {
        "trusted": true
      },
      "outputs": [],
      "execution_count": null
    },
    {
      "cell_type": "markdown",
      "source": "## Finding the Best K for KNN Regression",
      "metadata": {}
    },
    {
      "cell_type": "markdown",
      "source": "We will calculate the ``mean_absolute_error`` (MAE) for the predicted values of the test set for all the K values between 1 and 39. Print the best K value (the K value with the lowest MAE) in the end.",
      "metadata": {}
    },
    {
      "cell_type": "code",
      "source": "from sklearn.metrics import mean_absolute_error\nfrom sklearn.neighbors import KNeighborsRegressor\n\nerror = []\n\n# TODO: Calculating MAE error for K values between 1 and 39\n\nprint(error.index(min(error)) + 1)",
      "metadata": {
        "trusted": true
      },
      "outputs": [],
      "execution_count": null
    }
  ]
}
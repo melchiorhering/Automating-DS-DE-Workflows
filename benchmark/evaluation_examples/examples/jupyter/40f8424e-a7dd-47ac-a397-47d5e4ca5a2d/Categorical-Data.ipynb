{
 "cells": [
  {
   "cell_type": "markdown",
   "id": "b55f3601",
   "metadata": {},
   "source": [
    "# Working with Categorical Data in Python"
   ]
  },
  {
   "cell_type": "markdown",
   "id": "a3003051",
   "metadata": {},
   "source": [
    "## Introduction to Categorical Data"
   ]
  },
  {
   "cell_type": "code",
   "execution_count": null,
   "id": "6ea6343a",
   "metadata": {},
   "outputs": [],
   "source": [
    "import pandas as pd"
   ]
  },
  {
   "cell_type": "code",
   "execution_count": null,
   "id": "f370310e",
   "metadata": {},
   "outputs": [],
   "source": [
    "adult = pd.read_csv('adult.csv')"
   ]
  },
  {
   "cell_type": "code",
   "execution_count": null,
   "id": "a89226eb",
   "metadata": {},
   "outputs": [],
   "source": [
    "adult.head()"
   ]
  },
  {
   "cell_type": "code",
   "execution_count": null,
   "id": "2de69f40",
   "metadata": {},
   "outputs": [],
   "source": [
    "\n",
    "print(adult['Above/Below 50k'].describe())"
   ]
  },
  {
   "cell_type": "code",
   "execution_count": null,
   "id": "b29e94d6",
   "metadata": {},
   "outputs": [],
   "source": [
    "\n",
    "print(adult['Above/Below 50k'].value_counts())"
   ]
  },
  {
   "cell_type": "code",
   "execution_count": null,
   "id": "0fc87348",
   "metadata": {},
   "outputs": [],
   "source": [
    "print(adult['Above/Below 50k'].value_counts(normalize=True))"
   ]
  },
  {
   "cell_type": "markdown",
   "id": "71793c11",
   "metadata": {},
   "source": [
    "### Setting dtypes and saving memory"
   ]
  },
  {
   "cell_type": "code",
   "execution_count": null,
   "id": "9a4f94df",
   "metadata": {},
   "outputs": [],
   "source": [
    "adult['Occupation'].value_counts()"
   ]
  },
  {
   "cell_type": "code",
   "execution_count": null,
   "id": "a6ed7bc5",
   "metadata": {},
   "outputs": [],
   "source": [
    "list_of_occupations = adult['Occupation'].values.tolist()"
   ]
  },
  {
   "cell_type": "code",
   "execution_count": null,
   "id": "07a783ac",
   "metadata": {},
   "outputs": [],
   "source": [
    "series1 = pd.Series(list_of_occupations)"
   ]
  },
  {
   "cell_type": "code",
   "execution_count": null,
   "id": "4f4f8266",
   "metadata": {},
   "outputs": [],
   "source": [
    "\n",
    "print(\"series1 data type:\", series1.dtype)\n",
    "print(\"series1 number of bytes:\", series1.nbytes)"
   ]
  },
  {
   "cell_type": "code",
   "execution_count": null,
   "id": "dc004789",
   "metadata": {},
   "outputs": [],
   "source": [
    "\n",
    "series2 = pd.Series(list_of_occupations, dtype=\"category\")"
   ]
  },
  {
   "cell_type": "code",
   "execution_count": null,
   "id": "2e41ac3e",
   "metadata": {},
   "outputs": [],
   "source": [
    "print(\"series2 data type:\", series2.dtype)\n",
    "print(\"series2 number of bytes:\", series2.nbytes)"
   ]
  },
  {
   "cell_type": "markdown",
   "id": "d5718a2e",
   "metadata": {},
   "source": [
    "### Setting dtype when reading data\n"
   ]
  },
  {
   "cell_type": "code",
   "execution_count": null,
   "id": "c9e6141d",
   "metadata": {},
   "outputs": [],
   "source": [
    "adult.head()"
   ]
  },
  {
   "cell_type": "code",
   "execution_count": null,
   "id": "5c9edf16",
   "metadata": {},
   "outputs": [],
   "source": [
    "print(adult.dtypes)"
   ]
  },
  {
   "cell_type": "markdown",
   "id": "7269a786",
   "metadata": {},
   "source": [
    "### Using pandas functions effectively\n",
    "\n",
    "- Define the columns for grouping\n",
    "- Group the dataset by the specified columns\n",
    "- Calculate and print the mean hours worked per week for each group\n"
   ]
  }
 ],
 "metadata": {
  "kernelspec": {
   "display_name": "Python 3 (ipykernel)",
   "language": "python",
   "name": "python3"
  },
  "language_info": {
   "codemirror_mode": {
    "name": "ipython",
    "version": 3
   },
   "file_extension": ".py",
   "mimetype": "text/x-python",
   "name": "python",
   "nbconvert_exporter": "python",
   "pygments_lexer": "ipython3",
   "version": "3.9.19"
  }
 },
 "nbformat": 4,
 "nbformat_minor": 5
}

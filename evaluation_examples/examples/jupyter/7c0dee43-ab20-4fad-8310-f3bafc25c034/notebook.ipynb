{
 "cells": [
  {
   "cell_type": "code",
   "execution_count": 1,
   "metadata": {},
   "outputs": [],
   "source": [
    "import pandas as pd\n",
    "import sqlite3"
   ]
  },
  {
   "cell_type": "code",
   "execution_count": 5,
   "metadata": {},
   "outputs": [],
   "source": [
    "categories = pd.read_csv('./categories.csv')\n",
    "customers = pd.read_csv('./customers.csv')\n",
    "order_items = pd.read_csv('./order_items.csv')\n",
    "orders = pd.read_csv('./orders.csv')\n",
    "products = pd.read_csv('./products.csv')\n",
    "stocks = pd.read_csv('./stocks.csv')\n",
    "stores = pd.read_csv('./stores.csv')"
   ]
  }
 ],
 "metadata": {
  "kernelspec": {
   "display_name": "osworld",
   "language": "python",
   "name": "python3"
  },
  "language_info": {
   "codemirror_mode": {
    "name": "ipython",
    "version": 3
   },
   "file_extension": ".py",
   "mimetype": "text/x-python",
   "name": "python",
   "nbconvert_exporter": "python",
   "pygments_lexer": "ipython3",
   "version": "3.9.19"
  }
 },
 "nbformat": 4,
 "nbformat_minor": 2
}

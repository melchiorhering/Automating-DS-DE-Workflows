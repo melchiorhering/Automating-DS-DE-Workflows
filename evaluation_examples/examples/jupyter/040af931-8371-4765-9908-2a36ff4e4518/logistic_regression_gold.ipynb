{
 "cells": [
  {
   "cell_type": "markdown",
   "metadata": {},
   "source": [
    "# Logistic Regression\n",
    "Constructing a model to predict whether or not a particular student will be admitted to a university, you have the results of two test scores and the final admissions of students who have previously applied, requiring you to construct a classification model to assess admissions."
   ]
  },
  {
   "cell_type": "markdown",
   "metadata": {},
   "source": [
    "## Load Data"
   ]
  },
  {
   "cell_type": "code",
   "execution_count": 1,
   "metadata": {},
   "outputs": [],
   "source": [
    "import numpy as np\n",
    "import pandas as pd\n",
    "import matplotlib.pyplot as plt\n",
    "np.set_printoptions(precision=3)"
   ]
  },
  {
   "cell_type": "code",
   "execution_count": 2,
   "metadata": {},
   "outputs": [],
   "source": [
    "path = 'data.csv'\n",
    "data = pd.read_csv(path, header=None, names=['Exam1', 'Exam2', 'Admitted'])"
   ]
  },
  {
   "cell_type": "markdown",
   "metadata": {},
   "source": [
    "## Sigmoid Function"
   ]
  },
  {
   "cell_type": "code",
   "execution_count": 3,
   "metadata": {},
   "outputs": [],
   "source": [
    "def sigmoid(z):\n",
    "    return 1 / (1 + np.exp(-z))"
   ]
  },
  {
   "cell_type": "markdown",
   "metadata": {},
   "source": [
    "## Cost Function"
   ]
  },
  {
   "cell_type": "code",
   "execution_count": 4,
   "metadata": {},
   "outputs": [],
   "source": [
    "def cost(theta, X, Y):\n",
    "    first = Y * np.log(sigmoid(X@theta.T))\n",
    "    second = (1 - Y) * np.log(1 - sigmoid(X@theta.T))\n",
    "    return -1 * np.mean(first + second)"
   ]
  },
  {
   "cell_type": "markdown",
   "metadata": {},
   "source": [
    "## Preprocess Data"
   ]
  },
  {
   "cell_type": "code",
   "execution_count": 5,
   "metadata": {},
   "outputs": [],
   "source": [
    "# add ones column\n",
    "data.insert(0, 'Ones', 1)"
   ]
  },
  {
   "cell_type": "code",
   "execution_count": 6,
   "metadata": {},
   "outputs": [],
   "source": [
    "# set X(training data) and Y(target variable)\n",
    "X = data.iloc[:, 0: -1].values\n",
    "Y = data.iloc[:, -1].values\n",
    "theta = np.zeros(3)"
   ]
  },
  {
   "cell_type": "markdown",
   "metadata": {},
   "source": [
    "Check the dimensions of the matrix"
   ]
  },
  {
   "cell_type": "code",
   "execution_count": 7,
   "metadata": {},
   "outputs": [
    {
     "data": {
      "text/plain": [
       "array([0., 0., 0.])"
      ]
     },
     "execution_count": 7,
     "metadata": {},
     "output_type": "execute_result"
    }
   ],
   "source": [
    "theta"
   ]
  },
  {
   "cell_type": "code",
   "execution_count": 8,
   "metadata": {},
   "outputs": [
    {
     "data": {
      "text/plain": [
       "((100, 3), (100,), (3,))"
      ]
     },
     "execution_count": 8,
     "metadata": {},
     "output_type": "execute_result"
    }
   ],
   "source": [
    "X.shape, Y.shape, theta.shape"
   ]
  },
  {
   "cell_type": "markdown",
   "metadata": {},
   "source": [
    "Calculate the initial cost (theta=0)"
   ]
  },
  {
   "cell_type": "code",
   "execution_count": 9,
   "metadata": {},
   "outputs": [
    {
     "name": "stdout",
     "output_type": "stream",
     "text": [
      "0.693\n"
     ]
    }
   ],
   "source": [
    "print(f'{cost(theta, X, Y):.3f}')"
   ]
  },
  {
   "cell_type": "markdown",
   "metadata": {},
   "source": [
    "## Gradient Descent"
   ]
  },
  {
   "cell_type": "code",
   "execution_count": 10,
   "metadata": {},
   "outputs": [],
   "source": [
    "# Calculate step size\n",
    "def gradient(theta, X, Y):\n",
    "    return (1/len(X) * X.T @ (sigmoid(X @ theta.T) - Y))\n",
    "\n",
    "#     theta = np.matrix(theta)\n",
    "#     X = np.matrix(X)\n",
    "#     Y = np.matrix(Y)\n",
    "    \n",
    "#     parameters = int(theta.ravel().shape[1])\n",
    "#     grad = np.zeros(parameters)\n",
    "#     print(X.shape, theta.shape, (theta.T).shape, (X*theta.T).shape)\n",
    "#     error = sigmoid(X * theta.T) - Y\n",
    "    \n",
    "#     for i in range(parameters):\n",
    "#         term = np.multiply(error, X[:, i])\n",
    "#         grad[i] = np.sum(term) / len(X)\n",
    "        \n",
    "#     return grad"
   ]
  },
  {
   "cell_type": "code",
   "execution_count": 11,
   "metadata": {},
   "outputs": [
    {
     "data": {
      "text/plain": [
       "array([ -0.1  , -12.009, -11.263])"
      ]
     },
     "execution_count": 11,
     "metadata": {},
     "output_type": "execute_result"
    }
   ],
   "source": [
    "gradient(theta, X, Y)"
   ]
  },
  {
   "cell_type": "markdown",
   "metadata": {},
   "source": [
    "## Parameter Fitting"
   ]
  },
  {
   "cell_type": "code",
   "execution_count": 12,
   "metadata": {},
   "outputs": [
    {
     "name": "stderr",
     "output_type": "stream",
     "text": [
      "  NIT   NF   F                       GTG\n",
      "    0    1  6.931471805599453E-01   2.71082898E+02\n",
      "    1    3  6.318123602631788E-01   7.89087138E-01\n",
      "    2    5  5.892425240512910E-01   7.39226410E+01\n",
      "    3    7  4.227824121103003E-01   1.85265932E+01\n",
      "    4    9  4.072926906292383E-01   1.68671158E+01\n",
      "    5   11  3.818854881101514E-01   1.07735051E+01\n",
      "    6   13  3.786234784862133E-01   2.31584968E+01\n",
      "tnc: stepmx = 1000\n",
      "    7   16  2.389267639345792E-01   3.00821242E+00\n",
      "    8   18  2.047203864002273E-01   1.52226291E-01\n",
      "    9   20  2.046713880084462E-01   6.62492840E-02\n",
      "   10   22  2.035303168264609E-01   9.30777002E-04\n",
      "tnc: fscale = 32.7776\n",
      "   11   24  2.035293527202483E-01   8.07318769E-06\n",
      "   12   26  2.035251121374061E-01   1.80198187E-04\n",
      "   13   28  2.034984108708112E-01   5.02846491E-04\n",
      "   14   30  2.034978382232995E-01   9.91837930E-06\n",
      "   15   32  2.034977907365883E-01   3.77628250E-06\n",
      "   16   34  2.034977388717188E-01   1.94730968E-05\n",
      "   17   36  2.034977015894746E-01   2.30411629E-13\n",
      "tnc: |pg| = 1.46445e-08 -> local minimum\n",
      "   17   36  2.034977015894746E-01   2.30411629E-13\n",
      "tnc: Local minima reach (|pg| ~= 0)\n"
     ]
    },
    {
     "data": {
      "text/plain": [
       "(array([-25.161,   0.206,   0.201]), 36, 0)"
      ]
     },
     "execution_count": 12,
     "metadata": {},
     "output_type": "execute_result"
    }
   ],
   "source": [
    "import scipy.optimize as opt\n",
    "result = opt.fmin_tnc(func=cost, x0=theta, fprime=gradient, args=(X, Y))\n",
    "result"
   ]
  },
  {
   "cell_type": "code",
   "execution_count": 13,
   "metadata": {},
   "outputs": [
    {
     "data": {
      "text/plain": [
       "tuple"
      ]
     },
     "execution_count": 13,
     "metadata": {},
     "output_type": "execute_result"
    }
   ],
   "source": [
    "type(result)"
   ]
  },
  {
   "cell_type": "code",
   "execution_count": 14,
   "metadata": {},
   "outputs": [
    {
     "name": "stdout",
     "output_type": "stream",
     "text": [
      "0.203\n"
     ]
    }
   ],
   "source": [
    "print(f'{cost(result[0], X, Y):.3f}')"
   ]
  },
  {
   "cell_type": "markdown",
   "metadata": {},
   "source": [
    "Fit the optimal $\\theta$ using Scipy.optimize.minimize"
   ]
  },
  {
   "cell_type": "code",
   "execution_count": 15,
   "metadata": {},
   "outputs": [],
   "source": [
    "res = opt.minimize(fun=cost, x0=np.array(theta), args=(X, np.array(Y)), method='Newton-CG', jac=gradient)"
   ]
  },
  {
   "cell_type": "code",
   "execution_count": 16,
   "metadata": {},
   "outputs": [
    {
     "name": "stdout",
     "output_type": "stream",
     "text": [
      "0.203\n"
     ]
    }
   ],
   "source": [
    "print(f'{cost(res.x, X, Y):.3f}')"
   ]
  },
  {
   "cell_type": "markdown",
   "metadata": {},
   "source": [
    "## Predict"
   ]
  },
  {
   "cell_type": "markdown",
   "metadata": {},
   "source": [
    "Predict by $\\theta$：${h_\\theta(x)=\\frac{1}{1+e^{-\\theta^TX}}}$\n",
    "\n",
    "$h_\\theta\\ge0.5$, be $y=1$\n",
    "\n",
    "$h_\\theta<0.5$, be $y=0$"
   ]
  },
  {
   "cell_type": "code",
   "execution_count": 17,
   "metadata": {},
   "outputs": [],
   "source": [
    "def predict(theta, X):\n",
    "    probability = sigmoid(X @ theta.T)\n",
    "    return [1 if x >= 0.5 else 0 for x in probability]"
   ]
  },
  {
   "cell_type": "markdown",
   "metadata": {},
   "source": [
    "Accuracy"
   ]
  },
  {
   "cell_type": "code",
   "execution_count": 18,
   "metadata": {},
   "outputs": [
    {
     "name": "stdout",
     "output_type": "stream",
     "text": [
      "accuracy = 89%\n"
     ]
    }
   ],
   "source": [
    "theta_min = np.matrix(result[0])\n",
    "predictions = predict(theta_min, X)\n",
    "correct = [1 if a^b == 0 else 0 for (a,b) in zip(predictions, Y)]\n",
    "accuracy = (sum(correct) / len(correct))\n",
    "print('accuracy = {0:.0f}%'.format(accuracy*100))"
   ]
  }
 ],
 "metadata": {
  "kernelspec": {
   "display_name": "Python 3",
   "language": "python",
   "name": "python3"
  },
  "language_info": {
   "codemirror_mode": {
    "name": "ipython",
    "version": 3
   },
   "file_extension": ".py",
   "mimetype": "text/x-python",
   "name": "python",
   "nbconvert_exporter": "python",
   "pygments_lexer": "ipython3",
   "version": "3.11.8"
  }
 },
 "nbformat": 4,
 "nbformat_minor": 2
}

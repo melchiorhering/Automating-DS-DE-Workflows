{
 "cells": [
  {
   "cell_type": "code",
   "execution_count": null,
   "id": "d3b21786",
   "metadata": {
    "execution": {
     "iopub.execute_input": "2024-05-14T11:09:48.113124Z",
     "iopub.status.busy": "2024-05-14T11:09:48.111602Z",
     "iopub.status.idle": "2024-05-14T11:09:49.601612Z",
     "shell.execute_reply": "2024-05-14T11:09:49.600273Z"
    },
    "papermill": {
     "duration": 1.505353,
     "end_time": "2024-05-14T11:09:49.604973",
     "exception": false,
     "start_time": "2024-05-14T11:09:48.099620",
     "status": "completed"
    },
    "tags": []
   },
   "outputs": [],
   "source": [
    "import numpy as np\n",
    "import pandas as pd\n",
    "import seaborn as sns\n",
    "from matplotlib import pyplot as plt"
   ]
  },
  {
   "cell_type": "code",
   "execution_count": null,
   "id": "b04f99ad",
   "metadata": {
    "execution": {
     "iopub.execute_input": "2024-05-14T11:09:49.629535Z",
     "iopub.status.busy": "2024-05-14T11:09:49.627929Z",
     "iopub.status.idle": "2024-05-14T11:09:49.653871Z",
     "shell.execute_reply": "2024-05-14T11:09:49.652398Z"
    },
    "papermill": {
     "duration": 0.041257,
     "end_time": "2024-05-14T11:09:49.656917",
     "exception": false,
     "start_time": "2024-05-14T11:09:49.615660",
     "status": "completed"
    },
    "tags": []
   },
   "outputs": [],
   "source": [
    "df = pd.read_csv(\"./Rohit_Sharma_Centuries.csv\",parse_dates=True)"
   ]
  },
  {
   "cell_type": "code",
   "execution_count": null,
   "id": "8a4d2d72",
   "metadata": {
    "execution": {
     "iopub.execute_input": "2024-05-14T11:09:49.680486Z",
     "iopub.status.busy": "2024-05-14T11:09:49.679198Z",
     "iopub.status.idle": "2024-05-14T11:09:49.712518Z",
     "shell.execute_reply": "2024-05-14T11:09:49.711354Z"
    },
    "papermill": {
     "duration": 0.047835,
     "end_time": "2024-05-14T11:09:49.715186",
     "exception": false,
     "start_time": "2024-05-14T11:09:49.667351",
     "status": "completed"
    },
    "tags": []
   },
   "outputs": [],
   "source": [
    "df.head()"
   ]
  },
  {
   "cell_type": "code",
   "execution_count": null,
   "id": "9a2ff76d",
   "metadata": {
    "execution": {
     "iopub.execute_input": "2024-05-14T11:09:49.739419Z",
     "iopub.status.busy": "2024-05-14T11:09:49.738941Z",
     "iopub.status.idle": "2024-05-14T11:09:49.760078Z",
     "shell.execute_reply": "2024-05-14T11:09:49.758746Z"
    },
    "papermill": {
     "duration": 0.036464,
     "end_time": "2024-05-14T11:09:49.762714",
     "exception": false,
     "start_time": "2024-05-14T11:09:49.726250",
     "status": "completed"
    },
    "tags": []
   },
   "outputs": [],
   "source": [
    "df.tail()"
   ]
  },
  {
   "cell_type": "code",
   "execution_count": null,
   "id": "6a1c8be5",
   "metadata": {
    "execution": {
     "iopub.execute_input": "2024-05-14T11:09:49.787287Z",
     "iopub.status.busy": "2024-05-14T11:09:49.786790Z",
     "iopub.status.idle": "2024-05-14T11:09:49.794968Z",
     "shell.execute_reply": "2024-05-14T11:09:49.793604Z"
    },
    "papermill": {
     "duration": 0.023746,
     "end_time": "2024-05-14T11:09:49.797827",
     "exception": false,
     "start_time": "2024-05-14T11:09:49.774081",
     "status": "completed"
    },
    "tags": []
   },
   "outputs": [],
   "source": [
    "df.shape"
   ]
  },
  {
   "cell_type": "code",
   "execution_count": null,
   "id": "e6c46681",
   "metadata": {
    "execution": {
     "iopub.execute_input": "2024-05-14T11:09:49.824722Z",
     "iopub.status.busy": "2024-05-14T11:09:49.824281Z",
     "iopub.status.idle": "2024-05-14T11:09:49.858718Z",
     "shell.execute_reply": "2024-05-14T11:09:49.857582Z"
    },
    "papermill": {
     "duration": 0.050125,
     "end_time": "2024-05-14T11:09:49.861254",
     "exception": false,
     "start_time": "2024-05-14T11:09:49.811129",
     "status": "completed"
    },
    "tags": []
   },
   "outputs": [],
   "source": [
    "df.describe()"
   ]
  },
  {
   "cell_type": "code",
   "execution_count": null,
   "id": "9f466b42",
   "metadata": {
    "execution": {
     "iopub.execute_input": "2024-05-14T11:09:49.886541Z",
     "iopub.status.busy": "2024-05-14T11:09:49.886093Z",
     "iopub.status.idle": "2024-05-14T11:09:49.911568Z",
     "shell.execute_reply": "2024-05-14T11:09:49.910048Z"
    },
    "papermill": {
     "duration": 0.041591,
     "end_time": "2024-05-14T11:09:49.914784",
     "exception": false,
     "start_time": "2024-05-14T11:09:49.873193",
     "status": "completed"
    },
    "tags": []
   },
   "outputs": [],
   "source": [
    "df.info()"
   ]
  },
  {
   "cell_type": "code",
   "execution_count": null,
   "id": "2bed8b4a",
   "metadata": {
    "execution": {
     "iopub.execute_input": "2024-05-14T11:09:49.941172Z",
     "iopub.status.busy": "2024-05-14T11:09:49.940211Z",
     "iopub.status.idle": "2024-05-14T11:09:49.949488Z",
     "shell.execute_reply": "2024-05-14T11:09:49.948236Z"
    },
    "papermill": {
     "duration": 0.025138,
     "end_time": "2024-05-14T11:09:49.951959",
     "exception": false,
     "start_time": "2024-05-14T11:09:49.926821",
     "status": "completed"
    },
    "tags": []
   },
   "outputs": [],
   "source": [
    "df.dtypes"
   ]
  },
  {
   "cell_type": "code",
   "execution_count": null,
   "id": "cf8c4f51",
   "metadata": {
    "execution": {
     "iopub.execute_input": "2024-05-14T11:09:49.978496Z",
     "iopub.status.busy": "2024-05-14T11:09:49.978097Z",
     "iopub.status.idle": "2024-05-14T11:09:49.988902Z",
     "shell.execute_reply": "2024-05-14T11:09:49.987069Z"
    },
    "papermill": {
     "duration": 0.027581,
     "end_time": "2024-05-14T11:09:49.991996",
     "exception": false,
     "start_time": "2024-05-14T11:09:49.964415",
     "status": "completed"
    },
    "tags": []
   },
   "outputs": [],
   "source": [
    "df.isnull().sum()"
   ]
  },
  {
   "cell_type": "code",
   "execution_count": null,
   "id": "53eb469e",
   "metadata": {
    "execution": {
     "iopub.execute_input": "2024-05-14T11:09:50.020755Z",
     "iopub.status.busy": "2024-05-14T11:09:50.019528Z",
     "iopub.status.idle": "2024-05-14T11:09:50.028616Z",
     "shell.execute_reply": "2024-05-14T11:09:50.027238Z"
    },
    "papermill": {
     "duration": 0.027346,
     "end_time": "2024-05-14T11:09:50.031955",
     "exception": false,
     "start_time": "2024-05-14T11:09:50.004609",
     "status": "completed"
    },
    "tags": []
   },
   "outputs": [],
   "source": [
    "df['Score'].max()"
   ]
  },
  {
   "cell_type": "code",
   "execution_count": null,
   "id": "1971f468",
   "metadata": {
    "execution": {
     "iopub.execute_input": "2024-05-14T11:09:50.058896Z",
     "iopub.status.busy": "2024-05-14T11:09:50.058420Z",
     "iopub.status.idle": "2024-05-14T11:09:50.068767Z",
     "shell.execute_reply": "2024-05-14T11:09:50.067406Z"
    },
    "papermill": {
     "duration": 0.02711,
     "end_time": "2024-05-14T11:09:50.071256",
     "exception": false,
     "start_time": "2024-05-14T11:09:50.044146",
     "status": "completed"
    },
    "tags": []
   },
   "outputs": [],
   "source": [
    "df['Type of Match'].value_counts()"
   ]
  },
  {
   "cell_type": "code",
   "execution_count": null,
   "id": "b288072e",
   "metadata": {
    "execution": {
     "iopub.execute_input": "2024-05-14T11:09:50.098063Z",
     "iopub.status.busy": "2024-05-14T11:09:50.097212Z",
     "iopub.status.idle": "2024-05-14T11:09:50.106956Z",
     "shell.execute_reply": "2024-05-14T11:09:50.105829Z"
    },
    "papermill": {
     "duration": 0.026165,
     "end_time": "2024-05-14T11:09:50.109455",
     "exception": false,
     "start_time": "2024-05-14T11:09:50.083290",
     "status": "completed"
    },
    "tags": []
   },
   "outputs": [],
   "source": [
    "df['Against'].value_counts()"
   ]
  },
  {
   "cell_type": "code",
   "execution_count": null,
   "id": "3f8f6da7",
   "metadata": {
    "execution": {
     "iopub.execute_input": "2024-05-14T11:09:50.138522Z",
     "iopub.status.busy": "2024-05-14T11:09:50.138030Z",
     "iopub.status.idle": "2024-05-14T11:09:50.150170Z",
     "shell.execute_reply": "2024-05-14T11:09:50.148839Z"
    },
    "papermill": {
     "duration": 0.030311,
     "end_time": "2024-05-14T11:09:50.152975",
     "exception": false,
     "start_time": "2024-05-14T11:09:50.122664",
     "status": "completed"
    },
    "tags": []
   },
   "outputs": [],
   "source": [
    "df['Position'].value_counts()"
   ]
  },
  {
   "cell_type": "code",
   "execution_count": null,
   "id": "a262d6a9",
   "metadata": {
    "execution": {
     "iopub.execute_input": "2024-05-14T11:09:50.181427Z",
     "iopub.status.busy": "2024-05-14T11:09:50.181011Z",
     "iopub.status.idle": "2024-05-14T11:09:50.190805Z",
     "shell.execute_reply": "2024-05-14T11:09:50.189561Z"
    },
    "papermill": {
     "duration": 0.027005,
     "end_time": "2024-05-14T11:09:50.193253",
     "exception": false,
     "start_time": "2024-05-14T11:09:50.166248",
     "status": "completed"
    },
    "tags": []
   },
   "outputs": [],
   "source": [
    "df['Innings'].value_counts()"
   ]
  },
  {
   "cell_type": "code",
   "execution_count": null,
   "id": "d35ddea5",
   "metadata": {
    "execution": {
     "iopub.execute_input": "2024-05-14T11:09:50.221539Z",
     "iopub.status.busy": "2024-05-14T11:09:50.220514Z",
     "iopub.status.idle": "2024-05-14T11:09:50.231714Z",
     "shell.execute_reply": "2024-05-14T11:09:50.230269Z"
    },
    "papermill": {
     "duration": 0.028135,
     "end_time": "2024-05-14T11:09:50.234231",
     "exception": false,
     "start_time": "2024-05-14T11:09:50.206096",
     "status": "completed"
    },
    "tags": []
   },
   "outputs": [],
   "source": [
    "df['Venue'].value_counts()"
   ]
  },
  {
   "cell_type": "code",
   "execution_count": null,
   "id": "b23b8161",
   "metadata": {
    "execution": {
     "iopub.execute_input": "2024-05-14T11:09:50.262858Z",
     "iopub.status.busy": "2024-05-14T11:09:50.261899Z",
     "iopub.status.idle": "2024-05-14T11:09:50.271463Z",
     "shell.execute_reply": "2024-05-14T11:09:50.270260Z"
    },
    "papermill": {
     "duration": 0.026214,
     "end_time": "2024-05-14T11:09:50.273866",
     "exception": false,
     "start_time": "2024-05-14T11:09:50.247652",
     "status": "completed"
    },
    "tags": []
   },
   "outputs": [],
   "source": [
    "df['Result'].value_counts()"
   ]
  },
  {
   "cell_type": "code",
   "execution_count": null,
   "id": "c623d825",
   "metadata": {
    "execution": {
     "iopub.execute_input": "2024-05-14T11:09:50.302461Z",
     "iopub.status.busy": "2024-05-14T11:09:50.301986Z",
     "iopub.status.idle": "2024-05-14T11:09:50.311959Z",
     "shell.execute_reply": "2024-05-14T11:09:50.310654Z"
    },
    "papermill": {
     "duration": 0.027616,
     "end_time": "2024-05-14T11:09:50.314485",
     "exception": false,
     "start_time": "2024-05-14T11:09:50.286869",
     "status": "completed"
    },
    "tags": []
   },
   "outputs": [],
   "source": [
    "df['Dismissed '].value_counts()"
   ]
  },
  {
   "cell_type": "code",
   "execution_count": null,
   "id": "a0185c54",
   "metadata": {
    "execution": {
     "iopub.execute_input": "2024-05-14T11:09:50.344249Z",
     "iopub.status.busy": "2024-05-14T11:09:50.343785Z",
     "iopub.status.idle": "2024-05-14T11:09:50.353560Z",
     "shell.execute_reply": "2024-05-14T11:09:50.352382Z"
    },
    "papermill": {
     "duration": 0.027776,
     "end_time": "2024-05-14T11:09:50.356151",
     "exception": false,
     "start_time": "2024-05-14T11:09:50.328375",
     "status": "completed"
    },
    "tags": []
   },
   "outputs": [],
   "source": [
    "df['Man of the Match'].value_counts()"
   ]
  },
  {
   "cell_type": "code",
   "execution_count": null,
   "id": "0c42e763",
   "metadata": {
    "execution": {
     "iopub.execute_input": "2024-05-14T11:09:50.387337Z",
     "iopub.status.busy": "2024-05-14T11:09:50.386071Z",
     "iopub.status.idle": "2024-05-14T11:09:50.396469Z",
     "shell.execute_reply": "2024-05-14T11:09:50.395285Z"
    },
    "papermill": {
     "duration": 0.029192,
     "end_time": "2024-05-14T11:09:50.399339",
     "exception": false,
     "start_time": "2024-05-14T11:09:50.370147",
     "status": "completed"
    },
    "tags": []
   },
   "outputs": [],
   "source": [
    "df['Captain'].value_counts()"
   ]
  },
  {
   "cell_type": "code",
   "execution_count": null,
   "id": "a887e261",
   "metadata": {
    "execution": {
     "iopub.execute_input": "2024-05-14T11:09:50.429428Z",
     "iopub.status.busy": "2024-05-14T11:09:50.428967Z",
     "iopub.status.idle": "2024-05-14T11:09:50.438486Z",
     "shell.execute_reply": "2024-05-14T11:09:50.437382Z"
    },
    "papermill": {
     "duration": 0.027513,
     "end_time": "2024-05-14T11:09:50.441148",
     "exception": false,
     "start_time": "2024-05-14T11:09:50.413635",
     "status": "completed"
    },
    "tags": []
   },
   "outputs": [],
   "source": [
    "df['H/A/N'].value_counts()"
   ]
  },
  {
   "cell_type": "code",
   "execution_count": null,
   "id": "fb4037ce",
   "metadata": {
    "execution": {
     "iopub.execute_input": "2024-05-14T11:09:50.471697Z",
     "iopub.status.busy": "2024-05-14T11:09:50.470556Z",
     "iopub.status.idle": "2024-05-14T11:09:50.889487Z",
     "shell.execute_reply": "2024-05-14T11:09:50.888353Z"
    },
    "papermill": {
     "duration": 0.436709,
     "end_time": "2024-05-14T11:09:50.891893",
     "exception": false,
     "start_time": "2024-05-14T11:09:50.455184",
     "status": "completed"
    },
    "tags": []
   },
   "outputs": [],
   "source": [
    "sns.countplot(data=df,x=\"Type of Match\",order=df[\"Type of Match\"].value_counts().index)\n",
    "plt.xticks(rotation=90)"
   ]
  },
  {
   "cell_type": "code",
   "execution_count": null,
   "id": "06b1ab0d",
   "metadata": {
    "execution": {
     "iopub.execute_input": "2024-05-14T11:09:50.923182Z",
     "iopub.status.busy": "2024-05-14T11:09:50.922731Z",
     "iopub.status.idle": "2024-05-14T11:09:51.252170Z",
     "shell.execute_reply": "2024-05-14T11:09:51.250956Z"
    },
    "papermill": {
     "duration": 0.348941,
     "end_time": "2024-05-14T11:09:51.255411",
     "exception": false,
     "start_time": "2024-05-14T11:09:50.906470",
     "status": "completed"
    },
    "tags": []
   },
   "outputs": [],
   "source": [
    "sns.countplot(data=df,x=\"Against\",order=df[\"Against\"].value_counts().index)\n",
    "plt.xticks(rotation=90)"
   ]
  },
  {
   "cell_type": "code",
   "execution_count": null,
   "id": "06242b11",
   "metadata": {
    "execution": {
     "iopub.execute_input": "2024-05-14T11:09:51.289261Z",
     "iopub.status.busy": "2024-05-14T11:09:51.288244Z",
     "iopub.status.idle": "2024-05-14T11:09:51.551503Z",
     "shell.execute_reply": "2024-05-14T11:09:51.550138Z"
    },
    "papermill": {
     "duration": 0.28281,
     "end_time": "2024-05-14T11:09:51.554293",
     "exception": false,
     "start_time": "2024-05-14T11:09:51.271483",
     "status": "completed"
    },
    "tags": []
   },
   "outputs": [],
   "source": [
    "sns.countplot(data=df,x=\"Position\",order=df[\"Position\"].value_counts().index)\n",
    "plt.xticks(rotation=90)"
   ]
  }
 ],
 "metadata": {
  "kaggle": {
   "accelerator": "none",
   "dataSources": [
    {
     "datasetId": 4990687,
     "sourceId": 8390908,
     "sourceType": "datasetVersion"
    }
   ],
   "dockerImageVersionId": 30698,
   "isGpuEnabled": false,
   "isInternetEnabled": true,
   "language": "python",
   "sourceType": "notebook"
  },
  "kernelspec": {
   "display_name": "Python 3",
   "language": "python",
   "name": "python3"
  },
  "language_info": {
   "codemirror_mode": {
    "name": "ipython",
    "version": 3
   },
   "file_extension": ".py",
   "mimetype": "text/x-python",
   "name": "python",
   "nbconvert_exporter": "python",
   "pygments_lexer": "ipython3",
   "version": "3.9.19"
  },
  "papermill": {
   "default_parameters": {},
   "duration": 11.172389,
   "end_time": "2024-05-14T11:09:54.848676",
   "environment_variables": {},
   "exception": null,
   "input_path": "__notebook__.ipynb",
   "output_path": "__notebook__.ipynb",
   "parameters": {},
   "start_time": "2024-05-14T11:09:43.676287",
   "version": "2.5.0"
  }
 },
 "nbformat": 4,
 "nbformat_minor": 5
}

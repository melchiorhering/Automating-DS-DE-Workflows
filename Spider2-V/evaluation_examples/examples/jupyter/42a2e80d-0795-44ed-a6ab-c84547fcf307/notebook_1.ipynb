{
 "cells": [
  {
   "cell_type": "markdown",
   "id": "b55f3601",
   "metadata": {},
   "source": [
    "# Working with Categorical Data in Python"
   ]
  },
  {
   "cell_type": "markdown",
   "id": "a3003051",
   "metadata": {},
   "source": [
    "## Introduction to Categorical Data"
   ]
  },
  {
   "cell_type": "code",
   "execution_count": null,
   "id": "6ea6343a",
   "metadata": {},
   "outputs": [],
   "source": [
    "import pandas as pd"
   ]
  },
  {
   "cell_type": "code",
   "execution_count": null,
   "id": "f370310e",
   "metadata": {},
   "outputs": [],
   "source": [
    "adult = pd.read_csv('adult.csv')"
   ]
  },
  {
   "cell_type": "code",
   "execution_count": null,
   "id": "a89226eb",
   "metadata": {},
   "outputs": [],
   "source": [
    "adult.head()"
   ]
  },
  {
   "cell_type": "code",
   "execution_count": null,
   "id": "2de69f40",
   "metadata": {},
   "outputs": [],
   "source": [
    "\n",
    "print(adult['Above/Below 50k'].describe())"
   ]
  },
  {
   "cell_type": "code",
   "execution_count": null,
   "id": "b29e94d6",
   "metadata": {},
   "outputs": [],
   "source": [
    "\n",
    "print(adult['Above/Below 50k'].value_counts())"
   ]
  },
  {
   "cell_type": "code",
   "execution_count": null,
   "id": "0fc87348",
   "metadata": {},
   "outputs": [],
   "source": [
    "print(adult['Above/Below 50k'].value_counts(normalize=True))"
   ]
  }
 ],
 "metadata": {
  "kernelspec": {
   "display_name": "Python 3 (ipykernel)",
   "language": "python",
   "name": "python3"
  },
  "language_info": {
   "codemirror_mode": {
    "name": "ipython",
    "version": 3
   },
   "file_extension": ".py",
   "mimetype": "text/x-python",
   "name": "python",
   "nbconvert_exporter": "python",
   "pygments_lexer": "ipython3",
   "version": "3.9.6"
  }
 },
 "nbformat": 4,
 "nbformat_minor": 5
}

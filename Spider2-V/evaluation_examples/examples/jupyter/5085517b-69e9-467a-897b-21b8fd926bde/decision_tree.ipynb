{
  "metadata": {
    "kernelspec": {
      "name": "python",
      "display_name": "Python (Pyodide)",
      "language": "python"
    },
    "language_info": {
      "codemirror_mode": {
        "name": "python",
        "version": 3
      },
      "file_extension": ".py",
      "mimetype": "text/x-python",
      "name": "python",
      "nbconvert_exporter": "python",
      "pygments_lexer": "ipython3",
      "version": "3.8"
    }
  },
  "nbformat_minor": 4,
  "nbformat": 4,
  "cells": [
    {
      "cell_type": "markdown",
      "source": "# Decision Tree Classifier Building in Scikit-learn",
      "metadata": {}
    },
    {
      "cell_type": "markdown",
      "source": "In this task, you need to build a Decision Tree Model to predict the onset of diabetes based on different diagnostic measures. The dataset is from Kaggle, named Pima Indians Diabetes Database.",
      "metadata": {}
    },
    {
      "cell_type": "markdown",
      "source": "## Importing Required Libraries",
      "metadata": {}
    },
    {
      "cell_type": "code",
      "source": "import pandas as pd\nfrom sklearn.tree import DecisionTreeClassifier\nfrom sklearn.model_selection import train_test_split\nfrom sklearn import metrics",
      "metadata": {
        "trusted": true
      },
      "outputs": [],
      "execution_count": null
    },
    {
      "cell_type": "markdown",
      "source": "## Loading Data",
      "metadata": {}
    },
    {
      "cell_type": "markdown",
      "source": "Let's first load the required Pima Indian Diabetes dataset using pandas' read CSV function. You can check the first few rows of the dataset by executing the cell below.",
      "metadata": {}
    },
    {
      "cell_type": "code",
      "source": "col_names = ['pregnant', 'glucose', 'bp', 'skin', 'insulin', 'bmi', 'pedigree', 'age', 'label']\npima = pd.read_csv(\"diabetes.csv\", header=None, names=col_names)\npima.head()",
      "metadata": {
        "trusted": true
      },
      "outputs": [],
      "execution_count": null
    },
    {
      "cell_type": "markdown",
      "source": "## Feature Selection",
      "metadata": {}
    },
    {
      "cell_type": "markdown",
      "source": "Here, you need to divide given columns into two types of variables, dependent (or target variable) ``X`` and independent variable (or feature variables) ``y``. The selected features are ``['pregnant', 'insulin', 'bmi', 'age', 'glucose', 'bp', 'pedigree']``.",
      "metadata": {}
    },
    {
      "cell_type": "code",
      "source": "feature_cols = ['pregnant', 'insulin', 'bmi', 'age', 'glucose', 'bp', 'pedigree']\n# TODO1: Select the corresponding features and extract feature variables X and label variable y\n",
      "metadata": {
        "trusted": true
      },
      "outputs": [],
      "execution_count": null
    },
    {
      "cell_type": "markdown",
      "source": "## Splitting Data",
      "metadata": {}
    },
    {
      "cell_type": "code",
      "source": "X_train, X_test, y_train, y_test = train_test_split(X, y, test_size=0.3, random_state=1)",
      "metadata": {
        "trusted": true
      },
      "outputs": [],
      "execution_count": null
    },
    {
      "cell_type": "markdown",
      "source": "## Building Decision Tree Model",
      "metadata": {}
    },
    {
      "cell_type": "markdown",
      "source": "Here, you need to build a decision tree classifier, train it using training dataset, and calculate the predicted values on the testing dataset. The predicted values should be stored in ``y_pred``. To ensure a reproducible evaluation, set the ``random_state`` to 42.",
      "metadata": {}
    },
    {
      "cell_type": "code",
      "source": "SEED = 42\n# TODO2: Calculate y_pred using decision tree model\n",
      "metadata": {
        "trusted": true
      },
      "outputs": [],
      "execution_count": null
    },
    {
      "cell_type": "markdown",
      "source": "## Evaluate Model",
      "metadata": {}
    },
    {
      "cell_type": "markdown",
      "source": "Let's estimate how accurately the classifier or model can predict the type of cultivars. Accuracy can be computed by comparing actual test set values and predicted values.",
      "metadata": {}
    },
    {
      "cell_type": "code",
      "source": "print(\"Accuracy:\",metrics.accuracy_score(y_test, y_pred))",
      "metadata": {
        "trusted": true
      },
      "outputs": [],
      "execution_count": null
    }
  ]
}
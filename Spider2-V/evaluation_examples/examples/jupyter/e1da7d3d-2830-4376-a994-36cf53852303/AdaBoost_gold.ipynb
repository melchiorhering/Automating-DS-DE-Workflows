{
  "metadata": {
    "kernelspec": {
      "name": "python",
      "display_name": "Python (Pyodide)",
      "language": "python"
    },
    "language_info": {
      "codemirror_mode": {
        "name": "python",
        "version": 3
      },
      "file_extension": ".py",
      "mimetype": "text/x-python",
      "name": "python",
      "nbconvert_exporter": "python",
      "pygments_lexer": "ipython3",
      "version": "3.8"
    }
  },
  "nbformat_minor": 4,
  "nbformat": 4,
  "cells": [
    {
      "cell_type": "markdown",
      "source": "# Tuning AdaBoost Classifiers",
      "metadata": {}
    },
    {
      "cell_type": "markdown",
      "source": "Help me update the following AdaBoost Classifier to achieve a ``1.0`` accuracy score on the famous Iris Dataset. Don't worry, the Iris Dataset is simple enough to achieve a 100% accuracy.",
      "metadata": {}
    },
    {
      "cell_type": "markdown",
      "source": "After you've made the changes, run all the cells again and save the file.",
      "metadata": {}
    },
    {
      "cell_type": "markdown",
      "source": "## Importing Required Libraries",
      "metadata": {}
    },
    {
      "cell_type": "code",
      "source": "from sklearn.ensemble import AdaBoostClassifier\nfrom sklearn import datasets\nfrom sklearn.model_selection import train_test_split\nfrom sklearn import metrics",
      "metadata": {
        "trusted": true
      },
      "outputs": [],
      "execution_count": 1
    },
    {
      "cell_type": "markdown",
      "source": "## Loading Dataset",
      "metadata": {}
    },
    {
      "cell_type": "code",
      "source": "iris = datasets.load_iris()\nX = iris.data\ny = iris.target",
      "metadata": {
        "trusted": true
      },
      "outputs": [],
      "execution_count": 2
    },
    {
      "cell_type": "markdown",
      "source": "## Splitting Dataset",
      "metadata": {}
    },
    {
      "cell_type": "code",
      "source": "X_train, X_test, y_train, y_test = train_test_split(X, y, test_size=0.3, random_state=42)",
      "metadata": {
        "trusted": true
      },
      "outputs": [],
      "execution_count": 3
    },
    {
      "cell_type": "markdown",
      "source": "## Building the AdaBoost Model",
      "metadata": {}
    },
    {
      "cell_type": "code",
      "source": "abc = AdaBoostClassifier(n_estimators=40, learning_rate=0.8)\nmodel = abc.fit(X_train, y_train)\ny_pred = model.predict(X_test)",
      "metadata": {
        "trusted": true
      },
      "outputs": [],
      "execution_count": 6
    },
    {
      "cell_type": "markdown",
      "source": "## Evaluate Model",
      "metadata": {}
    },
    {
      "cell_type": "code",
      "source": "print(\"Accuracy:\",metrics.accuracy_score(y_test, y_pred))",
      "metadata": {
        "trusted": true
      },
      "outputs": [
        {
          "name": "stdout",
          "text": "Accuracy: 1.0\n",
          "output_type": "stream"
        }
      ],
      "execution_count": 7
    }
  ]
}